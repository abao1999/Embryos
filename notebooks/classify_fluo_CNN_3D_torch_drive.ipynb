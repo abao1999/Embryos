{
  "nbformat": 4,
  "nbformat_minor": 0,
  "metadata": {
    "accelerator": "GPU",
    "colab": {
      "name": "classify_fluo_CNN_3D_torch_drive.ipynb",
      "provenance": [],
      "collapsed_sections": []
    },
    "kernelspec": {
      "display_name": "Python 3",
      "language": "python",
      "name": "python3"
    },
    "language_info": {
      "codemirror_mode": {
        "name": "ipython",
        "version": 3
      },
      "file_extension": ".py",
      "mimetype": "text/x-python",
      "name": "python",
      "nbconvert_exporter": "python",
      "pygments_lexer": "ipython3",
      "version": "3.7.7"
    }
  },
  "cells": [
    {
      "cell_type": "markdown",
      "metadata": {
        "id": "_Aq3XceQyuik"
      },
      "source": [
        "# CNN for Fluo Classification"
      ]
    },
    {
      "cell_type": "markdown",
      "metadata": {
        "id": "9C7UbnLHT9a-"
      },
      "source": [
        "This tutorial was very helpful, and some code here is taken from it: https://colab.research.google.com/drive/1B5KQvPySqYEa6XicRHdOwgv8fN1BrCgQ#scrollTo=LI6JtYwTt2HM"
      ]
    },
    {
      "cell_type": "code",
      "metadata": {
        "id": "Zt0YxNnZsa6O",
        "outputId": "0a01ae48-e87a-48f3-e7dd-f8e2ad208495",
        "colab": {
          "resources": {
            "http://localhost:8080/nbextensions/google.colab/files.js": {
              "data": "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",
              "headers": [
                [
                  "content-type",
                  "application/javascript"
                ]
              ],
              "ok": true,
              "status": 200,
              "status_text": ""
            }
          },
          "base_uri": "https://localhost:8080/",
          "height": 1000
        }
      },
      "source": [
        "# https://stackoverflow.com/questions/48905127/importing-py-files-in-google-colab/48919022\n",
        "import os\n",
        "from google.colab import files\n",
        "src = list(files.upload().values())[0]\n",
        "open('utils.py','wb').write(src)\n",
        "# print(os.path.abspath('utils.py'))\n",
        "import utils\n",
        "help(utils)"
      ],
      "execution_count": null,
      "outputs": [
        {
          "output_type": "display_data",
          "data": {
            "text/html": [
              "\n",
              "     <input type=\"file\" id=\"files-e206b21f-a19e-41ff-aa5a-b5bb362e5071\" name=\"files[]\" multiple disabled\n",
              "        style=\"border:none\" />\n",
              "     <output id=\"result-e206b21f-a19e-41ff-aa5a-b5bb362e5071\">\n",
              "      Upload widget is only available when the cell has been executed in the\n",
              "      current browser session. Please rerun this cell to enable.\n",
              "      </output>\n",
              "      <script src=\"/nbextensions/google.colab/files.js\"></script> "
            ],
            "text/plain": [
              "<IPython.core.display.HTML object>"
            ]
          },
          "metadata": {
            "tags": []
          }
        },
        {
          "output_type": "stream",
          "text": [
            "Saving utils.py to utils.py\n",
            "Help on module utils:\n",
            "\n",
            "NAME\n",
            "    utils\n",
            "\n",
            "FUNCTIONS\n",
            "    avg_across_z(img, normalize=False)\n",
            "        Returns a new image where each pixel\n",
            "        intensity is the average for that pixel across\n",
            "        all images in the z-stack.\n",
            "    \n",
            "    get_img_at_t(t, img)\n",
            "    \n",
            "    get_max_pixel(embryos, data_path)\n",
            "        Obtains the maximum pixel value across a set of embryos\n",
            "        embryos: subset of p_embryo... train, val, test\n",
            "        data_path: path from which to load processed np embryo data\n",
            "    \n",
            "    get_z_slice(z, img)\n",
            "    \n",
            "    max_across_z(img, normalize=False)\n",
            "        Returns a new image where each pixel\n",
            "        intensity is the maximum for that pixel across\n",
            "        all images in the z-stack.\n",
            "    \n",
            "    middle_z(img)\n",
            "    \n",
            "    min_across_z(img, normalize=False)\n",
            "        Returns a new image where each pixel\n",
            "        intensity is the minimum for that pixel across\n",
            "        all images in the z-stack.\n",
            "    \n",
            "    normalize(img)\n",
            "        Normalizes pixel values across all images in img\n",
            "        to range 0-1.\n",
            "    \n",
            "    prepare_drive()\n",
            "        Runs system command to ensure shared drive\n",
            "        mounts properly.\n",
            "    \n",
            "    save_nps_as_png(embryos, save_path, specs, window=None, normalize='per_embryo')\n",
            "        Save dataset in image format, sorted by polarization state\n",
            "        embryos: subset of p_embryo... train, val, test\n",
            "        specs = (data_path, pol_path, video_time_info)\n",
            "        save_path: path to save png to... data_path + {'train', 'val', 'test'}\n",
            "        specs: tuple with data_path (str: processed np embryo data),\n",
            "                          pol_path (str: embryo polarization labels),\n",
            "                          video_time_info (df: info per embryo)\n",
            "        window: number of t steps from first polarized index to ignore\n",
            "        normalize: type of normalization to apply (per_embryo, per_timestep, #)\n",
            "    \n",
            "    split_train_test_val(home_path, embryo_inds)\n",
            "        Splits a set of embryos into train/test/val:\n",
            "        home_path: path to shared drive folder\n",
            "        embryo_inds: list of embryos indices to use\n",
            "    \n",
            "    within_window(embryo_idx, t, window, video_time_info)\n",
            "        Returns if an embryo timestep is close to the 1st polarized time\n",
            "        embryo_idx: index of current embryo (value from 'embryo_index' col)\n",
            "        t: timestep of current\n",
            "        window: number of t steps from first polarized index to ignore\n",
            "        video_time_info: dataframe with labeling/timing information per embryo\n",
            "\n",
            "FILE\n",
            "    /content/utils.py\n",
            "\n",
            "\n"
          ],
          "name": "stdout"
        }
      ]
    },
    {
      "cell_type": "markdown",
      "metadata": {
        "id": "QPvhmd4ucCYm"
      },
      "source": [
        "This code makes sure the shared drive mount (later on) will work:"
      ]
    },
    {
      "cell_type": "code",
      "metadata": {
        "id": "_mpn7EYgcA4S"
      },
      "source": [
        "utils.prepare_drive()\n",
        "from google.colab import drive"
      ],
      "execution_count": null,
      "outputs": []
    },
    {
      "cell_type": "markdown",
      "metadata": {
        "id": "vChd6dfWyuil"
      },
      "source": [
        "### Install Dependencies"
      ]
    },
    {
      "cell_type": "code",
      "metadata": {
        "id": "H29TGLErCP5r"
      },
      "source": [
        "%matplotlib inline"
      ],
      "execution_count": null,
      "outputs": []
    },
    {
      "cell_type": "code",
      "metadata": {
        "id": "xVkEhqIhCeLH"
      },
      "source": [
        "# !pip install mxnet-cu101\n",
        "# !pip install gluoncv"
      ],
      "execution_count": null,
      "outputs": []
    },
    {
      "cell_type": "markdown",
      "metadata": {
        "id": "9TexoEExhGRy"
      },
      "source": [
        "Install Conda"
      ]
    },
    {
      "cell_type": "code",
      "metadata": {
        "id": "v03ubARIfUz6",
        "outputId": "6f99a94f-fd53-4abd-bde3-659330feef4e",
        "colab": {
          "base_uri": "https://localhost:8080/"
        }
      },
      "source": [
        "!which python\n",
        "!python --version\n",
        "!echo $PYTHONPATH"
      ],
      "execution_count": null,
      "outputs": [
        {
          "output_type": "stream",
          "text": [
            "/usr/local/bin/python\n",
            "Python 3.6.9\n",
            "/env/python\n"
          ],
          "name": "stdout"
        }
      ]
    },
    {
      "cell_type": "code",
      "metadata": {
        "id": "BTrQ-NBGgT-l"
      },
      "source": [
        "# # unset PYTHONPATH because it may interfere with Miniconda\n",
        "# %env PYTHONPATH="
      ],
      "execution_count": null,
      "outputs": []
    },
    {
      "cell_type": "code",
      "metadata": {
        "id": "VfmThZmRgSBT"
      },
      "source": [
        "# %%bash\n",
        "# MINICONDA_INSTALLER_SCRIPT=Miniconda3-4.5.4-Linux-x86_64.sh\n",
        "# MINICONDA_PREFIX=/usr/local\n",
        "# wget https://repo.continuum.io/miniconda/$MINICONDA_INSTALLER_SCRIPT\n",
        "# chmod +x $MINICONDA_INSTALLER_SCRIPT\n",
        "# ./$MINICONDA_INSTALLER_SCRIPT -b -f -p $MINICONDA_PREFIX"
      ],
      "execution_count": null,
      "outputs": []
    },
    {
      "cell_type": "code",
      "metadata": {
        "id": "G4vGCiaSgqK5"
      },
      "source": [
        "# !which conda # should return /usr/local/bin/conda\n",
        "# !conda --version # should return 4.5.4\n",
        "\n",
        "# # verify the Python executable isn't impacted\n",
        "# !which python # still returns /usr/local/bin/python\n",
        "\n",
        "# # Anaconda has slightly different version of Python\n",
        "# !python --version # now returns Python 3.6.5 :: Anaconda, Inc."
      ],
      "execution_count": null,
      "outputs": []
    },
    {
      "cell_type": "code",
      "metadata": {
        "id": "lZpT42IvhRpt"
      },
      "source": [
        "# # update conda without updating Python to 3.7 or 3.8\n",
        "\n",
        "# %%bash\n",
        "# conda install --channel defaults conda python=3.6 --yes\n",
        "# conda update --channel defaults --all --yes"
      ],
      "execution_count": null,
      "outputs": []
    },
    {
      "cell_type": "code",
      "metadata": {
        "id": "ZtN-JfnHhgiY"
      },
      "source": [
        "# !conda --version # now returns 4.9.1\n",
        "# !python --version # now returns Python 3.6.12 :: Anaconda, Inc."
      ],
      "execution_count": null,
      "outputs": []
    },
    {
      "cell_type": "code",
      "metadata": {
        "id": "SLCxtb1VhuEc"
      },
      "source": [
        "# # Append to sys.path... add directory where Conda will isntall packages to list of directories Python searches through\n",
        "# import sys\n",
        "# # print(sys.path)\n",
        "# # !ls /usr/local/lib/python3.6/dist-packages\n",
        "\n",
        "# # All packages installed with Conda will go into this directory, which we add to path below:\n",
        "# conda_pack_dir = \"/usr/local/lib/python3.6/site-packages\"\n",
        "# if conda_pack_dir not in sys.path:\n",
        "#     _ = (sys.path.append(cond_pack_dir))\n",
        "# print(sys.path)"
      ],
      "execution_count": null,
      "outputs": []
    },
    {
      "cell_type": "markdown",
      "metadata": {
        "id": "bsF2mJFWj8l1"
      },
      "source": [
        "Install Pytorch (Not actually necessary because colab comes wth Torch)"
      ]
    },
    {
      "cell_type": "code",
      "metadata": {
        "id": "wWxMNamgjCyH"
      },
      "source": [
        "# !conda install pytorch torchvision torchaudio cudatoolkit=10.2 -c pytorch --yes"
      ],
      "execution_count": null,
      "outputs": []
    },
    {
      "cell_type": "code",
      "metadata": {
        "id": "zG53T9hI2nlC",
        "outputId": "b36717e4-bc9f-4eaa-b29d-0160fe44c9aa",
        "colab": {
          "base_uri": "https://localhost:8080/"
        }
      },
      "source": [
        "import torch\n",
        "import torch.nn as nn\n",
        "import torch.nn.functional as F\n",
        "import torchvision\n",
        "import torchvision.transforms as transforms\n",
        "from torch.utils.data import DataLoader\n",
        "\n",
        "print(\"Pytorch version: \", torch.__version__)"
      ],
      "execution_count": null,
      "outputs": [
        {
          "output_type": "stream",
          "text": [
            "Pytorch version:  1.7.0+cu101\n"
          ],
          "name": "stdout"
        }
      ]
    },
    {
      "cell_type": "code",
      "metadata": {
        "id": "aO-06Rlqk8W9"
      },
      "source": [
        "import pandas as pd\n",
        "import numpy as np\n",
        "import os, time, shutil\n",
        "import matplotlib.pyplot as plt\n",
        "from PIL import Image"
      ],
      "execution_count": null,
      "outputs": []
    },
    {
      "cell_type": "markdown",
      "metadata": {
        "id": "2PWecmH8yui0"
      },
      "source": [
        "### Mount Google Drive"
      ]
    },
    {
      "cell_type": "code",
      "metadata": {
        "id": "VCMW-mPvwrcw",
        "outputId": "7aa659d3-da5d-437f-e69b-a6941ce702a3",
        "colab": {
          "base_uri": "https://localhost:8080/"
        }
      },
      "source": [
        "import os\n",
        "from google.colab import drive   \n",
        "\n",
        "# mount the google drive to my Colab session\n",
        "drive.mount('/content/gdrive')\n",
        "# use the google drive in my Colab session\n",
        "home_path = '/content/gdrive/Shared drives/Embryo_data'\n",
        "print(os.listdir(home_path))"
      ],
      "execution_count": null,
      "outputs": [
        {
          "output_type": "stream",
          "text": [
            "Mounted at /content/gdrive\n",
            "['mxnet_cnn2d_embryo_58_fine_tune_data_aug_ResNet50_v2_order_random.ipynb', 'Embryo1', 'Embryo3', 'Embryo12', 'Embryo13', 'Embryo16', 'Embryo20', 'Embryo19', 'Embryo18', 'Embryo24', 'Embryo40', 'Embryo39', 'Embryo42', 'Embryo52', 'Embryo50', 'Embryo49', 'Embryo45', 'Embryo46', 'Embryo47', 'Embryo23', 'Embryo33', 'Embryo25', 'Embryo95', 'Embryo97', 'Embryo96', 'Embryo98', 'Embryo101', 'Embryo99', 'Embryo100', 'Embryo102', 'Embryo76', 'Embryo78', 'Embryo81', 'Embryo79', 'Embryo80', 'Embryo82', 'Embryo84', 'Embryo83', 'Embryo85', 'Embryo87', 'Embryo88', 'Embryo92', 'Embryo94', 'Embryo93', 'embryo_info_CS101.xlsx', 'data', 'processed']\n"
          ],
          "name": "stdout"
        }
      ]
    },
    {
      "cell_type": "markdown",
      "metadata": {
        "id": "DVfTd_Uhyui4"
      },
      "source": [
        "### Get Data"
      ]
    },
    {
      "cell_type": "code",
      "metadata": {
        "id": "jarQcT4Myge3",
        "outputId": "41939657-abbd-4564-d023-33ec2eb435e2",
        "colab": {
          "base_uri": "https://localhost:8080/"
        }
      },
      "source": [
        "# Fixing the random seed for reproducibility\n",
        "torch.manual_seed(42)\n",
        "np.random.seed(42)\n",
        "\n",
        "# Available high quality data\n",
        "embryo_inds = [1, 3, 12, 13, 16, 18, 19, 24, 39, 40, 42, 45, 46, 47, 49, 50, 52]\n",
        "\n",
        "# Directory of the processed *.npy files\n",
        "processed_path = f'{home_path}/processed'\n",
        "polar_processed_path = f'{processed_path}/polarization'\n",
        "\n",
        "video_time_info, train_embryos, val_embryos, test_embryos = utils.split_train_test_val(home_path, embryo_inds)\n",
        "\n",
        "z_agg_mode = \"Min Z\"\n",
        "data_path = f'{home_path}/data/fluo_data'\n",
        "pol_path = f'{processed_path}/polarization'\n",
        "\n",
        "save_path = f'{processed_path}/fluo_data/3d'\n",
        "train_path = os.path.join(save_path, 'train')\n",
        "val_path = os.path.join(save_path, 'val')\n",
        "test_path = os.path.join(save_path, 'test')"
      ],
      "execution_count": null,
      "outputs": [
        {
          "output_type": "stream",
          "text": [
            "              t_num  first_anno_pol_time\n",
            "embryo_index                            \n",
            "1                21                   17\n",
            "3                21                   12\n",
            "12              143                   11\n",
            "13              143                   12\n",
            "16              143                   30\n",
            "18              143                   27\n",
            "19              143                   32\n",
            "24               21                   20\n",
            "39               21                   12\n",
            "40               21                    8\n",
            "42               21                   16\n",
            "45               21                   19\n",
            "46               21                   19\n",
            "47               21                   17\n",
            "49               21                   21\n",
            "50               21                   21\n",
            "52               21                   13\n",
            "[1, 3, 18, 50, 45, 49, 39, 47, 12, 40, 52, 16, 24, 42]\n",
            "[46]\n",
            "[13, 19]\n"
          ],
          "name": "stdout"
        }
      ]
    },
    {
      "cell_type": "markdown",
      "metadata": {
        "id": "LAJrlvKDyui8"
      },
      "source": [
        "### Save NP Data as PNG for Training"
      ]
    },
    {
      "cell_type": "code",
      "metadata": {
        "id": "4DeDWzqZ1xKt",
        "outputId": "d97b6a9f-8d77-41b5-86b8-6a84ee7a341d",
        "colab": {
          "base_uri": "https://localhost:8080/"
        }
      },
      "source": [
        "# Actually create the images\n",
        "specs = (data_path, pol_path, video_time_info)\n",
        "\n",
        "utils.save_nps_as_png(train_embryos, train_path, specs, window=None, normalize='per_embryo', dim=3)\n",
        "utils.save_nps_as_png(test_embryos, test_path, specs, window=None, normalize='per_embryo', dim=3)\n",
        "utils.save_nps_as_png(val_embryos, val_path, specs, window=None, normalize='per_embryo', dim=3)\n",
        "\n",
        "# utils.save_nps_as_png(train_embryos, train_path, specs, window=None, normalize='per_timestep', dim=3)\n",
        "# utils.save_nps_as_png(test_embryos, test_path, specs, window=None, normalize='per_timestep', dim=3)\n",
        "# utils.save_nps_as_png(val_embryos, val_path, specs, window=None, normalize='per_timestep', dim=3)\n",
        "\n",
        "# max_train_pixel = utils.get_max_pixel(train_embryos, data_path)\n",
        "# utils.save_nps_as_png(train_embryos, train_path, specs, window=None, normalize=max_train_pixel, dim=3)\n",
        "# utils.save_nps_as_png(test_embryos, test_path, specs, window=None, normalize=max_train_pixel, dim=3)\n",
        "# utils.save_nps_as_png(val_embryos, val_path, specs, window=None, normalize=max_train_pixel, dim=3)"
      ],
      "execution_count": null,
      "outputs": [
        {
          "output_type": "stream",
          "text": [
            "1 21\n"
          ],
          "name": "stdout"
        },
        {
          "output_type": "stream",
          "text": [
            "/content/utils.py:174: RuntimeWarning: invalid value encountered in true_divide\n",
            "  embryo = embryo.astype(np.float64) / np.max(embryo)\n"
          ],
          "name": "stderr"
        },
        {
          "output_type": "stream",
          "text": [
            "3 21\n",
            "18 143\n",
            "50 21\n",
            "45 21\n",
            "49 21\n",
            "39 21\n",
            "47 21\n",
            "12 143\n",
            "40 21\n",
            "16 143\n",
            "24 21\n",
            "42 21\n",
            "13 143\n",
            "19 143\n",
            "46 21\n"
          ],
          "name": "stdout"
        }
      ]
    },
    {
      "cell_type": "markdown",
      "metadata": {
        "id": "mhHeN0l4CP5y"
      },
      "source": [
        "### Set Hyperparameters"
      ]
    },
    {
      "cell_type": "code",
      "metadata": {
        "id": "kVQCpNXYCP53",
        "outputId": "e801b150-18f2-4a60-b82a-219a1628a9d5",
        "colab": {
          "base_uri": "https://localhost:8080/"
        }
      },
      "source": [
        "classes = 2\n",
        "\n",
        "epochs = 15\n",
        "lr = 0.001\n",
        "per_device_batch_size = 20\n",
        "momentum = 0.9\n",
        "wd = 0.0001\n",
        "\n",
        "lr_factor = 0.75\n",
        "lr_steps = [10, 20, 30, np.inf]\n",
        "\n",
        "num_workers = 1\n",
        "num_gpus = 1\n",
        "gpus = [i for i in range(num_gpus)]\n",
        "\n",
        "device = torch.device(gpus[0]) if num_gpus > 0 else [torch.device('cpu')]\n",
        "\n",
        "batch_size = per_device_batch_size * max(num_gpus, 1)\n",
        "print(device)"
      ],
      "execution_count": null,
      "outputs": [
        {
          "output_type": "stream",
          "text": [
            "cuda:0\n"
          ],
          "name": "stdout"
        }
      ]
    },
    {
      "cell_type": "markdown",
      "metadata": {
        "id": "THLMmIhfCP56"
      },
      "source": [
        "Things to keep in mind:\n",
        "\n",
        "1. ``epochs = 5`` is just for this tutorial with the tiny dataset. please change it to a larger number in your experiments, for instance 40.\n",
        "2. ``per_device_batch_size`` is also set to a small number. In your experiments you can try larger number like 64.\n",
        "3. remember to tune ``num_gpus`` and ``num_workers`` according to your machine.\n",
        "4. A pre-trained model is already in a pretty good status. So we can start with a small ``lr``.\n",
        "\n",
        "### Data Augmentation\n",
        "\n",
        "In transfer learning, data augmentation can also help.\n",
        "We use the following augmentation in training:\n",
        "\n",
        "2. Randomly crop the image and resize it to 224x224\n",
        "3. Randomly flip the image horizontally\n",
        "4. Randomly jitter color and add noise\n",
        "5. Transpose the data from height*width*num_channels to num_channels*height*width, and map values from [0, 255] to [0, 1]\n",
        "6. Normalize with the mean and standard deviation from the ImageNet dataset.\n",
        "\n",
        "\n"
      ]
    },
    {
      "cell_type": "code",
      "metadata": {
        "id": "CYgiHxUECP56"
      },
      "source": [
        "## Legacy mxnet transforms\n",
        "# transform_train = transforms.Compose([\n",
        "#     transforms.Resize(600, keep_ratio=True),\n",
        "#     transforms.CenterCrop(512),\n",
        "\n",
        "#     transforms.RandomFlipLeftRight(), # Randomly flip the image horizontally\n",
        "#     transforms.RandomFlipTopBottom(),\n",
        "#     transforms.RandomLighting(0.1), # Add AlexNet-style PCA-based noise to an image\n",
        "#     transforms.RandomContrast(0.1),\n",
        "#     transforms.ToTensor(),\n",
        "#     transforms.Normalize([0.485, 0.456, 0.406], [0.229, 0.224, 0.225])\n",
        "# ])\n",
        "\n",
        "# transform_test = transforms.Compose([\n",
        "#     transforms.Resize(600, keep_ratio=True),\n",
        "#     transforms.CenterCrop(512),\n",
        "#     transforms.ToTensor(),\n",
        "#     transforms.Normalize([0.485, 0.456, 0.406], [0.229, 0.224, 0.225])\n",
        "# ])\n",
        "\n",
        "# an example Torch transform:\n",
        "\n",
        "# transform = transforms.Compose([\n",
        "#     transforms.Resize([224,224]), # Resizing the image as the VGG only take 224 x 244 as input size\n",
        "#     transforms.RandomHorizontalFlip(), # Flip the data horizontally\n",
        "#     #TODO if it is needed, add the random crop\n",
        "#     transforms.ToTensor(),\n",
        "#     transforms.Normalize(mean=(0.5,0.5,0.5), std=(0.5,0.5,0.5))\n",
        "# ])\n",
        "\n",
        "transform = transforms.Compose([\n",
        "    transforms.ToTensor(),\n",
        "    transforms.Normalize(mean=(0.5, 0.5, 0.5), std=(0.5, 0.5, 0.5))\n",
        "])"
      ],
      "execution_count": null,
      "outputs": []
    },
    {
      "cell_type": "markdown",
      "metadata": {
        "id": "6mRtApbiyujH"
      },
      "source": [
        "### Data Loaders"
      ]
    },
    {
      "cell_type": "markdown",
      "metadata": {
        "id": "hwujcM-Qw8-B"
      },
      "source": [
        "First we define a subset of the ataset so it is faster to train"
      ]
    },
    {
      "cell_type": "code",
      "metadata": {
        "id": "8_Ob1yQmxCIM"
      },
      "source": [
        "from torch.utils.data.sampler import SubsetRandomSampler\n",
        "\n",
        "n_training_samples = 20 # Max: 50 000 - n_val_samples\n",
        "n_val_samples = 5\n",
        "n_test_samples = 5\n",
        "\n",
        "train_sampler = SubsetRandomSampler(np.arange(n_training_samples, dtype=np.int64))\n",
        "val_sampler = SubsetRandomSampler(np.arange(n_training_samples, n_training_samples + n_val_samples, dtype=np.int64))\n",
        "test_sampler = SubsetRandomSampler(np.arange(n_test_samples, dtype=np.int64))\n",
        "# (In the last case, indexes do not need to account for training ones because the train=False parameter in datasets.CIFAR will select from the test set)"
      ],
      "execution_count": null,
      "outputs": []
    },
    {
      "cell_type": "markdown",
      "metadata": {
        "id": "_OKZ2hq1CP59"
      },
      "source": [
        "With the data augmentation functions, we can define our data loaders:\n",
        "\n"
      ]
    },
    {
      "cell_type": "code",
      "metadata": {
        "id": "226lVHP2CP5-",
        "outputId": "d1f8bb55-0312-4a59-9207-a6c4e314e760",
        "colab": {
          "base_uri": "https://localhost:8080/"
        }
      },
      "source": [
        "# filelist = [f for f in os.listdir(train_path) if os.path.isfile(os.path.join(train_path, f))]\n",
        "# print(filelist)\n",
        "\n",
        "# TODO: Shuffle file list\n",
        "\n",
        "# def check_png(filename):\n",
        "#   if filename.lower().endswith('.png')\n",
        "#       return True\n",
        "#   return False\n",
        "\n",
        "# def check_image(path):\n",
        "#     try:\n",
        "#         im = Image.open(path)\n",
        "#         return True\n",
        "#     except:\n",
        "#         return False\n",
        "\n",
        "def npy_loader(path):\n",
        "    sample = torch.from_numpy(np.load(path))\n",
        "    return sample\n",
        "    \n",
        "train_data = datasets.DatasetFolder(root=train_path, loader=npy_loader, extensions=['.npy'])\n",
        "val_data = datasets.DatasetFolder(root=val_path, loader=npy_loader, extensions=['.npy'])\n",
        "test_data = datasets.DatasetFolder(root=test_path, loader=npy_loader, extensions=['.npy'])\n",
        "\n",
        "# train_data = torchvision.datasets.ImageFolder(root=train_path, transform=transform, target_transform=None, is_valid_file=check_image)\n",
        "# val_data = torchvision.datasets.ImageFolder(root=val_path, transform=transform, target_transform=None, is_valid_file=check_image)\n",
        "# test_data = torchvision.datasets.ImageFolder(root=test_path, transform=transform, target_transform=None, is_valid_file=check_image)\n",
        "\n",
        "print(\"Train data: \", train_data)\n",
        "print(\"Validation data: \", val_data)\n",
        "print(\"Test data: \", test_data)\n",
        "\n",
        "# Define data loaders\n",
        "# train_loader = torch.utils.data.DataLoader(train_data, batch_size=batch_size, shuffle=True, sampler=None, pin_memory=False, drop_last=False)\n",
        "train_loader = torch.utils.data.DataLoader(train_data, batch_size=batch_size, shuffle=True, sampler=None, num_workers=num_workers)\n",
        "val_loader = torch.utils.data.DataLoader(val_data, batch_size=batch_size, shuffle=True, sampler=None, num_workers=num_workers)\n",
        "test_loader = torch.utils.data.DataLoader(test_data, batch_size=batch_size, shuffle=True, sampler=None, num_workers=num_workers, drop_last=True)\n",
        "\n",
        "classes = ('unpolarized', 'polarized')"
      ],
      "execution_count": null,
      "outputs": [
        {
          "output_type": "stream",
          "text": [
            "Train data:  Dataset ImageFolder\n",
            "    Number of datapoints: 660\n",
            "    Root location: /content/gdrive/Shared drives/Embryo_data/processed/fluo_data/min/train\n",
            "    StandardTransform\n",
            "Transform: Compose(\n",
            "               ToTensor()\n",
            "               Normalize(mean=(0.5, 0.5, 0.5), std=(0.5, 0.5, 0.5))\n",
            "           )\n",
            "Validation data:  Dataset ImageFolder\n",
            "    Number of datapoints: 21\n",
            "    Root location: /content/gdrive/Shared drives/Embryo_data/processed/fluo_data/min/val\n",
            "    StandardTransform\n",
            "Transform: Compose(\n",
            "               ToTensor()\n",
            "               Normalize(mean=(0.5, 0.5, 0.5), std=(0.5, 0.5, 0.5))\n",
            "           )\n",
            "Test data:  Dataset ImageFolder\n",
            "    Number of datapoints: 286\n",
            "    Root location: /content/gdrive/Shared drives/Embryo_data/processed/fluo_data/min/test\n",
            "    StandardTransform\n",
            "Transform: Compose(\n",
            "               ToTensor()\n",
            "               Normalize(mean=(0.5, 0.5, 0.5), std=(0.5, 0.5, 0.5))\n",
            "           )\n"
          ],
          "name": "stdout"
        }
      ]
    },
    {
      "cell_type": "markdown",
      "metadata": {
        "id": "Z5ihNL_357yq"
      },
      "source": [
        "Visualize some training images"
      ]
    },
    {
      "cell_type": "code",
      "metadata": {
        "id": "tCCEp0yzySSD",
        "outputId": "265db0d7-b70e-48c0-f1c7-703f88b22bb3",
        "colab": {
          "base_uri": "https://localhost:8080/",
          "height": 524
        }
      },
      "source": [
        "# get some random training images\n",
        "dataiter = iter(train_loader)\n",
        "# next(dataiter)\n",
        "\n",
        "images, labels = dataiter.next()\n",
        "\n",
        "# show images\n",
        "\n",
        "# functions to show an image\n",
        "def imshow(img):\n",
        "    \"\"\"\n",
        "    :param img: (PyTorch Tensor)\n",
        "    \"\"\"\n",
        "    # unnormalize\n",
        "    img = img / 2 + 0.5     \n",
        "    # Convert tensor to numpy array\n",
        "    npimg = img.numpy()\n",
        "    plt.figure(figsize = (20,8))\n",
        "    # Color channel first -> color channel last\n",
        "    plt.imshow(np.transpose(npimg, (1, 2, 0)))\n",
        "\n",
        "  \n",
        "imshow(torchvision.utils.make_grid(images))\n",
        "# print labels\n",
        "print(' '.join('{:>10}'.format(classes[labels[j]]) for j in range(batch_size)))"
      ],
      "execution_count": null,
      "outputs": [
        {
          "output_type": "stream",
          "text": [
            " polarized  polarized unpolarized unpolarized unpolarized  polarized  polarized  polarized  polarized  polarized  polarized  polarized  polarized  polarized unpolarized  polarized unpolarized  polarized  polarized  polarized\n"
          ],
          "name": "stdout"
        },
        {
          "output_type": "display_data",
          "data": {
            "image/png": "[encoded data removed]",
            "text/plain": [
              "<Figure size 1440x576 with 1 Axes>"
            ]
          },
          "metadata": {
            "tags": [],
            "needs_background": "light"
          }
        }
      ]
    },
    {
      "cell_type": "code",
      "metadata": {
        "id": "63nMwayBKRWZ",
        "outputId": "1a035a11-f6c5-46c3-acdf-5af08b8ce803",
        "colab": {
          "base_uri": "https://localhost:8080/"
        }
      },
      "source": [
        "images[0].shape"
      ],
      "execution_count": null,
      "outputs": [
        {
          "output_type": "execute_result",
          "data": {
            "text/plain": [
              "torch.Size([3, 512, 512])"
            ]
          },
          "metadata": {
            "tags": []
          },
          "execution_count": 23
        }
      ]
    },
    {
      "cell_type": "markdown",
      "metadata": {
        "id": "_IkfDxPxCP6B"
      },
      "source": [
        "\n",
        "Note that only ``train_data`` uses ``transform_train``, while\n",
        "``val_data`` and ``test_data`` use ``transform_test`` to produce deterministic\n",
        "results for evaluation."
      ]
    },
    {
      "cell_type": "markdown",
      "metadata": {
        "id": "gxuE5F-eyujJ"
      },
      "source": [
        "### Define Model\n",
        "\n",
        "Simple CNN for now"
      ]
    },
    {
      "cell_type": "code",
      "metadata": {
        "id": "VLB3UfHJ3VUU"
      },
      "source": [
        "class SimpleConvolutionalNetwork(nn.Module):\n",
        "    def __init__(self):\n",
        "        super(SimpleConvolutionalNetwork, self).__init__()\n",
        "        \n",
        "        self.conv1 = nn.Conv2d(3, 20, kernel_size=3, stride=1, padding=1)\n",
        "        self.pool1 = nn.MaxPool2d(kernel_size=2, stride=2, padding=0)\n",
        "        self.conv2 = nn.Conv2d(20, 50, kernel_size=3, stride=1, padding=1)\n",
        "        self.pool2 = nn.MaxPool2d(kernel_size=2, stride=2, padding=0)\n",
        "        \n",
        "        # cf comments in forward() to have step by step comments on shape progression\n",
        "        self.fc1 = nn.Linear(50 * 128 * 128, 64)\n",
        "        self.fc2 = nn.Linear(64, 2)\n",
        "\n",
        "    def forward(self, x):\n",
        "        \"\"\"\n",
        "        Forward pass,\n",
        "        x shape is (batch_size, 3, 512, 512)\n",
        "        (color channel first)\n",
        "        in the comments, we omit the batch_size in the shape\n",
        "        \"\"\"\n",
        "        # print(x.shape)\n",
        "\n",
        "        # shape : 3x512x512 -> 20x512x512\n",
        "        x = F.relu(self.conv1(x))\n",
        "        # print(x.shape)\n",
        "\n",
        "        # 20x512x512 -> 20x256x256\n",
        "        x = self.pool1(x)\n",
        "        # print(x.shape)\n",
        "\n",
        "        # 20x256x256 -> 50x256x256\n",
        "        x = F.relu(self.conv2(x))\n",
        "        # print(x.shape)\n",
        "\n",
        "        # 50x256x256 -> 50x128x128\n",
        "        x = self.pool2(x)\n",
        "        # print(x.shape)\n",
        "\n",
        "        # 50x128x128 -> 819200\n",
        "        x = x.view(-1, 50 * 128 * 128)\n",
        "        # print(x.shape)\n",
        "\n",
        "        # 819200 -> 64\n",
        "        x = F.relu(self.fc1(x))\n",
        "        # print(x.shape)\n",
        "\n",
        "        # 64 -> 2\n",
        "        # The softmax non-linearity is applied later (cf createLossAndOptimizer() fn)\n",
        "        x = self.fc2(x)\n",
        "        # print(x.shape)\n",
        "\n",
        "        return x"
      ],
      "execution_count": null,
      "outputs": []
    },
    {
      "cell_type": "code",
      "metadata": {
        "id": "KzerQKjV3dKD"
      },
      "source": [
        "class LinearClassifier(nn.Module):\n",
        "    \"\"\"\n",
        "    Linear Classifier\n",
        "    \"\"\"\n",
        "    def __init__(self):\n",
        "        super(LinearClassifier, self).__init__()\n",
        "        self.linear = nn.Linear(32 * 32 * 3, 10)\n",
        "\n",
        "    def forward(self, x):\n",
        "        # Flatten input 3x32x32 -> 3072\n",
        "        x = x.view(x.size(0), -1)\n",
        "        return self.linear(x)"
      ],
      "execution_count": null,
      "outputs": []
    },
    {
      "cell_type": "markdown",
      "metadata": {
        "id": "DaQn1kxIyujM"
      },
      "source": [
        "### Initialize Optimizer and Some Helpers"
      ]
    },
    {
      "cell_type": "code",
      "metadata": {
        "id": "Pw5oJ6PX3r8w"
      },
      "source": [
        "import torch.optim as optim\n",
        "\n",
        "def createLossAndOptimizer(net, learning_rate=0.001):\n",
        "    # it combines softmax with negative log likelihood loss\n",
        "    criterion = nn.CrossEntropyLoss()  \n",
        "    #optimizer = optim.SGD(net.parameters(), lr=learning_rate, momentum=0.9)\n",
        "    optimizer = optim.Adam(net.parameters(), lr=learning_rate)\n",
        "    return criterion, optimizer"
      ],
      "execution_count": null,
      "outputs": []
    },
    {
      "cell_type": "code",
      "metadata": {
        "id": "8gVssLY630jD"
      },
      "source": [
        "# duplicate from before, but maybe it's useful to be able to change the batch size dynamically during training...? mini-batches?\n",
        "\n",
        "def get_train_loader(batch_size):\n",
        "    return torch.utils.data.DataLoader(train_data, batch_size=batch_size, shuffle=True, sampler=None,\n",
        "                                              num_workers=num_workers)\n",
        "\n",
        "# Use larger batch size for validation to speed up computation\n",
        "val_loader = torch.utils.data.DataLoader(val_data, batch_size=batch_size, shuffle=True, sampler=None,\n",
        "                                          num_workers=num_workers)"
      ],
      "execution_count": null,
      "outputs": []
    },
    {
      "cell_type": "markdown",
      "metadata": {
        "id": "ZJG2Rg_NCP6G"
      },
      "source": [
        "### Training Loop\n",
        "\n",
        "Following is the main training loop. It is the same as the loop in\n",
        "`CIFAR10 <dive_deep_cifar10.html>`__\n",
        "and ImageNet."
      ]
    },
    {
      "cell_type": "code",
      "metadata": {
        "id": "O7mf0H-N4CmG"
      },
      "source": [
        "def train(net, batch_size, n_epochs, learning_rate):\n",
        "    \"\"\"\n",
        "    Train a neural network and print statistics of the training\n",
        "    \n",
        "    :param net: (PyTorch Neural Network)\n",
        "    :param batch_size: (int)\n",
        "    :param n_epochs: (int)  Number of iterations on the training set\n",
        "    :param learning_rate: (float) learning rate used by the optimizer\n",
        "    \"\"\"\n",
        "    print(\"===== HYPERPARAMETERS =====\")\n",
        "    print(\"batch_size=\", batch_size)\n",
        "    print(\"n_epochs=\", n_epochs)\n",
        "    print(\"learning_rate=\", learning_rate)\n",
        "    print(\"=\" * 30)\n",
        "    \n",
        "    train_loader = get_train_loader(batch_size)\n",
        "    n_minibatches = len(train_loader)\n",
        "    print(\"number of minibaches: \", n_minibatches)\n",
        "\n",
        "    criterion, optimizer = createLossAndOptimizer(net, learning_rate)\n",
        "    # Init variables used for plotting the loss\n",
        "    train_history = []\n",
        "    val_history = []\n",
        "    # train_history_acc = []\n",
        "    # val_history_acc = []\n",
        "\n",
        "    training_start_time = time.time()\n",
        "    best_error = np.inf\n",
        "    best_model_path = \"best_model.pth\"\n",
        "\n",
        "    # mutli-gpu\n",
        "    if gpus is not None and len(gpus) > 1:\n",
        "        print('multi-gpu ', gpus)\n",
        "        net = torch.nn.DataParallel(net, device_ids=gpus)  # model becomes `torch.nn.DataParallel` w/ model.module being the orignal `torch.nn.Module`\n",
        "        net = net.to(device)\n",
        "\n",
        "    # Move model to gpu if possible\n",
        "    else:\n",
        "        net = net.to(device)\n",
        "\n",
        "    for epoch in range(n_epochs):  # loop over the dataset multiple times\n",
        "\n",
        "        running_loss = 0.0\n",
        "        print_every = n_minibatches // 10\n",
        "        start_time = time.time()\n",
        "        total_train_loss = 0\n",
        "        \n",
        "        for i, (inputs, labels) in enumerate(train_loader):\n",
        "\n",
        "            # Move tensors to correct device\n",
        "            inputs, labels = inputs.to(device), labels.to(device)\n",
        "\n",
        "            # zero the parameter gradients\n",
        "            optimizer.zero_grad()\n",
        "\n",
        "            # forward + backward + optimize\n",
        "            outputs = net(inputs)\n",
        "            loss = criterion(outputs, labels)\n",
        "            loss.backward()\n",
        "            optimizer.step()\n",
        "\n",
        "            # print statistics\n",
        "            running_loss += loss.item()\n",
        "            total_train_loss += loss.item()\n",
        "\n",
        "            # print every 10th of epoch\n",
        "            if (i + 1) % (print_every + 1) == 0:    \n",
        "                print(\"Epoch {}, {:d}% \\t train_loss: {:.2f} took: {:.2f}s\".format(\n",
        "                      epoch + 1, int(100 * (i + 1) / n_minibatches), running_loss / print_every,\n",
        "                      time.time() - start_time))\n",
        "                running_loss = 0.0\n",
        "                start_time = time.time()\n",
        "\n",
        "        train_history.append(total_train_loss / len(train_loader))\n",
        "\n",
        "        total_val_loss = 0\n",
        "        # Do a pass on the validation set\n",
        "        # We don't need to compute gradient,\n",
        "        # we save memory and computation using torch.no_grad()\n",
        "        with torch.no_grad():\n",
        "          for inputs, labels in val_loader:\n",
        "              # Move tensors to correct device\n",
        "              inputs, labels = inputs.to(device), labels.to(device)\n",
        "              # Forward pass\n",
        "              predictions = net(inputs)\n",
        "              val_loss = criterion(predictions, labels)\n",
        "              total_val_loss += val_loss.item()\n",
        "            \n",
        "        val_history.append(total_val_loss / len(val_loader))\n",
        "        # Save model that performs best on validation set\n",
        "        if total_val_loss < best_error:\n",
        "            best_error = total_val_loss\n",
        "            torch.save(net.state_dict(), best_model_path)\n",
        "\n",
        "        print(\"Validation loss = {:.2f}\".format(total_val_loss / len(val_loader)))\n",
        "\n",
        "    print(\"Training Finished, took {:.2f}s\".format(time.time() - training_start_time))\n",
        "    \n",
        "    # Load best model\n",
        "    net.load_state_dict(torch.load(best_model_path))\n",
        "    \n",
        "    return train_history, val_history"
      ],
      "execution_count": null,
      "outputs": []
    },
    {
      "cell_type": "code",
      "metadata": {
        "id": "S8XS0ijo4ROm",
        "outputId": "bd5feb4a-86a4-4da0-dd6d-f36952ce6c90",
        "colab": {
          "base_uri": "https://localhost:8080/"
        }
      },
      "source": [
        "net = SimpleConvolutionalNetwork()\n",
        "\n",
        "train_history, val_history = train(net, batch_size=batch_size, n_epochs=10, learning_rate=0.001)"
      ],
      "execution_count": null,
      "outputs": [
        {
          "output_type": "stream",
          "text": [
            "===== HYPERPARAMETERS =====\n",
            "batch_size= 20\n",
            "n_epochs= 10\n",
            "learning_rate= 0.001\n",
            "==============================\n",
            "number of minibaches:  33\n",
            "Epoch 1, 12% \t train_loss: 58.98 took: 0.96s\n",
            "Epoch 1, 24% \t train_loss: 6.11 took: 0.72s\n",
            "Epoch 1, 36% \t train_loss: 1.20 took: 0.74s\n",
            "Epoch 1, 48% \t train_loss: 1.11 took: 0.74s\n",
            "Epoch 1, 60% \t train_loss: 0.93 took: 0.72s\n",
            "Epoch 1, 72% \t train_loss: 0.90 took: 0.73s\n",
            "Epoch 1, 84% \t train_loss: 0.86 took: 0.73s\n",
            "Epoch 1, 96% \t train_loss: 0.89 took: 0.77s\n",
            "Validation loss = 0.79\n",
            "Epoch 2, 12% \t train_loss: 0.90 took: 0.96s\n",
            "Epoch 2, 24% \t train_loss: 0.82 took: 0.70s\n",
            "Epoch 2, 36% \t train_loss: 0.98 took: 0.72s\n",
            "Epoch 2, 48% \t train_loss: 0.94 took: 0.71s\n",
            "Epoch 2, 60% \t train_loss: 0.88 took: 0.69s\n",
            "Epoch 2, 72% \t train_loss: 0.89 took: 0.69s\n",
            "Epoch 2, 84% \t train_loss: 0.73 took: 0.73s\n",
            "Epoch 2, 96% \t train_loss: 0.89 took: 0.71s\n",
            "Validation loss = 0.77\n",
            "Epoch 3, 12% \t train_loss: 0.90 took: 0.94s\n",
            "Epoch 3, 24% \t train_loss: 0.91 took: 0.71s\n",
            "Epoch 3, 36% \t train_loss: 0.76 took: 0.68s\n",
            "Epoch 3, 48% \t train_loss: 0.92 took: 0.70s\n",
            "Epoch 3, 60% \t train_loss: 0.89 took: 0.71s\n",
            "Epoch 3, 72% \t train_loss: 0.92 took: 0.70s\n",
            "Epoch 3, 84% \t train_loss: 0.90 took: 0.70s\n",
            "Epoch 3, 96% \t train_loss: 0.90 took: 0.71s\n",
            "Validation loss = 0.93\n",
            "Epoch 4, 12% \t train_loss: 0.79 took: 0.84s\n",
            "Epoch 4, 24% \t train_loss: 0.97 took: 0.69s\n",
            "Epoch 4, 36% \t train_loss: 0.89 took: 0.68s\n",
            "Epoch 4, 48% \t train_loss: 0.90 took: 0.68s\n",
            "Epoch 4, 60% \t train_loss: 0.85 took: 0.68s\n",
            "Epoch 4, 72% \t train_loss: 0.88 took: 0.69s\n",
            "Epoch 4, 84% \t train_loss: 0.86 took: 0.68s\n",
            "Epoch 4, 96% \t train_loss: 0.86 took: 0.68s\n",
            "Validation loss = 1.55\n",
            "Epoch 5, 12% \t train_loss: 0.90 took: 0.88s\n",
            "Epoch 5, 24% \t train_loss: 0.94 took: 0.73s\n",
            "Epoch 5, 36% \t train_loss: 0.83 took: 0.73s\n",
            "Epoch 5, 48% \t train_loss: 0.79 took: 0.75s\n",
            "Epoch 5, 60% \t train_loss: 0.85 took: 0.73s\n",
            "Epoch 5, 72% \t train_loss: 0.77 took: 0.75s\n",
            "Epoch 5, 84% \t train_loss: 0.77 took: 0.74s\n",
            "Epoch 5, 96% \t train_loss: 0.80 took: 0.76s\n",
            "Validation loss = 0.73\n",
            "Epoch 6, 12% \t train_loss: 0.68 took: 0.97s\n",
            "Epoch 6, 24% \t train_loss: 0.82 took: 0.77s\n",
            "Epoch 6, 36% \t train_loss: 0.98 took: 0.73s\n",
            "Epoch 6, 48% \t train_loss: 0.68 took: 0.74s\n",
            "Epoch 6, 60% \t train_loss: 0.78 took: 0.75s\n",
            "Epoch 6, 72% \t train_loss: 0.85 took: 0.74s\n",
            "Epoch 6, 84% \t train_loss: 0.79 took: 0.73s\n",
            "Epoch 6, 96% \t train_loss: 0.66 took: 0.75s\n",
            "Validation loss = 0.62\n",
            "Epoch 7, 12% \t train_loss: 0.73 took: 0.98s\n",
            "Epoch 7, 24% \t train_loss: 0.75 took: 0.75s\n",
            "Epoch 7, 36% \t train_loss: 0.79 took: 0.74s\n",
            "Epoch 7, 48% \t train_loss: 0.72 took: 0.74s\n",
            "Epoch 7, 60% \t train_loss: 0.80 took: 0.72s\n",
            "Epoch 7, 72% \t train_loss: 0.72 took: 0.76s\n",
            "Epoch 7, 84% \t train_loss: 0.78 took: 0.72s\n",
            "Epoch 7, 96% \t train_loss: 0.86 took: 0.72s\n",
            "Validation loss = 2.00\n",
            "Epoch 8, 12% \t train_loss: 0.86 took: 0.89s\n",
            "Epoch 8, 24% \t train_loss: 0.80 took: 0.73s\n",
            "Epoch 8, 36% \t train_loss: 0.63 took: 0.73s\n",
            "Epoch 8, 48% \t train_loss: 0.67 took: 0.73s\n",
            "Epoch 8, 60% \t train_loss: 0.68 took: 0.73s\n",
            "Epoch 8, 72% \t train_loss: 0.70 took: 0.73s\n",
            "Epoch 8, 84% \t train_loss: 0.72 took: 0.75s\n",
            "Epoch 8, 96% \t train_loss: 0.71 took: 0.73s\n",
            "Validation loss = 0.45\n",
            "Epoch 9, 12% \t train_loss: 0.71 took: 0.95s\n",
            "Epoch 9, 24% \t train_loss: 0.76 took: 0.72s\n",
            "Epoch 9, 36% \t train_loss: 0.58 took: 0.73s\n",
            "Epoch 9, 48% \t train_loss: 0.73 took: 0.74s\n",
            "Epoch 9, 60% \t train_loss: 0.68 took: 0.74s\n",
            "Epoch 9, 72% \t train_loss: 0.67 took: 0.76s\n",
            "Epoch 9, 84% \t train_loss: 0.59 took: 0.71s\n",
            "Epoch 9, 96% \t train_loss: 0.65 took: 0.75s\n",
            "Validation loss = 0.61\n",
            "Epoch 10, 12% \t train_loss: 0.63 took: 0.90s\n",
            "Epoch 10, 24% \t train_loss: 0.68 took: 0.74s\n",
            "Epoch 10, 36% \t train_loss: 0.55 took: 0.73s\n",
            "Epoch 10, 48% \t train_loss: 0.65 took: 0.75s\n",
            "Epoch 10, 60% \t train_loss: 0.70 took: 0.75s\n",
            "Epoch 10, 72% \t train_loss: 0.67 took: 0.74s\n",
            "Epoch 10, 84% \t train_loss: 0.65 took: 0.74s\n",
            "Epoch 10, 96% \t train_loss: 0.70 took: 0.73s\n",
            "Validation loss = 0.83\n",
            "Training Finished, took 79.86s\n"
          ],
          "name": "stdout"
        }
      ]
    },
    {
      "cell_type": "markdown",
      "metadata": {
        "id": "BdvNUTnVT1LF"
      },
      "source": [
        "Evaluate the accuracy"
      ]
    },
    {
      "cell_type": "code",
      "metadata": {
        "id": "T5ZhFZOETNHJ",
        "outputId": "f9865afe-5f10-4c0c-fde1-98d632d4b738",
        "colab": {
          "base_uri": "https://localhost:8080/",
          "height": 559
        }
      },
      "source": [
        "def dataset_accuracy(net, data_loader, name=\"\", print_first_k_mistakes=0):\n",
        "    net = net.to(device)\n",
        "    correct = 0\n",
        "    total = 0\n",
        "    to_print = []\n",
        "    for images_loader, labels_loader in data_loader:\n",
        "        images, labels = images_loader.to(device), labels_loader.to(device)\n",
        "        outputs = net(images)\n",
        "        _, predicted = torch.max(outputs, 1)\n",
        "        total += labels.size(0)\n",
        "        correct += (predicted == labels).sum()\n",
        "        if print_first_k_mistakes > 0:\n",
        "            for idx, match in enumerate(zip(predicted, labels)):\n",
        "                if match[0] != match[1]:\n",
        "                    error = \"Actually unpolarized:\"\n",
        "                    if match[1] == 1:\n",
        "                        error = \"Actually polarized:\"\n",
        "                    to_print.append((error, images_loader[idx]))\n",
        "                    print_first_k_mistakes -= 1\n",
        "    accuracy = 100 * float(correct) / total\n",
        "    print('Accuracy of the network on the {} {} images: {:.2f} %'.format(total, name, accuracy))\n",
        "\n",
        "    if len(to_print) > 0:\n",
        "        print('\\n'.join('{:>10}'.format(label[0]) for label in to_print))\n",
        "        imshow(torchvision.utils.make_grid([img[1] for img in to_print]))\n",
        "\n",
        "def train_set_accuracy(net):\n",
        "    dataset_accuracy(net, train_loader, \"train\")\n",
        "\n",
        "def val_set_accuracy(net):\n",
        "    dataset_accuracy(net, val_loader, \"validation\")  \n",
        "    \n",
        "def test_set_accuracy(net):\n",
        "    dataset_accuracy(net, test_loader, \"test\", 10)\n",
        "\n",
        "def compute_accuracy(net):\n",
        "    train_set_accuracy(net)\n",
        "    val_set_accuracy(net)\n",
        "    test_set_accuracy(net)\n",
        "    \n",
        "print(\"Computing accuracy...\")\n",
        "compute_accuracy(net)"
      ],
      "execution_count": null,
      "outputs": [
        {
          "output_type": "stream",
          "text": [
            "Computing accuracy...\n",
            "Accuracy of the network on the 660 train images: 77.58 %\n",
            "Accuracy of the network on the 21 validation images: 76.19 %\n",
            "Accuracy of the network on the 280 test images: 85.36 %\n",
            "Actually unpolarized:\n",
            "Actually unpolarized:\n",
            "Actually unpolarized:\n",
            "Actually unpolarized:\n",
            "Actually unpolarized:\n",
            "Actually unpolarized:\n",
            "Actually unpolarized:\n",
            "Actually unpolarized:\n",
            "Actually unpolarized:\n",
            "Actually unpolarized:\n"
          ],
          "name": "stdout"
        },
        {
          "output_type": "display_data",
          "data": {
            "image/png": "[encoded data removed]",
            "text/plain": [
              "<Figure size 1440x576 with 1 Axes>"
            ]
          },
          "metadata": {
            "tags": [],
            "needs_background": "light"
          }
        }
      ]
    },
    {
      "cell_type": "markdown",
      "metadata": {
        "id": "R4tY-o1fyujS"
      },
      "source": [
        "### Plot results (these need to be refactored)\n"
      ]
    },
    {
      "cell_type": "code",
      "metadata": {
        "id": "rw4EdxjbI9zt"
      },
      "source": [
        "def plot_losses(train_history, val_history):\n",
        "    x = np.arange(1, len(train_history) + 1)\n",
        "\n",
        "    plt.figure(figsize=(8, 6), dpi=100)\n",
        "    plt.plot(x, train_history, '-r', label=\"Training loss\", linewidth=2)\n",
        "    plt.plot(x, val_history, '-b', label=\"Validation loss\", linewidth=2)\n",
        "    plt.xlabel('Epoch')\n",
        "    plt.ylabel('Loss')\n",
        "    plt.legend(loc='upper right')\n",
        "    plt.title(\"Training and Validation Loss History\" + \"(\" + z_agg_mode + \")\")\n",
        "    plt.show()\n",
        "\n",
        "def plot_confusion_matrix(cm, classes,\n",
        "                          normalize=False,\n",
        "                          title='Confusion matrix',\n",
        "                          cmap=plt.cm.Blues):\n",
        "    \"\"\"\n",
        "    This function prints and plots the confusion matrix.\n",
        "    Normalization can be applied by setting `normalize=True`.\n",
        "    from http://scikit-learn.org/stable/auto_examples/model_selection/plot_confusion_matrix.html\n",
        "    :param cm: (numpy matrix) confusion matrix\n",
        "    :param classes: [str]\n",
        "    :param normalize: (bool)\n",
        "    :param title: (str)\n",
        "    :param cmap: (matplotlib color map)\n",
        "    \"\"\"\n",
        "    if normalize:\n",
        "        cm = cm.astype('float') / cm.sum(axis=1)[:, np.newaxis]\n",
        "        \n",
        "    plt.figure(figsize=(8, 8), dpi=100)   \n",
        "    plt.imshow(cm, interpolation='nearest', cmap=cmap)\n",
        "    plt.title(title)\n",
        "    plt.colorbar()\n",
        "    tick_marks = np.arange(len(classes))\n",
        "    plt.xticks(tick_marks, classes, rotation=45)\n",
        "    plt.yticks(tick_marks, classes)\n",
        "\n",
        "    fmt = '.2f' if normalize else 'd'\n",
        "    thresh = cm.max() / 2.\n",
        "    for i, j in itertools.product(range(cm.shape[0]), range(cm.shape[1])):\n",
        "        plt.text(j, i, format(cm[i, j], fmt),\n",
        "                 horizontalalignment=\"center\",\n",
        "                 color=\"white\" if cm[i, j] > thresh else \"black\")\n",
        "\n",
        "    plt.tight_layout()\n",
        "    plt.ylabel('True label')\n",
        "    plt.xlabel('Predicted label')"
      ],
      "execution_count": null,
      "outputs": []
    },
    {
      "cell_type": "code",
      "metadata": {
        "id": "HCQdZHEayujT"
      },
      "source": [
        "# plt.figure()\n",
        "# plt.plot(np.arange(0,epochs,1),train_acc_lst,'r')\n",
        "# plt.ylabel('Training Accuracy')\n",
        "# plt.xlabel('Epoch')\n",
        "# plt.title('CNN Classify Fluo Polarization')\n",
        "# plt.show()"
      ],
      "execution_count": null,
      "outputs": []
    },
    {
      "cell_type": "code",
      "metadata": {
        "id": "ebW8cv5kyujU",
        "outputId": "a8a10cbf-7df1-4d54-91b3-c997a21250fe",
        "colab": {
          "base_uri": "https://localhost:8080/",
          "height": 554
        }
      },
      "source": [
        "# plt.figure()\n",
        "# plt.plot(np.arange(0,epochs,1),train_loss_lst,'r')\n",
        "# plt.ylabel('Training Loss')\n",
        "# plt.xlabel('Epoch')\n",
        "# plt.title('CNN Classify Fluo Polarization')\n",
        "# plt.show()\n",
        "\n",
        "plot_losses(train_history, val_history)"
      ],
      "execution_count": null,
      "outputs": [
        {
          "output_type": "display_data",
          "data": {
            "image/png": "[encoded data removed]",
            "text/plain": [
              "<Figure size 800x600 with 1 Axes>"
            ]
          },
          "metadata": {
            "tags": [],
            "needs_background": "light"
          }
        }
      ]
    },
    {
      "cell_type": "code",
      "metadata": {
        "id": "_xWHwM3AyujV"
      },
      "source": [
        "# plt.figure()\n",
        "# plt.plot(np.arange(0,epochs,1),val_acc_lst,'r')\n",
        "# plt.ylabel('Validation Accuracy')\n",
        "# plt.xlabel('Epoch')\n",
        "# plt.title('CNN Classify Fluo Polarization')\n",
        "# plt.show()"
      ],
      "execution_count": null,
      "outputs": []
    },
    {
      "cell_type": "code",
      "metadata": {
        "id": "7oxvgfhcHGX1",
        "outputId": "1d980ac6-20ab-48b1-b49d-0bedb0dc9e17",
        "colab": {
          "base_uri": "https://localhost:8080/"
        }
      },
      "source": [
        "import itertools\n",
        "\n",
        "test_batch_size = batch_size\n",
        "\n",
        "def accuracy_per_class(net):\n",
        "    net = net.to(device)\n",
        "    n_classes = 2\n",
        "    # (real, predicted)\n",
        "    confusion_matrix = np.zeros((n_classes, n_classes), dtype=np.int64)\n",
        "\n",
        "    for images, labels in test_loader:\n",
        "        images, labels = images, labels = images.to(device), labels.to(device)\n",
        "        outputs = net(images)\n",
        "        _, predicted = torch.max(outputs.data, 1)\n",
        "        for i in range(test_batch_size):\n",
        "            confusion_matrix[labels[i], predicted[i]] += 1\n",
        "            label = labels[i]\n",
        "\n",
        "    print(\"{:<10} {:^10}\".format(\"Class\", \"Accuracy (%)\"))\n",
        "    for i in range(n_classes):\n",
        "        class_total = confusion_matrix[i, :].sum()\n",
        "        class_correct = confusion_matrix[i, i]\n",
        "        percentage_correct = 100.0 * float(class_correct) / class_total\n",
        "        \n",
        "        print('{:<10} {:^10.2f}'.format(classes[i], percentage_correct))\n",
        "    return confusion_matrix\n",
        "\n",
        "confusion_matrix = accuracy_per_class(net)"
      ],
      "execution_count": null,
      "outputs": [
        {
          "output_type": "stream",
          "text": [
            "Class      Accuracy (%)\n",
            "unpolarized    0.00   \n",
            "polarized    100.00  \n"
          ],
          "name": "stdout"
        }
      ]
    },
    {
      "cell_type": "code",
      "metadata": {
        "id": "k-E3l96gYXal",
        "outputId": "b5ee5987-b51f-419d-b477-33cddea97b0e",
        "colab": {
          "base_uri": "https://localhost:8080/",
          "height": 1000
        }
      },
      "source": [
        "# Plot normalized confusion matrix\n",
        "plot_confusion_matrix(confusion_matrix, classes, normalize=True,\n",
        "                      title='Normalized confusion matrix')\n",
        "\n",
        "# Plot non-normalized confusion matrix\n",
        "plot_confusion_matrix(confusion_matrix, classes,\n",
        "                      title='Confusion matrix, without normalization')"
      ],
      "execution_count": null,
      "outputs": [
        {
          "output_type": "display_data",
          "data": {
            "image/png": "[encoded data removed]",
            "text/plain": [
              "<Figure size 800x800 with 2 Axes>"
            ]
          },
          "metadata": {
            "tags": [],
            "needs_background": "light"
          }
        },
        {
          "output_type": "display_data",
          "data": {
            "image/png": "[encoded data removed]",
            "text/plain": [
              "<Figure size 800x800 with 2 Axes>"
            ]
          },
          "metadata": {
            "tags": [],
            "needs_background": "light"
          }
        }
      ]
    },
    {
      "cell_type": "code",
      "metadata": {
        "id": "TzvwZigS5YdK"
      },
      "source": [
        ""
      ],
      "execution_count": null,
      "outputs": []
    }
  ]
}