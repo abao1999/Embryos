{
  "nbformat": 4,
  "nbformat_minor": 0,
  "metadata": {
    "accelerator": "GPU",
    "colab": {
      "name": "classify_fluo_CNN.ipynb",
      "provenance": [],
      "collapsed_sections": []
    },
    "kernelspec": {
      "display_name": "Python 3",
      "language": "python",
      "name": "python3"
    },
    "language_info": {
      "codemirror_mode": {
        "name": "ipython",
        "version": 3
      },
      "file_extension": ".py",
      "mimetype": "text/x-python",
      "name": "python",
      "nbconvert_exporter": "python",
      "pygments_lexer": "ipython3",
      "version": "3.7.4"
    }
  },
  "cells": [
    {
      "cell_type": "markdown",
      "metadata": {
        "id": "_Aq3XceQyuik"
      },
      "source": [
        "# CNN for Fluo Classification"
      ]
    },
    {
      "cell_type": "markdown",
      "metadata": {
        "id": "vChd6dfWyuil"
      },
      "source": [
        "### Install Dependencies"
      ]
    },
    {
      "cell_type": "code",
      "metadata": {
        "id": "H29TGLErCP5r"
      },
      "source": [
        "%matplotlib inline"
      ],
      "execution_count": 1,
      "outputs": []
    },
    {
      "cell_type": "code",
      "metadata": {
        "id": "xVkEhqIhCeLH",
        "outputId": "8ed6823a-7f5a-49de-f210-2adbe00d8ae6",
        "colab": {
          "base_uri": "https://localhost:8080/",
          "height": 531
        }
      },
      "source": [
        "!pip install mxnet-cu101\n",
        "!pip install gluoncv"
      ],
      "execution_count": 2,
      "outputs": [
        {
          "output_type": "stream",
          "text": [
            "Requirement already satisfied: mxnet-cu101 in /usr/local/lib/python3.6/dist-packages (1.7.0)\n",
            "Requirement already satisfied: numpy<2.0.0,>1.16.0 in /usr/local/lib/python3.6/dist-packages (from mxnet-cu101) (1.18.5)\n",
            "Requirement already satisfied: graphviz<0.9.0,>=0.8.1 in /usr/local/lib/python3.6/dist-packages (from mxnet-cu101) (0.8.4)\n",
            "Requirement already satisfied: requests<3,>=2.20.0 in /usr/local/lib/python3.6/dist-packages (from mxnet-cu101) (2.23.0)\n",
            "Requirement already satisfied: chardet<4,>=3.0.2 in /usr/local/lib/python3.6/dist-packages (from requests<3,>=2.20.0->mxnet-cu101) (3.0.4)\n",
            "Requirement already satisfied: urllib3!=1.25.0,!=1.25.1,<1.26,>=1.21.1 in /usr/local/lib/python3.6/dist-packages (from requests<3,>=2.20.0->mxnet-cu101) (1.24.3)\n",
            "Requirement already satisfied: idna<3,>=2.5 in /usr/local/lib/python3.6/dist-packages (from requests<3,>=2.20.0->mxnet-cu101) (2.10)\n",
            "Requirement already satisfied: certifi>=2017.4.17 in /usr/local/lib/python3.6/dist-packages (from requests<3,>=2.20.0->mxnet-cu101) (2020.6.20)\n",
            "Requirement already satisfied: gluoncv in /usr/local/lib/python3.6/dist-packages (0.8.0)\n",
            "Requirement already satisfied: matplotlib in /usr/local/lib/python3.6/dist-packages (from gluoncv) (3.2.2)\n",
            "Requirement already satisfied: tqdm in /usr/local/lib/python3.6/dist-packages (from gluoncv) (4.41.1)\n",
            "Requirement already satisfied: Pillow in /usr/local/lib/python3.6/dist-packages (from gluoncv) (7.0.0)\n",
            "Requirement already satisfied: portalocker in /usr/local/lib/python3.6/dist-packages (from gluoncv) (2.0.0)\n",
            "Requirement already satisfied: scipy in /usr/local/lib/python3.6/dist-packages (from gluoncv) (1.4.1)\n",
            "Requirement already satisfied: requests in /usr/local/lib/python3.6/dist-packages (from gluoncv) (2.23.0)\n",
            "Requirement already satisfied: numpy in /usr/local/lib/python3.6/dist-packages (from gluoncv) (1.18.5)\n",
            "Requirement already satisfied: cycler>=0.10 in /usr/local/lib/python3.6/dist-packages (from matplotlib->gluoncv) (0.10.0)\n",
            "Requirement already satisfied: pyparsing!=2.0.4,!=2.1.2,!=2.1.6,>=2.0.1 in /usr/local/lib/python3.6/dist-packages (from matplotlib->gluoncv) (2.4.7)\n",
            "Requirement already satisfied: kiwisolver>=1.0.1 in /usr/local/lib/python3.6/dist-packages (from matplotlib->gluoncv) (1.2.0)\n",
            "Requirement already satisfied: python-dateutil>=2.1 in /usr/local/lib/python3.6/dist-packages (from matplotlib->gluoncv) (2.8.1)\n",
            "Requirement already satisfied: certifi>=2017.4.17 in /usr/local/lib/python3.6/dist-packages (from requests->gluoncv) (2020.6.20)\n",
            "Requirement already satisfied: urllib3!=1.25.0,!=1.25.1,<1.26,>=1.21.1 in /usr/local/lib/python3.6/dist-packages (from requests->gluoncv) (1.24.3)\n",
            "Requirement already satisfied: chardet<4,>=3.0.2 in /usr/local/lib/python3.6/dist-packages (from requests->gluoncv) (3.0.4)\n",
            "Requirement already satisfied: idna<3,>=2.5 in /usr/local/lib/python3.6/dist-packages (from requests->gluoncv) (2.10)\n",
            "Requirement already satisfied: six in /usr/local/lib/python3.6/dist-packages (from cycler>=0.10->matplotlib->gluoncv) (1.15.0)\n"
          ],
          "name": "stdout"
        }
      ]
    },
    {
      "cell_type": "code",
      "metadata": {
        "id": "zG53T9hI2nlC"
      },
      "source": [
        "import mxnet as mx\n",
        "import numpy as np\n",
        "import os, time, shutil\n",
        "import matplotlib.pyplot as plt\n",
        "from PIL import Image\n",
        "\n",
        "from mxnet import gluon, image, init, nd\n",
        "from mxnet import autograd as ag\n",
        "from mxnet.gluon import nn\n",
        "from mxnet.gluon.data.vision import transforms\n",
        "from gluoncv.utils import makedirs\n",
        "from gluoncv.model_zoo import get_model"
      ],
      "execution_count": 3,
      "outputs": []
    },
    {
      "cell_type": "markdown",
      "metadata": {
        "id": "2PWecmH8yui0"
      },
      "source": [
        "### Mount Google Drive"
      ]
    },
    {
      "cell_type": "code",
      "metadata": {
        "id": "VCMW-mPvwrcw",
        "outputId": "0d41ac50-cef0-4c63-9026-b00f02ad850f",
        "colab": {
          "base_uri": "https://localhost:8080/",
          "height": 91
        }
      },
      "source": [
        "import os\n",
        "from google.colab import files, drive   \n",
        "import pandas as pd\n",
        "\n",
        "# mount the google drive to my Colab session\n",
        "drive.mount('/content/gdrive')\n",
        "# use the google drive in my Colab session\n",
        "home_path = '/content/gdrive/My Drive/cs101'\n",
        "print(os.listdir(home_path))"
      ],
      "execution_count": 4,
      "outputs": [
        {
          "output_type": "stream",
          "text": [
            "Drive already mounted at /content/gdrive; to attempt to forcibly remount, call drive.mount(\"/content/gdrive\", force_remount=True).\n",
            "['video_fluo_data', 'video_bf_data', 'processed', 'video_data_time_info_CS101.xlsx', 'ResNet50_v2-finetune-data_aug-order-random-dataaug.params', 'CS 101 Weekly Notes.gslides']\n"
          ],
          "name": "stdout"
        }
      ]
    },
    {
      "cell_type": "markdown",
      "metadata": {
        "id": "DVfTd_Uhyui4"
      },
      "source": [
        "### Get Data"
      ]
    },
    {
      "cell_type": "code",
      "metadata": {
        "id": "jarQcT4Myge3",
        "outputId": "fadf7dce-a014-4e06-8bf4-733b5758963e",
        "colab": {
          "base_uri": "https://localhost:8080/",
          "height": 408
        }
      },
      "source": [
        "# Fixing the random seed\n",
        "mx.random.seed(42)\n",
        "np.random.seed(42)\n",
        "\n",
        "# Available data\n",
        "embryo_inds = [1, 3, 12, 13, 16, 18, 19, 24, 39, 40, 42, 45, 46, 47, 49, 50, 52, 53]\n",
        "\n",
        "# Load info about videos\n",
        "video_time_info = pd.read_excel(f'{home_path}/video_data_time_info_CS101.xlsx', index_col=0, header=0, na_values=['NaN','NAN'], usecols=['usable_index', 'first_pol_time', 't_num'])  \n",
        "video_time_info.dropna(inplace=True, subset=['first_pol_time'])\n",
        "print(video_time_info.loc[embryo_inds])\n",
        "\n",
        "# Directory of the processed *.npy files\n",
        "processed_path = f'{home_path}/processed'\n",
        "polar_processed_path = f'{processed_path}/polarization'\n",
        "\n",
        "p = np.random.permutation(len(embryo_inds))\n",
        "p_embryo = [embryo_inds[i] for i in p]\n",
        "t_num = list(video_time_info.loc[embryo_inds, 't_num'])\n",
        "t_num_random = list(video_time_info.loc[p_embryo, 't_num'])\n",
        "\n",
        "instance_cum_random = np.cumsum(t_num_random)\n",
        "test_split_point = instance_cum_random[-1]*0.83\n",
        "temp = abs(instance_cum_random-test_split_point)\n",
        "test_idx = np.argmin(temp)\n",
        "\n",
        "val_split_point = instance_cum_random[-1]*0.7\n",
        "temp = abs(instance_cum_random-val_split_point)\n",
        "val_idx = np.argmin(temp)\n",
        "\n",
        "\n",
        "train_embryos = p_embryo[:val_idx]\n",
        "val_embryos = p_embryo[val_idx:test_idx]\n",
        "test_embryos = p_embryo[test_idx:]\n",
        "print(train_embryos)\n",
        "print(val_embryos)\n",
        "print(test_embryos)\n",
        "\n",
        "data_path = f'{processed_path}/fluo_data/middle'\n",
        "pol_path = f'{processed_path}/polarization'\n",
        "train_path = os.path.join(data_path, 'train')\n",
        "val_path = os.path.join(data_path, 'val')\n",
        "test_path = os.path.join(data_path, 'test')"
      ],
      "execution_count": 5,
      "outputs": [
        {
          "output_type": "stream",
          "text": [
            "              first_pol_time  t_num\n",
            "usable_index                       \n",
            "1                       17.0   21.0\n",
            "3                       12.0   21.0\n",
            "12                      11.0  143.0\n",
            "13                      12.0  143.0\n",
            "16                      30.0  143.0\n",
            "18                      27.0  143.0\n",
            "19                      32.0  143.0\n",
            "24                      20.0   21.0\n",
            "39                      12.0   21.0\n",
            "40                       8.0   21.0\n",
            "42                      16.0   21.0\n",
            "45                      19.0   21.0\n",
            "46                      19.0   21.0\n",
            "47                      17.0   21.0\n",
            "49                      21.0   21.0\n",
            "50                      21.0   21.0\n",
            "52                      13.0   21.0\n",
            "53                      20.0   21.0\n",
            "[1, 3, 39, 18, 13, 47, 52, 50, 45, 12, 40, 53]\n",
            "[16, 46, 24]\n",
            "[42, 49, 19]\n"
          ],
          "name": "stdout"
        }
      ]
    },
    {
      "cell_type": "markdown",
      "metadata": {
        "id": "LAJrlvKDyui8"
      },
      "source": [
        "### Save NP Data as PNG for Training"
      ]
    },
    {
      "cell_type": "code",
      "metadata": {
        "id": "4DeDWzqZ1xKt",
        "outputId": "d8878f57-75d8-487c-f288-444d43fca1a6",
        "colab": {
          "base_uri": "https://localhost:8080/",
          "height": 323
        }
      },
      "source": [
        "# Actually create the images\n",
        "\n",
        "def within_window(embryo_idx, t, window):\n",
        "    '''\n",
        "    embryo_idx: index of current embryo (value from 'usable_index' col)\n",
        "    t: timestep of current\n",
        "    window: number of t steps from first polarized index to ignore\n",
        "    '''\n",
        "    first_pol_idx = video_time_info.loc[embryo_idx, 'first_pol_time'] - 1\n",
        "    return window and abs(first_pol_idx - t) <= window\n",
        "\n",
        "def save_nps_as_png(embryos, save_path, window=None):\n",
        "    '''\n",
        "    embryos: subset of p_embryo... train, val, test\n",
        "    save_path: path to save png to... data_path + {'train', 'val', 'test'}\n",
        "    window: number of t steps from first polarized index to ignore\n",
        "    '''\n",
        "    for i in range(len(embryos)):\n",
        "        embryo_idx = embryos[i]\n",
        "        embryo_path = f'{data_path}/embryo_{embryo_idx}.npy'\n",
        "        embryo_pol_path = f'{pol_path}/embryo_{embryo_idx}.npy'\n",
        "        embryo = np.load(embryo_path)\n",
        "        embryo_pol = np.squeeze(np.load(embryo_pol_path)).astype(int)\n",
        "        embryo = embryo.astype(np.float64) / np.max(embryo) # normalize the data to 0 - 1\n",
        "        embryo = 255 * embryo # Now scale by 255\n",
        "        embryo = embryo.astype(np.uint8)\n",
        "        print(embryo_idx, np.shape(embryo)[2])\n",
        "        for t in range(np.shape(embryo)[2]):\n",
        "            if within_window(embryo_idx, t, window):\n",
        "                print(f'skipping embryo {embryo_idx} step {t}')\n",
        "                continue\n",
        "            pol = embryo_pol[t]\n",
        "            img = Image.fromarray(embryo[:,:,t], 'L')\n",
        "            img_path = f'{save_path}/{pol}/embryo_{embryo_idx}_{t}.png'\n",
        "            img.save(img_path)\n",
        "\n",
        "save_nps_as_png(train_embryos, train_path, window=None)\n",
        "save_nps_as_png(val_embryos, val_path, window=None)\n",
        "save_nps_as_png(test_embryos, test_path, window=None)"
      ],
      "execution_count": 6,
      "outputs": [
        {
          "output_type": "stream",
          "text": [
            "1 21\n",
            "3 21\n",
            "39 21\n",
            "18 143\n",
            "13 143\n",
            "47 21\n",
            "52 21\n",
            "50 21\n",
            "45 21\n",
            "12 143\n",
            "40 21\n",
            "53 21\n",
            "16 143\n",
            "46 21\n",
            "24 21\n",
            "42 21\n",
            "49 21\n",
            "19 143\n"
          ],
          "name": "stdout"
        }
      ]
    },
    {
      "cell_type": "markdown",
      "metadata": {
        "id": "mhHeN0l4CP5y"
      },
      "source": [
        "### Set Hyperparameters"
      ]
    },
    {
      "cell_type": "code",
      "metadata": {
        "id": "kVQCpNXYCP53",
        "outputId": "e2da8bc2-fd04-4812-a95d-5e361f9cbf50",
        "colab": {
          "base_uri": "https://localhost:8080/",
          "height": 34
        }
      },
      "source": [
        "classes = 2\n",
        "\n",
        "epochs = 15\n",
        "lr = 0.001\n",
        "per_device_batch_size = 16\n",
        "momentum = 0.9\n",
        "wd = 0.0001\n",
        "\n",
        "lr_factor = 0.75\n",
        "lr_steps = [10, 20, 30, np.inf]\n",
        "\n",
        "num_gpus = 1\n",
        "num_workers = 8\n",
        "ctx = [mx.gpu(i) for i in range(num_gpus)] if num_gpus > 0 else [mx.cpu()]\n",
        "batch_size = per_device_batch_size * max(num_gpus, 1)\n",
        "print(ctx)"
      ],
      "execution_count": 7,
      "outputs": [
        {
          "output_type": "stream",
          "text": [
            "[gpu(0)]\n"
          ],
          "name": "stdout"
        }
      ]
    },
    {
      "cell_type": "markdown",
      "metadata": {
        "id": "THLMmIhfCP56"
      },
      "source": [
        "Things to keep in mind:\n",
        "\n",
        "1. ``epochs = 5`` is just for this tutorial with the tiny dataset. please change it to a larger number in your experiments, for instance 40.\n",
        "2. ``per_device_batch_size`` is also set to a small number. In your experiments you can try larger number like 64.\n",
        "3. remember to tune ``num_gpus`` and ``num_workers`` according to your machine.\n",
        "4. A pre-trained model is already in a pretty good status. So we can start with a small ``lr``.\n",
        "\n",
        "### Data Augmentation\n",
        "\n",
        "In transfer learning, data augmentation can also help.\n",
        "We use the following augmentation in training:\n",
        "\n",
        "2. Randomly crop the image and resize it to 224x224\n",
        "3. Randomly flip the image horizontally\n",
        "4. Randomly jitter color and add noise\n",
        "5. Transpose the data from height*width*num_channels to num_channels*height*width, and map values from [0, 255] to [0, 1]\n",
        "6. Normalize with the mean and standard deviation from the ImageNet dataset.\n",
        "\n",
        "\n"
      ]
    },
    {
      "cell_type": "code",
      "metadata": {
        "id": "CYgiHxUECP56"
      },
      "source": [
        "transform_train = transforms.Compose([\n",
        "    transforms.Resize(600, keep_ratio=True),\n",
        "    transforms.CenterCrop(512),\n",
        "\n",
        "    transforms.RandomFlipLeftRight(), # Randomly flip the image horizontally\n",
        "    transforms.RandomFlipTopBottom(),\n",
        "    transforms.RandomLighting(0.1), # Add AlexNet-style PCA-based noise to an image\n",
        "    transforms.RandomContrast(0.1),\n",
        "    transforms.ToTensor(),\n",
        "    transforms.Normalize([0.485, 0.456, 0.406], [0.229, 0.224, 0.225])\n",
        "])\n",
        "\n",
        "transform_test = transforms.Compose([\n",
        "    transforms.Resize(600, keep_ratio=True),\n",
        "    transforms.CenterCrop(512),\n",
        "    transforms.ToTensor(),\n",
        "    transforms.Normalize([0.485, 0.456, 0.406], [0.229, 0.224, 0.225])\n",
        "])"
      ],
      "execution_count": 8,
      "outputs": []
    },
    {
      "cell_type": "markdown",
      "metadata": {
        "id": "6mRtApbiyujH"
      },
      "source": [
        "### Data Loaders"
      ]
    },
    {
      "cell_type": "markdown",
      "metadata": {
        "id": "_OKZ2hq1CP59"
      },
      "source": [
        "With the data augmentation functions, we can define our data loaders:\n",
        "\n"
      ]
    },
    {
      "cell_type": "code",
      "metadata": {
        "id": "226lVHP2CP5-",
        "outputId": "83c90bf0-8ab5-4774-f412-a8d98157e843",
        "colab": {
          "base_uri": "https://localhost:8080/",
          "height": 34
        }
      },
      "source": [
        "train_data = gluon.data.DataLoader(\n",
        "    gluon.data.vision.ImageFolderDataset(train_path).transform_first(transform_train),\n",
        "    batch_size=batch_size, shuffle=True, num_workers=num_workers)\n",
        "\n",
        "val_data = gluon.data.DataLoader(\n",
        "    gluon.data.vision.ImageFolderDataset(val_path).transform_first(transform_train),\n",
        "    batch_size=batch_size, shuffle=True, num_workers = num_workers)\n",
        "\n",
        "test_data = gluon.data.DataLoader(\n",
        "    gluon.data.vision.ImageFolderDataset(test_path).transform_first(transform_test),\n",
        "    batch_size=batch_size, shuffle=False, num_workers = num_workers)\n",
        "\n",
        "print(len(train_data), len(val_data), len(test_data))"
      ],
      "execution_count": 9,
      "outputs": [
        {
          "output_type": "stream",
          "text": [
            "39 12 12\n"
          ],
          "name": "stdout"
        }
      ]
    },
    {
      "cell_type": "markdown",
      "metadata": {
        "id": "_IkfDxPxCP6B"
      },
      "source": [
        "Note that only ``train_data`` uses ``transform_train``, while\n",
        "``val_data`` and ``test_data`` use ``transform_test`` to produce deterministic\n",
        "results for evaluation."
      ]
    },
    {
      "cell_type": "markdown",
      "metadata": {
        "id": "NrZdn2wKyujJ"
      },
      "source": [
        "## Training"
      ]
    },
    {
      "cell_type": "markdown",
      "metadata": {
        "id": "gxuE5F-eyujJ"
      },
      "source": [
        "### Define Model\n",
        "\n",
        "Simple CNN for now"
      ]
    },
    {
      "cell_type": "code",
      "metadata": {
        "id": "565PB114yujK"
      },
      "source": [
        "import mxnet.ndarray as F\n",
        "\n",
        "class Net(gluon.Block):\n",
        "    def __init__(self, **kwargs):\n",
        "        super(Net, self).__init__(**kwargs)\n",
        "        with self.name_scope():\n",
        "            # layers created in name_scope will inherit name space\n",
        "            # from parent layer.\n",
        "            self.conv1 = nn.Conv2D(20, kernel_size=(5,5))\n",
        "            self.pool1 = nn.MaxPool2D(pool_size=(2,2), strides = (2,2))\n",
        "            self.conv2 = nn.Conv2D(50, kernel_size=(5,5))\n",
        "            self.pool2 = nn.MaxPool2D(pool_size=(2,2), strides = (2,2))\n",
        "            self.fc1 = nn.Dense(500)\n",
        "            self.fc2 = nn.Dense(10)\n",
        "\n",
        "    def forward(self, x):\n",
        "        x = self.pool1(F.tanh(self.conv1(x)))\n",
        "        x = self.pool2(F.tanh(self.conv2(x)))\n",
        "        # 0 means copy over size from corresponding dimension.\n",
        "        # -1 means infer size from the rest of dimensions.\n",
        "        x = x.reshape((0, -1))\n",
        "        x = F.tanh(self.fc1(x))\n",
        "        x = F.tanh(self.fc2(x))\n",
        "        return x"
      ],
      "execution_count": 10,
      "outputs": []
    },
    {
      "cell_type": "markdown",
      "metadata": {
        "id": "DaQn1kxIyujM"
      },
      "source": [
        "### Initialize Model, Parameters, Trainer"
      ]
    },
    {
      "cell_type": "code",
      "metadata": {
        "id": "xNblkrOkyujN"
      },
      "source": [
        "net = Net()\n",
        "net.initialize(mx.init.Xavier(magnitude=2.24), ctx=ctx)\n",
        "\n",
        "optimizer = 'sgd' # 'nag': Nesterov accelerated gradient descent\n",
        "optimizer_params = {'learning_rate': lr, 'wd': wd, 'momentum': momentum} # Set parameters\n",
        "\n",
        "trainer = gluon.Trainer(net.collect_params(), optimizer, optimizer_params)"
      ],
      "execution_count": 11,
      "outputs": []
    },
    {
      "cell_type": "markdown",
      "metadata": {
        "id": "4AEhHmAvyujP"
      },
      "source": [
        "### Define Evaluation Function for Test/Val Accuracy"
      ]
    },
    {
      "cell_type": "code",
      "metadata": {
        "id": "fzIMoYwlCP6E"
      },
      "source": [
        "metric = mx.metric.Accuracy()\n",
        "softmax_cross_entropy_loss = gluon.loss.SoftmaxCrossEntropyLoss()\n",
        "\n",
        "def test(net, val_data, ctx):\n",
        "    test_metric = mx.metric.Accuracy()\n",
        "\n",
        "    for i, batch in enumerate(val_data):\n",
        "        data = gluon.utils.split_and_load(batch[0], ctx_list=ctx, batch_axis=0, even_split=False)\n",
        "        label = gluon.utils.split_and_load(batch[1], ctx_list=ctx, batch_axis=0, even_split=False)\n",
        "        outputs = [net(X) for X in data]\n",
        "        test_metric.update(label, outputs)\n",
        "\n",
        "    return test_metric.get()"
      ],
      "execution_count": 12,
      "outputs": []
    },
    {
      "cell_type": "markdown",
      "metadata": {
        "id": "ZJG2Rg_NCP6G"
      },
      "source": [
        "### Training Loop\n",
        "\n",
        "Following is the main training loop. It is the same as the loop in\n",
        "`CIFAR10 <dive_deep_cifar10.html>`__\n",
        "and ImageNet."
      ]
    },
    {
      "cell_type": "code",
      "metadata": {
        "id": "kwRaiiomCP6H",
        "outputId": "bddb879d-ffcf-4eb2-d2db-d9bde378d264",
        "colab": {
          "base_uri": "https://localhost:8080/",
          "height": 289
        }
      },
      "source": [
        "lr_counter = 0\n",
        "num_batch = len(train_data)\n",
        "train_acc_lst = []\n",
        "train_loss_lst = []\n",
        "val_acc_lst = []\n",
        "\n",
        "for epoch in range(epochs):\n",
        "    if epoch == lr_steps[lr_counter]:\n",
        "        trainer.set_learning_rate(trainer.learning_rate*lr_factor)\n",
        "        lr_counter += 1\n",
        "\n",
        "    tic = time.time()\n",
        "    train_loss = 0\n",
        "    metric.reset()\n",
        "\n",
        "    for i, batch in enumerate(train_data):\n",
        "        data = gluon.utils.split_and_load(batch[0], ctx_list=ctx, batch_axis=0, even_split=False)\n",
        "        label = gluon.utils.split_and_load(batch[1], ctx_list=ctx, batch_axis=0, even_split=False)\n",
        "        with ag.record():\n",
        "            outputs = [net(X) for X in data]\n",
        "            loss = [softmax_cross_entropy_loss(yhat, y) for yhat, y in zip(outputs, label)]\n",
        "        for l in loss:\n",
        "            l.backward()\n",
        "\n",
        "        trainer.step(batch_size)\n",
        "        train_loss += sum([l.mean().asscalar() for l in loss]) / len(loss)\n",
        "\n",
        "        metric.update(label, outputs)\n",
        "\n",
        "    _, train_acc = metric.get()\n",
        "    train_loss /= num_batch\n",
        "\n",
        "    _, val_acc = test(net, val_data, ctx)\n",
        "\n",
        "    train_acc_lst.append(train_acc)\n",
        "    train_loss_lst.append(train_loss)\n",
        "    val_acc_lst.append(val_acc)\n",
        "    print('[Epoch %d] Train-acc: %.3f, loss: %.3f | Val-acc: %.3f | time: %.1f' %\n",
        "             (epoch, train_acc, train_loss, val_acc, time.time() - tic))\n",
        "\n",
        "_, test_acc = test(net, test_data, ctx)\n",
        "print('[Finished] Test-acc: %.3f' % (test_acc))"
      ],
      "execution_count": 13,
      "outputs": [
        {
          "output_type": "stream",
          "text": [
            "[Epoch 0] Train-acc: 0.694, loss: 1.167 | Val-acc: 0.643 | time: 24.0\n",
            "[Epoch 1] Train-acc: 0.714, loss: 1.126 | Val-acc: 0.643 | time: 15.5\n",
            "[Epoch 2] Train-acc: 0.714, loss: 1.126 | Val-acc: 0.643 | time: 15.3\n",
            "[Epoch 3] Train-acc: 0.714, loss: 1.126 | Val-acc: 0.643 | time: 15.2\n",
            "[Epoch 4] Train-acc: 0.714, loss: 1.126 | Val-acc: 0.643 | time: 15.3\n",
            "[Epoch 5] Train-acc: 0.714, loss: 1.126 | Val-acc: 0.643 | time: 14.9\n",
            "[Epoch 6] Train-acc: 0.714, loss: 1.126 | Val-acc: 0.643 | time: 14.9\n",
            "[Epoch 7] Train-acc: 0.714, loss: 1.126 | Val-acc: 0.643 | time: 15.1\n",
            "[Epoch 8] Train-acc: 0.714, loss: 1.126 | Val-acc: 0.643 | time: 14.9\n",
            "[Epoch 9] Train-acc: 0.714, loss: 1.125 | Val-acc: 0.643 | time: 15.1\n",
            "[Epoch 10] Train-acc: 0.714, loss: 1.125 | Val-acc: 0.643 | time: 14.9\n",
            "[Epoch 11] Train-acc: 0.714, loss: 1.123 | Val-acc: 0.643 | time: 15.0\n",
            "[Epoch 12] Train-acc: 0.714, loss: 1.125 | Val-acc: 0.643 | time: 15.1\n",
            "[Epoch 13] Train-acc: 0.714, loss: 1.125 | Val-acc: 0.643 | time: 15.0\n",
            "[Epoch 14] Train-acc: 0.714, loss: 1.124 | Val-acc: 0.643 | time: 14.9\n",
            "[Finished] Test-acc: 0.643\n"
          ],
          "name": "stdout"
        }
      ]
    },
    {
      "cell_type": "markdown",
      "metadata": {
        "id": "R4tY-o1fyujS"
      },
      "source": [
        "### Plot Results"
      ]
    },
    {
      "cell_type": "code",
      "metadata": {
        "id": "HCQdZHEayujT",
        "outputId": "6cd3e8ce-f5fe-4a49-9a05-72ee7402c6e1",
        "colab": {
          "base_uri": "https://localhost:8080/",
          "height": 295
        }
      },
      "source": [
        "plt.figure()\n",
        "plt.plot(np.arange(0,epochs,1),train_acc_lst,'r')\n",
        "plt.ylabel('Training Accuracy')\n",
        "plt.xlabel('Epoch')\n",
        "plt.title('CNN Classify Fluo Polarization')\n",
        "plt.show()"
      ],
      "execution_count": 16,
      "outputs": [
        {
          "output_type": "display_data",
          "data": {
            "image/png": "[encoded data removed]",
            "text/plain": [
              "<Figure size 432x288 with 1 Axes>"
            ]
          },
          "metadata": {
            "tags": [],
            "needs_background": "light"
          }
        }
      ]
    },
    {
      "cell_type": "code",
      "metadata": {
        "id": "ebW8cv5kyujU",
        "outputId": "683a4862-4830-4338-9681-5bde47c57c18",
        "colab": {
          "base_uri": "https://localhost:8080/",
          "height": 295
        }
      },
      "source": [
        "plt.figure()\n",
        "plt.plot(np.arange(0,epochs,1),train_loss_lst,'r')\n",
        "plt.ylabel('Training Loss')\n",
        "plt.xlabel('Epoch')\n",
        "plt.title('CNN Classify Fluo Polarization')\n",
        "plt.show()"
      ],
      "execution_count": 17,
      "outputs": [
        {
          "output_type": "display_data",
          "data": {
            "image/png": "[encoded data removed]",
            "text/plain": [
              "<Figure size 432x288 with 1 Axes>"
            ]
          },
          "metadata": {
            "tags": [],
            "needs_background": "light"
          }
        }
      ]
    },
    {
      "cell_type": "code",
      "metadata": {
        "id": "_xWHwM3AyujV",
        "outputId": "44eadde3-cb68-4147-ce1a-ec4f4b31fc78",
        "colab": {
          "base_uri": "https://localhost:8080/",
          "height": 295
        }
      },
      "source": [
        "plt.figure()\n",
        "plt.plot(np.arange(0,epochs,1),val_acc_lst,'r')\n",
        "plt.ylabel('Validation Accuracy')\n",
        "plt.xlabel('Epoch')\n",
        "plt.title('CNN Classify Fluo Polarization')\n",
        "plt.show()"
      ],
      "execution_count": 18,
      "outputs": [
        {
          "output_type": "display_data",
          "data": {
            "image/png": "[encoded data removed]",
            "text/plain": [
              "<Figure size 432x288 with 1 Axes>"
            ]
          },
          "metadata": {
            "tags": [],
            "needs_background": "light"
          }
        }
      ]
    },
    {
      "cell_type": "code",
      "metadata": {
        "id": "7oxvgfhcHGX1"
      },
      "source": [
        ""
      ],
      "execution_count": null,
      "outputs": []
    }
  ]
}