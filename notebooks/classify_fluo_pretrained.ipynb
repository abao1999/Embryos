{
  "nbformat": 4,
  "nbformat_minor": 0,
  "metadata": {
    "accelerator": "GPU",
    "colab": {
      "name": "classify_fluo_pretrained.ipynb",
      "provenance": [],
      "collapsed_sections": []
    },
    "kernelspec": {
      "display_name": "Python 3",
      "language": "python",
      "name": "python3"
    },
    "language_info": {
      "codemirror_mode": {
        "name": "ipython",
        "version": 3
      },
      "file_extension": ".py",
      "mimetype": "text/x-python",
      "name": "python",
      "nbconvert_exporter": "python",
      "pygments_lexer": "ipython3",
      "version": "3.7.4"
    }
  },
  "cells": [
    {
      "cell_type": "code",
      "metadata": {
        "id": "H29TGLErCP5r"
      },
      "source": [
        "%matplotlib inline"
      ],
      "execution_count": 2,
      "outputs": []
    },
    {
      "cell_type": "code",
      "metadata": {
        "id": "xVkEhqIhCeLH",
        "colab": {
          "base_uri": "https://localhost:8080/"
        },
        "outputId": "022a1f9e-d408-47d8-93ee-d04e7b63a089"
      },
      "source": [
        "!pip install mxnet-cu101\n",
        "!pip install gluoncv"
      ],
      "execution_count": 3,
      "outputs": [
        {
          "output_type": "stream",
          "text": [
            "Collecting mxnet-cu101\n",
            "\u001b[?25l  Downloading https://files.pythonhosted.org/packages/40/26/9655677b901537f367c3c473376e4106abc72e01a8fc25b1cb6ed9c37e8c/mxnet_cu101-1.7.0-py2.py3-none-manylinux2014_x86_64.whl (846.0MB)\n",
            "\u001b[K     |███████████████████████████████▌| 834.1MB 1.3MB/s eta 0:00:10tcmalloc: large alloc 1147494400 bytes == 0x3a5b8000 @  0x7fe9b1a1f615 0x591e47 0x4cc179 0x4cc2db 0x50a1cc 0x50beb4 0x507be4 0x509900 0x50a2fd 0x50beb4 0x507be4 0x509900 0x50a2fd 0x50cc96 0x58e683 0x50c127 0x58e683 0x50c127 0x58e683 0x50c127 0x58e683 0x50c127 0x5095c8 0x50a2fd 0x50beb4 0x507be4 0x509900 0x50a2fd 0x50beb4 0x5095c8 0x50a2fd\n",
            "\u001b[K     |████████████████████████████████| 846.0MB 20kB/s \n",
            "\u001b[?25hCollecting graphviz<0.9.0,>=0.8.1\n",
            "  Downloading https://files.pythonhosted.org/packages/53/39/4ab213673844e0c004bed8a0781a0721a3f6bb23eb8854ee75c236428892/graphviz-0.8.4-py2.py3-none-any.whl\n",
            "Requirement already satisfied: numpy<2.0.0,>1.16.0 in /usr/local/lib/python3.6/dist-packages (from mxnet-cu101) (1.18.5)\n",
            "Requirement already satisfied: requests<3,>=2.20.0 in /usr/local/lib/python3.6/dist-packages (from mxnet-cu101) (2.23.0)\n",
            "Requirement already satisfied: urllib3!=1.25.0,!=1.25.1,<1.26,>=1.21.1 in /usr/local/lib/python3.6/dist-packages (from requests<3,>=2.20.0->mxnet-cu101) (1.24.3)\n",
            "Requirement already satisfied: idna<3,>=2.5 in /usr/local/lib/python3.6/dist-packages (from requests<3,>=2.20.0->mxnet-cu101) (2.10)\n",
            "Requirement already satisfied: certifi>=2017.4.17 in /usr/local/lib/python3.6/dist-packages (from requests<3,>=2.20.0->mxnet-cu101) (2020.6.20)\n",
            "Requirement already satisfied: chardet<4,>=3.0.2 in /usr/local/lib/python3.6/dist-packages (from requests<3,>=2.20.0->mxnet-cu101) (3.0.4)\n",
            "Installing collected packages: graphviz, mxnet-cu101\n",
            "  Found existing installation: graphviz 0.10.1\n",
            "    Uninstalling graphviz-0.10.1:\n",
            "      Successfully uninstalled graphviz-0.10.1\n",
            "Successfully installed graphviz-0.8.4 mxnet-cu101-1.7.0\n",
            "Collecting gluoncv\n",
            "\u001b[?25l  Downloading https://files.pythonhosted.org/packages/b8/d7/74b530c461ac3eb90f6045a645a59450de1f3d616a4926e371daa021dbd8/gluoncv-0.8.0-py2.py3-none-any.whl (810kB)\n",
            "\u001b[K     |████████████████████████████████| 819kB 8.8MB/s \n",
            "\u001b[?25hRequirement already satisfied: numpy in /usr/local/lib/python3.6/dist-packages (from gluoncv) (1.18.5)\n",
            "Requirement already satisfied: matplotlib in /usr/local/lib/python3.6/dist-packages (from gluoncv) (3.2.2)\n",
            "Collecting portalocker\n",
            "  Downloading https://files.pythonhosted.org/packages/89/a6/3814b7107e0788040870e8825eebf214d72166adf656ba7d4bf14759a06a/portalocker-2.0.0-py2.py3-none-any.whl\n",
            "Requirement already satisfied: tqdm in /usr/local/lib/python3.6/dist-packages (from gluoncv) (4.41.1)\n",
            "Requirement already satisfied: scipy in /usr/local/lib/python3.6/dist-packages (from gluoncv) (1.4.1)\n",
            "Requirement already satisfied: requests in /usr/local/lib/python3.6/dist-packages (from gluoncv) (2.23.0)\n",
            "Requirement already satisfied: Pillow in /usr/local/lib/python3.6/dist-packages (from gluoncv) (7.0.0)\n",
            "Requirement already satisfied: kiwisolver>=1.0.1 in /usr/local/lib/python3.6/dist-packages (from matplotlib->gluoncv) (1.3.1)\n",
            "Requirement already satisfied: python-dateutil>=2.1 in /usr/local/lib/python3.6/dist-packages (from matplotlib->gluoncv) (2.8.1)\n",
            "Requirement already satisfied: pyparsing!=2.0.4,!=2.1.2,!=2.1.6,>=2.0.1 in /usr/local/lib/python3.6/dist-packages (from matplotlib->gluoncv) (2.4.7)\n",
            "Requirement already satisfied: cycler>=0.10 in /usr/local/lib/python3.6/dist-packages (from matplotlib->gluoncv) (0.10.0)\n",
            "Requirement already satisfied: idna<3,>=2.5 in /usr/local/lib/python3.6/dist-packages (from requests->gluoncv) (2.10)\n",
            "Requirement already satisfied: chardet<4,>=3.0.2 in /usr/local/lib/python3.6/dist-packages (from requests->gluoncv) (3.0.4)\n",
            "Requirement already satisfied: certifi>=2017.4.17 in /usr/local/lib/python3.6/dist-packages (from requests->gluoncv) (2020.6.20)\n",
            "Requirement already satisfied: urllib3!=1.25.0,!=1.25.1,<1.26,>=1.21.1 in /usr/local/lib/python3.6/dist-packages (from requests->gluoncv) (1.24.3)\n",
            "Requirement already satisfied: six>=1.5 in /usr/local/lib/python3.6/dist-packages (from python-dateutil>=2.1->matplotlib->gluoncv) (1.15.0)\n",
            "Installing collected packages: portalocker, gluoncv\n",
            "Successfully installed gluoncv-0.8.0 portalocker-2.0.0\n"
          ],
          "name": "stdout"
        }
      ]
    },
    {
      "cell_type": "code",
      "metadata": {
        "id": "zG53T9hI2nlC"
      },
      "source": [
        "import mxnet as mx\n",
        "import numpy as np\n",
        "import os, time, shutil\n",
        "import matplotlib.pyplot as plt\n",
        "from PIL import Image\n",
        "\n",
        "from mxnet import gluon, image, init, nd\n",
        "from mxnet import autograd as ag\n",
        "from mxnet.gluon import nn\n",
        "from mxnet.gluon.data.vision import transforms\n",
        "from gluoncv.utils import makedirs\n",
        "from gluoncv.model_zoo import get_model"
      ],
      "execution_count": 4,
      "outputs": []
    },
    {
      "cell_type": "markdown",
      "metadata": {
        "id": "UGh49iIJCP5u"
      },
      "source": [
        "# 4. Transfer Learning with Your Own Image Dataset\n",
        "\n",
        "Dataset size is a big factor in the performance of deep learning models.\n",
        "``ImageNet`` has over one million labeled images, but\n",
        "we often don't have so much labeled data in other domains.\n",
        "Training a deep learning models on small datasets may lead to severe overfitting.\n",
        "\n",
        "Transfer learning is a technique that addresses this problem.\n",
        "The idea is simple: we can start training with a pre-trained model,\n",
        "instead of starting from scratch.\n",
        "As Isaac Newton said, \"If I have seen further it is by standing on the\n",
        "shoulders of Giants\".\n"
      ]
    },
    {
      "cell_type": "code",
      "metadata": {
        "id": "VCMW-mPvwrcw",
        "colab": {
          "base_uri": "https://localhost:8080/"
        },
        "outputId": "6dfaee84-5df4-47ab-b70b-44c7039ffb49"
      },
      "source": [
        "import os\n",
        "from google.colab import files, drive   \n",
        "import pandas as pd\n",
        "\n",
        "# mount the google drive to my Colab session\n",
        "drive.mount('/content/gdrive')\n",
        "# use the google drive in my Colab session\n",
        "print(os.listdir('/content/gdrive/My Drive/'))\n",
        "\n",
        "home_path = '/content/gdrive/My Drive/cs101'"
      ],
      "execution_count": 5,
      "outputs": [
        {
          "output_type": "stream",
          "text": [
            "Mounted at /content/gdrive\n",
            "['cs101', 'Getting started.pdf', 'Colab Notebooks', 'senet_154-max-window2-batch16-lr0.001-mom0.9-wd0.0001', 'senet_154-max-window2-batch8-lr0.001-mom0.9-wd0.0001', 'Mock Interview Questions.gdoc', 'Behavioral Questions.gdoc']\n"
          ],
          "name": "stdout"
        }
      ]
    },
    {
      "cell_type": "code",
      "metadata": {
        "id": "qNwGhNxksiab"
      },
      "source": [
        "# Set window to ignore around polarization\n",
        "window = 2\n",
        "\n",
        "# Set aggregation function: middle, avg, max, min\n",
        "agg_fn = 'avg'"
      ],
      "execution_count": 6,
      "outputs": []
    },
    {
      "cell_type": "code",
      "metadata": {
        "id": "jarQcT4Myge3",
        "colab": {
          "base_uri": "https://localhost:8080/"
        },
        "outputId": "08a4a6d1-748b-4daa-e077-1272d74ac323"
      },
      "source": [
        "import shutil\n",
        "\n",
        "# Fixing the random seed\n",
        "mx.random.seed(42)\n",
        "np.random.seed(42)\n",
        "\n",
        "# Available data\n",
        "embryo_inds = [1, 3, 12, 13, 16, 18, 19, 24, 39, 40, 42, 45, 46, 47, 49, 50, 52, 53]\n",
        "\n",
        "# Load info about videos\n",
        "video_time_info = pd.read_excel(f'{home_path}/video_data_time_info_CS101.xlsx', \\\n",
        "                                index_col=0, header=0, na_values=['NaN','NAN'], \\\n",
        "                                usecols=['usable_index', 'first_pol_time', 't_num'])  \n",
        "video_time_info.dropna(inplace=True, subset=['first_pol_time'])\n",
        "print(video_time_info.loc[embryo_inds, 't_num'])\n",
        "\n",
        "# Directory of the processed *.npy files\n",
        "processed_path = f'{home_path}/processed'\n",
        "polar_processed_path = f'{processed_path}/polarization'\n",
        "\n",
        "p = np.random.permutation(len(embryo_inds))\n",
        "p_embryo = [embryo_inds[i] for i in p]\n",
        "t_num = list(video_time_info.loc[embryo_inds, 't_num'])\n",
        "t_num_random = list(video_time_info.loc[p_embryo, 't_num'])\n",
        "\n",
        "instance_cum_random = np.cumsum(t_num_random)\n",
        "test_split_point = instance_cum_random[-1]*0.83\n",
        "temp = abs(instance_cum_random-test_split_point)\n",
        "test_idx = np.argmin(temp)\n",
        "\n",
        "val_split_point = instance_cum_random[-1]*0.7\n",
        "temp = abs(instance_cum_random-val_split_point)\n",
        "val_idx = np.argmin(temp)\n",
        "\n",
        "train_embryos = p_embryo[:val_idx]\n",
        "val_embryos = p_embryo[val_idx:test_idx]\n",
        "test_embryos = p_embryo[test_idx:]\n",
        "print(train_embryos)\n",
        "print(val_embryos)\n",
        "print(test_embryos)\n",
        "\n",
        "# Paths for input data\n",
        "data_path = f'{processed_path}/fluo_data/{agg_fn}'\n",
        "pol_path = f'{processed_path}/polarization'\n",
        "train_path = os.path.join(data_path, f'train_{window}')\n",
        "val_path = os.path.join(data_path, f'val_{window}')\n",
        "test_path = os.path.join(data_path, f'test_{window}')\n",
        "\n",
        "shutil.rmtree(train_path)\n",
        "shutil.rmtree(test_path)\n",
        "shutil.rmtree(val_path)\n",
        "\n",
        "if not os.path.isdir(train_path):\n",
        "  os.mkdir(train_path)\n",
        "  os.mkdir(os.path.join(train_path, '0'))\n",
        "  os.mkdir(os.path.join(train_path, '1'))\n",
        "\n",
        "if not os.path.isdir(val_path):\n",
        "  os.mkdir(val_path)\n",
        "  os.mkdir(os.path.join(val_path, '0'))\n",
        "  os.mkdir(os.path.join(val_path, '1'))\n",
        "\n",
        "if not os.path.isdir(test_path):\n",
        "  os.mkdir(test_path)\n",
        "  os.mkdir(os.path.join(test_path, '0'))\n",
        "  os.mkdir(os.path.join(test_path, '1'))"
      ],
      "execution_count": 7,
      "outputs": [
        {
          "output_type": "stream",
          "text": [
            "usable_index\n",
            "1      21.0\n",
            "3      21.0\n",
            "12    143.0\n",
            "13    143.0\n",
            "16    143.0\n",
            "18    143.0\n",
            "19    143.0\n",
            "24     21.0\n",
            "39     21.0\n",
            "40     21.0\n",
            "42     21.0\n",
            "45     21.0\n",
            "46     21.0\n",
            "47     21.0\n",
            "49     21.0\n",
            "50     21.0\n",
            "52     21.0\n",
            "53     21.0\n",
            "Name: t_num, dtype: float64\n",
            "[1, 3, 39, 18, 13, 47, 52, 50, 45, 12, 40, 53]\n",
            "[16, 46, 24]\n",
            "[42, 49, 19]\n"
          ],
          "name": "stdout"
        }
      ]
    },
    {
      "cell_type": "code",
      "metadata": {
        "id": "4DeDWzqZ1xKt",
        "colab": {
          "base_uri": "https://localhost:8080/"
        },
        "outputId": "b25eee0b-a141-4a0b-c51e-2be13212f3dd"
      },
      "source": [
        "# Actually create the images\n",
        "\n",
        "def within_window(embryo_idx, t, window):\n",
        "    '''\n",
        "    embryo_idx: index of current embryo (value from 'usable_index' col)\n",
        "    t: timestep of current\n",
        "    window: number of t steps from first polarized index to ignore\n",
        "    '''\n",
        "    first_pol_idx = video_time_info.loc[embryo_idx, 'first_pol_time'] - 1\n",
        "    return window and abs(first_pol_idx - t) <= window\n",
        "\n",
        "def save_nps_as_png(embryos, save_path, window=None):\n",
        "    '''\n",
        "    embryos: subset of p_embryo... train, val, test\n",
        "    save_path: path to save png to... data_path + {'train', 'val', 'test'}\n",
        "    window: number of t steps from first polarized index to ignore\n",
        "    '''\n",
        "    for i in range(len(embryos)):\n",
        "        embryo_idx = embryos[i]\n",
        "        embryo_path = f'{data_path}/embryo_{embryo_idx}.npy'\n",
        "        embryo_pol_path = f'{pol_path}/embryo_{embryo_idx}.npy'\n",
        "        embryo = np.squeeze(np.load(embryo_path))\n",
        "        embryo_pol = np.squeeze(np.load(embryo_pol_path)).astype(int)\n",
        "        embryo = embryo.astype(np.float64) / np.max(embryo) # normalize the data to 0 - 1\n",
        "        embryo = 255 * embryo # Now scale by 255\n",
        "        embryo = embryo.astype(np.uint8)\n",
        "        print(embryo_idx, np.shape(embryo)[2])\n",
        "        for t in range(np.shape(embryo)[2]):\n",
        "            if within_window(embryo_idx, t, window):\n",
        "                print(f'skipping embryo {embryo_idx} step {t}')\n",
        "                continue\n",
        "            pol = embryo_pol[t]\n",
        "            img = Image.fromarray(embryo[:,:,t], 'L')\n",
        "            img_path = f'{save_path}/{pol}/embryo_{embryo_idx}_{t}.png'\n",
        "            img.save(img_path)\n",
        "\n",
        "save_nps_as_png(train_embryos, train_path, window=window)\n",
        "save_nps_as_png(val_embryos, val_path, window=window)\n",
        "save_nps_as_png(test_embryos, test_path, window=window)"
      ],
      "execution_count": 8,
      "outputs": [
        {
          "output_type": "stream",
          "text": [
            "1 21\n",
            "skipping embryo 1 step 14\n",
            "skipping embryo 1 step 15\n",
            "skipping embryo 1 step 16\n",
            "skipping embryo 1 step 17\n",
            "skipping embryo 1 step 18\n",
            "3 21\n",
            "skipping embryo 3 step 9\n",
            "skipping embryo 3 step 10\n",
            "skipping embryo 3 step 11\n",
            "skipping embryo 3 step 12\n",
            "skipping embryo 3 step 13\n",
            "39 21\n",
            "skipping embryo 39 step 9\n",
            "skipping embryo 39 step 10\n",
            "skipping embryo 39 step 11\n",
            "skipping embryo 39 step 12\n",
            "skipping embryo 39 step 13\n",
            "18 143\n",
            "skipping embryo 18 step 24\n",
            "skipping embryo 18 step 25\n",
            "skipping embryo 18 step 26\n",
            "skipping embryo 18 step 27\n",
            "skipping embryo 18 step 28\n",
            "13 143\n",
            "skipping embryo 13 step 9\n",
            "skipping embryo 13 step 10\n",
            "skipping embryo 13 step 11\n",
            "skipping embryo 13 step 12\n",
            "skipping embryo 13 step 13\n",
            "47 21\n",
            "skipping embryo 47 step 14\n",
            "skipping embryo 47 step 15\n",
            "skipping embryo 47 step 16\n",
            "skipping embryo 47 step 17\n",
            "skipping embryo 47 step 18\n",
            "52 21\n",
            "skipping embryo 52 step 10\n",
            "skipping embryo 52 step 11\n",
            "skipping embryo 52 step 12\n",
            "skipping embryo 52 step 13\n",
            "skipping embryo 52 step 14\n",
            "50 21\n",
            "skipping embryo 50 step 18\n",
            "skipping embryo 50 step 19\n",
            "skipping embryo 50 step 20\n",
            "45 21\n",
            "skipping embryo 45 step 16\n",
            "skipping embryo 45 step 17\n",
            "skipping embryo 45 step 18\n",
            "skipping embryo 45 step 19\n",
            "skipping embryo 45 step 20\n",
            "12 143\n",
            "skipping embryo 12 step 8\n",
            "skipping embryo 12 step 9\n",
            "skipping embryo 12 step 10\n",
            "skipping embryo 12 step 11\n",
            "skipping embryo 12 step 12\n",
            "40 21\n",
            "skipping embryo 40 step 5\n",
            "skipping embryo 40 step 6\n",
            "skipping embryo 40 step 7\n",
            "skipping embryo 40 step 8\n",
            "skipping embryo 40 step 9\n",
            "53 21\n",
            "skipping embryo 53 step 17\n",
            "skipping embryo 53 step 18\n",
            "skipping embryo 53 step 19\n",
            "skipping embryo 53 step 20\n",
            "16 143\n",
            "skipping embryo 16 step 27\n",
            "skipping embryo 16 step 28\n",
            "skipping embryo 16 step 29\n",
            "skipping embryo 16 step 30\n",
            "skipping embryo 16 step 31\n",
            "46 21\n",
            "skipping embryo 46 step 16\n",
            "skipping embryo 46 step 17\n",
            "skipping embryo 46 step 18\n",
            "skipping embryo 46 step 19\n",
            "skipping embryo 46 step 20\n",
            "24 21\n",
            "skipping embryo 24 step 17\n",
            "skipping embryo 24 step 18\n",
            "skipping embryo 24 step 19\n",
            "skipping embryo 24 step 20\n",
            "42 21\n",
            "skipping embryo 42 step 13\n",
            "skipping embryo 42 step 14\n",
            "skipping embryo 42 step 15\n",
            "skipping embryo 42 step 16\n",
            "skipping embryo 42 step 17\n",
            "49 21\n",
            "skipping embryo 49 step 18\n",
            "skipping embryo 49 step 19\n",
            "skipping embryo 49 step 20\n",
            "19 143\n",
            "skipping embryo 19 step 29\n",
            "skipping embryo 19 step 30\n",
            "skipping embryo 19 step 31\n",
            "skipping embryo 19 step 32\n",
            "skipping embryo 19 step 33\n"
          ],
          "name": "stdout"
        }
      ]
    },
    {
      "cell_type": "markdown",
      "metadata": {
        "id": "mhHeN0l4CP5y"
      },
      "source": [
        "## Hyperparameters\n",
        "\n",
        "First, let's import all other necessary libraries.\n",
        "\n"
      ]
    },
    {
      "cell_type": "markdown",
      "metadata": {
        "id": "UiAE4g8aCP53"
      },
      "source": [
        "We set the hyperparameters as following:\n",
        "\n"
      ]
    },
    {
      "cell_type": "code",
      "metadata": {
        "id": "kVQCpNXYCP53",
        "colab": {
          "base_uri": "https://localhost:8080/"
        },
        "outputId": "83d03232-71c6-4d1d-be59-531a7851b05a"
      },
      "source": [
        "classes = 2\n",
        "\n",
        "epochs = 40\n",
        "lr = 0.001\n",
        "per_device_batch_size = 16\n",
        "momentum = 0.9\n",
        "wd = 0.0001\n",
        "\n",
        "lr_factor = 0.75\n",
        "lr_steps = [10, 20, 30, np.inf]\n",
        "\n",
        "num_gpus = 1\n",
        "num_workers = 8\n",
        "ctx = [mx.gpu(i) for i in range(num_gpus)] if num_gpus > 0 else [mx.cpu()]\n",
        "batch_size = per_device_batch_size * max(num_gpus, 1)\n",
        "print(ctx)"
      ],
      "execution_count": 9,
      "outputs": [
        {
          "output_type": "stream",
          "text": [
            "[gpu(0)]\n"
          ],
          "name": "stdout"
        }
      ]
    },
    {
      "cell_type": "markdown",
      "metadata": {
        "id": "THLMmIhfCP56"
      },
      "source": [
        "Things to keep in mind:\n",
        "\n",
        "1. ``epochs = 5`` is just for this tutorial with the tiny dataset. please change it to a larger number in your experiments, for instance 40.\n",
        "2. ``per_device_batch_size`` is also set to a small number. In your experiments you can try larger number like 64.\n",
        "3. remember to tune ``num_gpus`` and ``num_workers`` according to your machine.\n",
        "4. A pre-trained model is already in a pretty good status. So we can start with a small ``lr``.\n",
        "\n",
        "## Data Augmentation\n",
        "\n",
        "In transfer learning, data augmentation can also help.\n",
        "We use the following augmentation in training:\n",
        "\n",
        "2. Randomly crop the image and resize it to 224x224\n",
        "3. Randomly flip the image horizontally\n",
        "4. Randomly jitter color and add noise\n",
        "5. Transpose the data from height*width*num_channels to num_channels*height*width, and map values from [0, 255] to [0, 1]\n",
        "6. Normalize with the mean and standard deviation from the ImageNet dataset.\n",
        "\n",
        "\n"
      ]
    },
    {
      "cell_type": "code",
      "metadata": {
        "id": "CYgiHxUECP56"
      },
      "source": [
        "transform_train = transforms.Compose([\n",
        "    transforms.Resize(600, keep_ratio=True),\n",
        "    transforms.CenterCrop(512),\n",
        "\n",
        "    transforms.RandomFlipLeftRight(), # Randomly flip the image horizontally\n",
        "    transforms.RandomFlipTopBottom(),\n",
        "    transforms.RandomLighting(0.1), # Add AlexNet-style PCA-based noise to an image\n",
        "    transforms.RandomContrast(0.1),\n",
        "    transforms.ToTensor(),\n",
        "    transforms.Normalize([0.485, 0.456, 0.406], [0.229, 0.224, 0.225])\n",
        "])\n",
        "\n",
        "transform_test = transforms.Compose([\n",
        "    transforms.Resize(600, keep_ratio=True),\n",
        "    transforms.CenterCrop(512),\n",
        "    transforms.ToTensor(),\n",
        "    transforms.Normalize([0.485, 0.456, 0.406], [0.229, 0.224, 0.225])\n",
        "])\n"
      ],
      "execution_count": 10,
      "outputs": []
    },
    {
      "cell_type": "markdown",
      "metadata": {
        "id": "_OKZ2hq1CP59"
      },
      "source": [
        "With the data augmentation functions, we can define our data loaders:\n",
        "\n"
      ]
    },
    {
      "cell_type": "code",
      "metadata": {
        "id": "226lVHP2CP5-",
        "colab": {
          "base_uri": "https://localhost:8080/"
        },
        "outputId": "03196cf5-d8dd-46ff-8b6e-9cd2cc384124"
      },
      "source": [
        "train_data = gluon.data.DataLoader(\n",
        "    gluon.data.vision.ImageFolderDataset(train_path).transform_first(transform_train),\n",
        "    batch_size=batch_size, shuffle=True, num_workers=num_workers)\n",
        "\n",
        "val_data = gluon.data.DataLoader(\n",
        "    gluon.data.vision.ImageFolderDataset(val_path).transform_first(transform_train),\n",
        "    batch_size=batch_size, shuffle=True, num_workers = num_workers)\n",
        "\n",
        "test_data = gluon.data.DataLoader(\n",
        "    gluon.data.vision.ImageFolderDataset(test_path).transform_first(transform_test),\n",
        "    batch_size=batch_size, shuffle=False, num_workers = num_workers)\n",
        "\n",
        "print(len(train_data) + len(val_data) + len(test_data))"
      ],
      "execution_count": 11,
      "outputs": [
        {
          "output_type": "stream",
          "text": [
            "58\n"
          ],
          "name": "stdout"
        }
      ]
    },
    {
      "cell_type": "markdown",
      "metadata": {
        "id": "_IkfDxPxCP6B"
      },
      "source": [
        "Note that only ``train_data`` uses ``transform_train``, while\n",
        "``val_data`` and ``test_data`` use ``transform_test`` to produce deterministic\n",
        "results for evaluation.\n",
        "\n",
        "## Model and Trainer\n",
        "\n",
        "We use a pre-trained ``ResNet50_v2`` model, which has balanced accuracy and\n",
        "computation cost.\n",
        "\n"
      ]
    },
    {
      "cell_type": "code",
      "metadata": {
        "id": "J8KZlje8CP6B",
        "colab": {
          "base_uri": "https://localhost:8080/"
        },
        "outputId": "f6511895-07be-4545-ea85-f359951e68aa"
      },
      "source": [
        "model_name = 'densenet121' #'ResNet50_v2' \n",
        "finetune_net = get_model(model_name, pretrained=True)\n",
        "with finetune_net.name_scope():\n",
        "    finetune_net.output = nn.Dense(classes)\n",
        "finetune_net.output.initialize(init.Xavier(), ctx = ctx)\n",
        "finetune_net.collect_params().reset_ctx(ctx)\n",
        "finetune_net.hybridize()\n",
        "\n",
        "trainer = gluon.Trainer(finetune_net.collect_params(), 'sgd', {\n",
        "                        'learning_rate': lr, 'momentum': momentum, 'wd': wd})\n",
        "metric = mx.metric.Accuracy()\n",
        "L = gluon.loss.SoftmaxCrossEntropyLoss()\n",
        "\n",
        "# Path to save trained models to, create folder\n",
        "model_save_path = f'{home_path}/models/{model_name}-{agg_fn}-window{window}-batch{per_device_batch_size}-lr{lr}-mom{momentum}-wd{wd}'\n",
        "if not os.path.isdir(model_save_path):\n",
        "  os.mkdir(model_save_path)\n",
        "else:\n",
        "  print(model_save_path, 'already exists')"
      ],
      "execution_count": 12,
      "outputs": [
        {
          "output_type": "stream",
          "text": [
            "Downloading /root/.mxnet/models/densenet121-f27dbf2d.zip from https://apache-mxnet.s3-accelerate.dualstack.amazonaws.com/gluon/models/densenet121-f27dbf2d.zip...\n"
          ],
          "name": "stdout"
        },
        {
          "output_type": "stream",
          "text": [
            "100%|██████████| 29622/29622 [00:00<00:00, 41374.93KB/s]\n"
          ],
          "name": "stderr"
        },
        {
          "output_type": "stream",
          "text": [
            "/content/gdrive/My Drive/cs101/models/densenet121-avg-window2-batch16-lr0.001-mom0.9-wd0.0001 already exists\n"
          ],
          "name": "stdout"
        }
      ]
    },
    {
      "cell_type": "markdown",
      "metadata": {
        "id": "zjIqPfnNCP6E"
      },
      "source": [
        "Here's an illustration of the pre-trained model\n",
        "and our newly defined model:\n",
        "\n",
        "|image-model|\n",
        "\n",
        "Specifically, we define the new model by::\n",
        "\n",
        "1. load the pre-trained model\n",
        "2. re-define the output layer for the new task\n",
        "3. train the network\n",
        "\n",
        "This is called \"fine-tuning\", i.e. we have a model trained on another task,\n",
        "and we would like to tune it for the dataset we have in hand.\n",
        "\n",
        "We define a evaluation function for validation and testing.\n",
        "\n"
      ]
    },
    {
      "cell_type": "code",
      "metadata": {
        "id": "fzIMoYwlCP6E"
      },
      "source": [
        "def test(net, val_data, ctx):\n",
        "    metric = mx.metric.Accuracy()\n",
        "    for i, batch in enumerate(val_data):\n",
        "        data = gluon.utils.split_and_load(batch[0], ctx_list=ctx, batch_axis=0, even_split=False)\n",
        "        label = gluon.utils.split_and_load(batch[1], ctx_list=ctx, batch_axis=0, even_split=False)\n",
        "        outputs = [net(X) for X in data]\n",
        "        metric.update(label, outputs)\n",
        "\n",
        "    return metric.get()"
      ],
      "execution_count": 13,
      "outputs": []
    },
    {
      "cell_type": "markdown",
      "metadata": {
        "id": "ZJG2Rg_NCP6G"
      },
      "source": [
        "## Training Loop\n",
        "\n",
        "Following is the main training loop. It is the same as the loop in\n",
        "`CIFAR10 <dive_deep_cifar10.html>`__\n",
        "and ImageNet.\n",
        "\n",
        "<div class=\"alert alert-info\"><h4>Note</h4><p>Once again, in order to go through the tutorial faster, we are training on a small\n",
        "    subset of the original ``MINC-2500`` dataset, and for only 5 epochs. By training on the\n",
        "    full dataset with 40 epochs, it is expected to get accuracy around 80% on test data.</p></div>\n",
        "\n"
      ]
    },
    {
      "cell_type": "code",
      "metadata": {
        "id": "kwRaiiomCP6H",
        "colab": {
          "base_uri": "https://localhost:8080/"
        },
        "outputId": "3322a1cb-e743-4b90-eedf-0ba99b904bda"
      },
      "source": [
        "lr_counter = 0\n",
        "num_batch = len(train_data)\n",
        "train_acc_lst = []\n",
        "train_loss_lst = []\n",
        "val_acc_lst = []\n",
        "\n",
        "print(test(finetune_net, train_data, ctx)[1])\n",
        "train_acc_lst.append(test(finetune_net, train_data, ctx)[1])\n",
        "val_acc_lst.append(test(finetune_net, val_data, ctx)[1])\n",
        "\n",
        "for epoch in range(epochs):\n",
        "    if epoch == lr_steps[lr_counter]:\n",
        "        trainer.set_learning_rate(trainer.learning_rate*lr_factor)\n",
        "        lr_counter += 1\n",
        "\n",
        "    tic = time.time()\n",
        "    train_loss = 0\n",
        "    metric.reset()\n",
        "\n",
        "    for i, batch in enumerate(train_data):\n",
        "        data = gluon.utils.split_and_load(batch[0], ctx_list=ctx, batch_axis=0, even_split=False)\n",
        "        label = gluon.utils.split_and_load(batch[1], ctx_list=ctx, batch_axis=0, even_split=False)\n",
        "        with ag.record():\n",
        "            outputs = [finetune_net(X) for X in data]\n",
        "            loss = [L(yhat, y) for yhat, y in zip(outputs, label)]\n",
        "        for l in loss:\n",
        "            l.backward()\n",
        "\n",
        "        trainer.step(batch_size)\n",
        "        train_loss += sum([l.mean().asscalar() for l in loss]) / len(loss)\n",
        "\n",
        "        metric.update(label, outputs)\n",
        "\n",
        "    _, train_acc = metric.get()\n",
        "    train_loss /= num_batch\n",
        "\n",
        "    _, val_acc = test(finetune_net, val_data, ctx)\n",
        "\n",
        "    train_acc_lst.append(train_acc)\n",
        "    train_loss_lst.append(train_loss)\n",
        "    val_acc_lst.append(val_acc)\n",
        "    print('[Epoch %d] Train-acc: %.3f, loss: %.3f | Val-acc: %.3f | time: %.1f' %\n",
        "             (epoch, train_acc, train_loss, val_acc, time.time() - tic))\n",
        "    \n",
        "    # Saving model parameters to file for each epoch\n",
        "    file_name = f'{model_save_path}/epoch{epoch}.params'\n",
        "    finetune_net.save_parameters(file_name)\n",
        "\n",
        "_, test_acc = test(finetune_net, test_data, ctx)\n",
        "print('[Finished] Test-acc: %.3f' % (test_acc))"
      ],
      "execution_count": 14,
      "outputs": [
        {
          "output_type": "stream",
          "text": [
            "0.7415329768270945\n",
            "[Epoch 0] Train-acc: 0.856, loss: 0.373 | Val-acc: 0.918 | time: 36.5\n",
            "[Epoch 1] Train-acc: 0.918, loss: 0.189 | Val-acc: 0.854 | time: 37.3\n",
            "[Epoch 2] Train-acc: 0.973, loss: 0.086 | Val-acc: 0.883 | time: 37.3\n",
            "[Epoch 3] Train-acc: 0.979, loss: 0.064 | Val-acc: 0.848 | time: 37.2\n",
            "[Epoch 4] Train-acc: 0.980, loss: 0.064 | Val-acc: 0.854 | time: 37.3\n",
            "[Epoch 5] Train-acc: 0.995, loss: 0.071 | Val-acc: 0.901 | time: 37.1\n",
            "[Epoch 6] Train-acc: 0.991, loss: 0.031 | Val-acc: 0.871 | time: 37.2\n",
            "[Epoch 7] Train-acc: 0.988, loss: 0.035 | Val-acc: 0.901 | time: 37.2\n",
            "[Epoch 8] Train-acc: 0.996, loss: 0.017 | Val-acc: 0.901 | time: 37.2\n",
            "[Epoch 9] Train-acc: 0.998, loss: 0.051 | Val-acc: 0.889 | time: 37.1\n",
            "[Epoch 10] Train-acc: 0.993, loss: 0.019 | Val-acc: 0.906 | time: 37.3\n",
            "[Epoch 11] Train-acc: 1.000, loss: 0.005 | Val-acc: 0.901 | time: 37.3\n",
            "[Epoch 12] Train-acc: 1.000, loss: 0.004 | Val-acc: 0.912 | time: 37.3\n",
            "[Epoch 13] Train-acc: 0.998, loss: 0.047 | Val-acc: 0.901 | time: 37.2\n",
            "[Epoch 14] Train-acc: 0.998, loss: 0.008 | Val-acc: 0.901 | time: 37.3\n",
            "[Epoch 15] Train-acc: 1.000, loss: 0.005 | Val-acc: 0.936 | time: 37.1\n",
            "[Epoch 16] Train-acc: 0.998, loss: 0.005 | Val-acc: 0.918 | time: 37.0\n",
            "[Epoch 17] Train-acc: 0.998, loss: 0.007 | Val-acc: 0.895 | time: 37.0\n",
            "[Epoch 18] Train-acc: 0.996, loss: 0.040 | Val-acc: 0.889 | time: 37.0\n",
            "[Epoch 19] Train-acc: 1.000, loss: 0.006 | Val-acc: 0.930 | time: 36.9\n",
            "[Epoch 20] Train-acc: 1.000, loss: 0.002 | Val-acc: 0.901 | time: 37.1\n",
            "[Epoch 21] Train-acc: 1.000, loss: 0.006 | Val-acc: 0.901 | time: 37.0\n",
            "[Epoch 22] Train-acc: 1.000, loss: 0.002 | Val-acc: 0.912 | time: 36.8\n",
            "[Epoch 23] Train-acc: 0.998, loss: 0.003 | Val-acc: 0.895 | time: 37.0\n",
            "[Epoch 24] Train-acc: 0.998, loss: 0.079 | Val-acc: 0.889 | time: 37.0\n",
            "[Epoch 25] Train-acc: 1.000, loss: 0.002 | Val-acc: 0.889 | time: 36.9\n",
            "[Epoch 26] Train-acc: 1.000, loss: 0.002 | Val-acc: 0.906 | time: 37.1\n",
            "[Epoch 27] Train-acc: 1.000, loss: 0.001 | Val-acc: 0.895 | time: 36.8\n",
            "[Epoch 28] Train-acc: 1.000, loss: 0.012 | Val-acc: 0.918 | time: 37.0\n",
            "[Epoch 29] Train-acc: 1.000, loss: 0.002 | Val-acc: 0.889 | time: 36.9\n",
            "[Epoch 30] Train-acc: 1.000, loss: 0.001 | Val-acc: 0.912 | time: 37.0\n",
            "[Epoch 31] Train-acc: 1.000, loss: 0.001 | Val-acc: 0.895 | time: 37.0\n",
            "[Epoch 32] Train-acc: 0.998, loss: 0.007 | Val-acc: 0.871 | time: 37.2\n",
            "[Epoch 33] Train-acc: 1.000, loss: 0.004 | Val-acc: 0.906 | time: 37.0\n",
            "[Epoch 34] Train-acc: 1.000, loss: 0.002 | Val-acc: 0.901 | time: 36.8\n",
            "[Epoch 35] Train-acc: 1.000, loss: 0.001 | Val-acc: 0.918 | time: 37.1\n",
            "[Epoch 36] Train-acc: 1.000, loss: 0.001 | Val-acc: 0.906 | time: 36.9\n",
            "[Epoch 37] Train-acc: 1.000, loss: 0.001 | Val-acc: 0.912 | time: 36.9\n",
            "[Epoch 38] Train-acc: 1.000, loss: 0.001 | Val-acc: 0.895 | time: 36.9\n",
            "[Epoch 39] Train-acc: 1.000, loss: 0.010 | Val-acc: 0.883 | time: 36.9\n",
            "[Finished] Test-acc: 0.959\n"
          ],
          "name": "stdout"
        }
      ]
    },
    {
      "cell_type": "code",
      "metadata": {
        "id": "trGKRHk90iPG",
        "colab": {
          "base_uri": "https://localhost:8080/",
          "height": 312
        },
        "outputId": "9995aa40-31a5-4a49-e4ee-58dce6e636e8"
      },
      "source": [
        "# Plot training with validation\n",
        "plt.plot(range(epochs + 1), train_acc_lst, label='training')\n",
        "plt.plot(range(epochs + 1), val_acc_lst, label='validation')\n",
        "plt.legend(loc='lower right')\n",
        "plt.title('Training and Validation Accuracies by Epoch')\n",
        "plt.xlabel('Epoch')\n",
        "plt.ylabel('Accuracy')\n",
        "\n",
        "print(np.argmax(val_acc_lst))"
      ],
      "execution_count": 15,
      "outputs": [
        {
          "output_type": "stream",
          "text": [
            "16\n"
          ],
          "name": "stdout"
        },
        {
          "output_type": "display_data",
          "data": {
            "image/png": "[encoded data removed]",
            "text/plain": [
              "<Figure size 432x288 with 1 Axes>"
            ]
          },
          "metadata": {
            "tags": [],
            "needs_background": "light"
          }
        }
      ]
    },
    {
      "cell_type": "code",
      "metadata": {
        "id": "kQpi65hs0kqu",
        "colab": {
          "base_uri": "https://localhost:8080/"
        },
        "outputId": "161e57c9-4045-487e-cba5-a33f2e99cf5a"
      },
      "source": [
        "# Loading best model parameters from file\n",
        "best_epoch = 16\n",
        "best_model_file_name = f'{model_save_path}/epoch{best_epoch}.params'\n",
        "finetune_net.load_parameters(best_model_file_name, ctx=ctx)\n",
        "# run on test data\n",
        "_, test_acc = test(finetune_net, test_data, ctx)\n",
        "print('[Finished] Test-acc: %.3f' % (test_acc))"
      ],
      "execution_count": 16,
      "outputs": [
        {
          "output_type": "stream",
          "text": [
            "[Finished] Test-acc: 0.965\n"
          ],
          "name": "stdout"
        }
      ]
    },
    {
      "cell_type": "markdown",
      "metadata": {
        "id": "kX-Dp9S5CP6J"
      },
      "source": [
        "## Next\n",
        "\n",
        "Now that you have learned to muster the power of transfer\n",
        "learning, to learn more about training a model on\n",
        "ImageNet, please read `this tutorial <dive_deep_imagenet.html>`__.\n",
        "\n",
        "The idea of transfer learning is the basis of\n",
        "`object detection <../examples_detection/index.html>`_ and\n",
        "`semantic segmentation <../examples_segmentation/index.html>`_,\n",
        "the next two chapters of our tutorial.\n",
        "\n",
        ".. |image-minc| image:: https://raw.githubusercontent.com/dmlc/web-data/master/gluoncv/datasets/MINC-2500.png\n",
        ".. |image-model| image:: https://zh.gluon.ai/_images/fine-tuning.svg\n",
        "\n"
      ]
    }
  ]
}