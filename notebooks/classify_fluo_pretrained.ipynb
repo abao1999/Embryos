{
  "nbformat": 4,
  "nbformat_minor": 0,
  "metadata": {
    "accelerator": "GPU",
    "colab": {
      "name": "Copy of classify_fluo_pretrained.ipynb",
      "provenance": [],
      "collapsed_sections": []
    },
    "kernelspec": {
      "display_name": "Python 3",
      "language": "python",
      "name": "python3"
    },
    "language_info": {
      "codemirror_mode": {
        "name": "ipython",
        "version": 3
      },
      "file_extension": ".py",
      "mimetype": "text/x-python",
      "name": "python",
      "nbconvert_exporter": "python",
      "pygments_lexer": "ipython3",
      "version": "3.7.4"
    }
  },
  "cells": [
    {
      "cell_type": "code",
      "metadata": {
        "id": "H29TGLErCP5r"
      },
      "source": [
        "%matplotlib inline"
      ],
      "execution_count": 1,
      "outputs": []
    },
    {
      "cell_type": "code",
      "metadata": {
        "id": "xVkEhqIhCeLH",
        "colab": {
          "base_uri": "https://localhost:8080/"
        },
        "outputId": "18baa509-8ffc-4deb-d2d2-cf402852a978"
      },
      "source": [
        "!pip install mxnet-cu101\n",
        "!pip install gluoncv"
      ],
      "execution_count": 2,
      "outputs": [
        {
          "output_type": "stream",
          "text": [
            "Collecting mxnet-cu101\n",
            "\u001b[?25l  Downloading https://files.pythonhosted.org/packages/40/26/9655677b901537f367c3c473376e4106abc72e01a8fc25b1cb6ed9c37e8c/mxnet_cu101-1.7.0-py2.py3-none-manylinux2014_x86_64.whl (846.0MB)\n",
            "\u001b[K     |███████████████████████████████▌| 834.1MB 1.3MB/s eta 0:00:10tcmalloc: large alloc 1147494400 bytes == 0x38cfc000 @  0x7f9e7a693615 0x591e47 0x4cc179 0x4cc2db 0x50a1cc 0x50beb4 0x507be4 0x509900 0x50a2fd 0x50beb4 0x507be4 0x509900 0x50a2fd 0x50cc96 0x58e683 0x50c127 0x58e683 0x50c127 0x58e683 0x50c127 0x58e683 0x50c127 0x5095c8 0x50a2fd 0x50beb4 0x507be4 0x509900 0x50a2fd 0x50beb4 0x5095c8 0x50a2fd\n",
            "\u001b[K     |████████████████████████████████| 846.0MB 21kB/s \n",
            "\u001b[?25hRequirement already satisfied: numpy<2.0.0,>1.16.0 in /usr/local/lib/python3.6/dist-packages (from mxnet-cu101) (1.18.5)\n",
            "Collecting graphviz<0.9.0,>=0.8.1\n",
            "  Downloading https://files.pythonhosted.org/packages/53/39/4ab213673844e0c004bed8a0781a0721a3f6bb23eb8854ee75c236428892/graphviz-0.8.4-py2.py3-none-any.whl\n",
            "Requirement already satisfied: requests<3,>=2.20.0 in /usr/local/lib/python3.6/dist-packages (from mxnet-cu101) (2.23.0)\n",
            "Requirement already satisfied: certifi>=2017.4.17 in /usr/local/lib/python3.6/dist-packages (from requests<3,>=2.20.0->mxnet-cu101) (2020.6.20)\n",
            "Requirement already satisfied: urllib3!=1.25.0,!=1.25.1,<1.26,>=1.21.1 in /usr/local/lib/python3.6/dist-packages (from requests<3,>=2.20.0->mxnet-cu101) (1.24.3)\n",
            "Requirement already satisfied: chardet<4,>=3.0.2 in /usr/local/lib/python3.6/dist-packages (from requests<3,>=2.20.0->mxnet-cu101) (3.0.4)\n",
            "Requirement already satisfied: idna<3,>=2.5 in /usr/local/lib/python3.6/dist-packages (from requests<3,>=2.20.0->mxnet-cu101) (2.10)\n",
            "Installing collected packages: graphviz, mxnet-cu101\n",
            "  Found existing installation: graphviz 0.10.1\n",
            "    Uninstalling graphviz-0.10.1:\n",
            "      Successfully uninstalled graphviz-0.10.1\n",
            "Successfully installed graphviz-0.8.4 mxnet-cu101-1.7.0\n",
            "Collecting gluoncv\n",
            "\u001b[?25l  Downloading https://files.pythonhosted.org/packages/b8/d7/74b530c461ac3eb90f6045a645a59450de1f3d616a4926e371daa021dbd8/gluoncv-0.8.0-py2.py3-none-any.whl (810kB)\n",
            "\u001b[K     |████████████████████████████████| 819kB 9.3MB/s \n",
            "\u001b[?25hRequirement already satisfied: matplotlib in /usr/local/lib/python3.6/dist-packages (from gluoncv) (3.2.2)\n",
            "Requirement already satisfied: numpy in /usr/local/lib/python3.6/dist-packages (from gluoncv) (1.18.5)\n",
            "Collecting portalocker\n",
            "  Downloading https://files.pythonhosted.org/packages/89/a6/3814b7107e0788040870e8825eebf214d72166adf656ba7d4bf14759a06a/portalocker-2.0.0-py2.py3-none-any.whl\n",
            "Requirement already satisfied: tqdm in /usr/local/lib/python3.6/dist-packages (from gluoncv) (4.41.1)\n",
            "Requirement already satisfied: requests in /usr/local/lib/python3.6/dist-packages (from gluoncv) (2.23.0)\n",
            "Requirement already satisfied: Pillow in /usr/local/lib/python3.6/dist-packages (from gluoncv) (7.0.0)\n",
            "Requirement already satisfied: scipy in /usr/local/lib/python3.6/dist-packages (from gluoncv) (1.4.1)\n",
            "Requirement already satisfied: kiwisolver>=1.0.1 in /usr/local/lib/python3.6/dist-packages (from matplotlib->gluoncv) (1.3.1)\n",
            "Requirement already satisfied: cycler>=0.10 in /usr/local/lib/python3.6/dist-packages (from matplotlib->gluoncv) (0.10.0)\n",
            "Requirement already satisfied: pyparsing!=2.0.4,!=2.1.2,!=2.1.6,>=2.0.1 in /usr/local/lib/python3.6/dist-packages (from matplotlib->gluoncv) (2.4.7)\n",
            "Requirement already satisfied: python-dateutil>=2.1 in /usr/local/lib/python3.6/dist-packages (from matplotlib->gluoncv) (2.8.1)\n",
            "Requirement already satisfied: certifi>=2017.4.17 in /usr/local/lib/python3.6/dist-packages (from requests->gluoncv) (2020.6.20)\n",
            "Requirement already satisfied: chardet<4,>=3.0.2 in /usr/local/lib/python3.6/dist-packages (from requests->gluoncv) (3.0.4)\n",
            "Requirement already satisfied: urllib3!=1.25.0,!=1.25.1,<1.26,>=1.21.1 in /usr/local/lib/python3.6/dist-packages (from requests->gluoncv) (1.24.3)\n",
            "Requirement already satisfied: idna<3,>=2.5 in /usr/local/lib/python3.6/dist-packages (from requests->gluoncv) (2.10)\n",
            "Requirement already satisfied: six in /usr/local/lib/python3.6/dist-packages (from cycler>=0.10->matplotlib->gluoncv) (1.15.0)\n",
            "Installing collected packages: portalocker, gluoncv\n",
            "Successfully installed gluoncv-0.8.0 portalocker-2.0.0\n"
          ],
          "name": "stdout"
        }
      ]
    },
    {
      "cell_type": "code",
      "metadata": {
        "id": "zG53T9hI2nlC"
      },
      "source": [
        "import mxnet as mx\n",
        "import numpy as np\n",
        "import os, time, shutil\n",
        "import matplotlib.pyplot as plt\n",
        "from PIL import Image\n",
        "\n",
        "from mxnet import gluon, image, init, nd\n",
        "from mxnet import autograd as ag\n",
        "from mxnet.gluon import nn\n",
        "from mxnet.gluon.data.vision import transforms\n",
        "from gluoncv.utils import makedirs\n",
        "from gluoncv.model_zoo import get_model"
      ],
      "execution_count": 3,
      "outputs": []
    },
    {
      "cell_type": "code",
      "metadata": {
        "colab": {
          "resources": {
            "http://localhost:8080/nbextensions/google.colab/files.js": {
              "data": "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",
              "ok": true,
              "headers": [
                [
                  "content-type",
                  "application/javascript"
                ]
              ],
              "status": 200,
              "status_text": ""
            }
          },
          "base_uri": "https://localhost:8080/",
          "height": 1000
        },
        "id": "jUjUw-DAlXlZ",
        "outputId": "9e082326-dfa6-4296-cf8d-af52873fb105"
      },
      "source": [
        "# https://stackoverflow.com/questions/48905127/importing-py-files-in-google-colab/48919022\n",
        "import os\n",
        "from google.colab import files\n",
        "src = list(files.upload().values())[0]\n",
        "open('utils.py','wb').write(src)\n",
        "# print(os.path.abspath('utils.py'))\n",
        "import utils\n",
        "help(utils)"
      ],
      "execution_count": 4,
      "outputs": [
        {
          "output_type": "display_data",
          "data": {
            "text/html": [
              "\n",
              "     <input type=\"file\" id=\"files-b0899d67-e396-46a2-9974-b19bb5efde8c\" name=\"files[]\" multiple disabled\n",
              "        style=\"border:none\" />\n",
              "     <output id=\"result-b0899d67-e396-46a2-9974-b19bb5efde8c\">\n",
              "      Upload widget is only available when the cell has been executed in the\n",
              "      current browser session. Please rerun this cell to enable.\n",
              "      </output>\n",
              "      <script src=\"/nbextensions/google.colab/files.js\"></script> "
            ],
            "text/plain": [
              "<IPython.core.display.HTML object>"
            ]
          },
          "metadata": {
            "tags": []
          }
        },
        {
          "output_type": "stream",
          "text": [
            "Saving utils.py to utils.py\n",
            "Help on module utils:\n",
            "\n",
            "NAME\n",
            "    utils\n",
            "\n",
            "FUNCTIONS\n",
            "    avg_across_z(img, normalize=False)\n",
            "        Returns a new image where each pixel\n",
            "        intensity is the average for that pixel across\n",
            "        all images in the z-stack.\n",
            "    \n",
            "    get_img_at_t(t, img)\n",
            "    \n",
            "    get_max_pixel(embryos, data_path)\n",
            "        Obtains the maximum pixel value across a set of embryos\n",
            "        embryos: subset of p_embryo... train, val, test\n",
            "        data_path: path from which to load processed np embryo data\n",
            "    \n",
            "    get_z_slice(z, img)\n",
            "    \n",
            "    max_across_z(img, normalize=False)\n",
            "        Returns a new image where each pixel\n",
            "        intensity is the maximum for that pixel across\n",
            "        all images in the z-stack.\n",
            "    \n",
            "    middle_z(img)\n",
            "    \n",
            "    min_across_z(img, normalize=False)\n",
            "        Returns a new image where each pixel\n",
            "        intensity is the minimum for that pixel across\n",
            "        all images in the z-stack.\n",
            "    \n",
            "    normalize(img)\n",
            "        Normalizes pixel values across all images in img\n",
            "        to range 0-1.\n",
            "    \n",
            "    save_nps_as_png(embryos, save_path, specs, window=None, normalize='per_embryo', dim=2, pol_subdir=True)\n",
            "        Save dataset in image format, sorted by polarization state\n",
            "        embryos: subset of p_embryo... train, val, test\n",
            "        specs = (data_path, pol_path, video_time_info)\n",
            "        save_path: path to save png to... data_path + {'train', 'val', 'test'}\n",
            "        specs: tuple with data_path (str: processed np embryo data),\n",
            "                          pol_path (str: embryo polarization labels),\n",
            "                          video_time_info (df: info per embryo)\n",
            "        window: number of t steps from first polarized index to ignore\n",
            "        normalize: type of normalization to apply (per_embryo, per_timestep, #)\n",
            "        dim: 2 or 3 (using 2d representation of z-stack or 3d selection of slices)\n",
            "        pol_subdir: whether to save images to \"{save_path}/{pol}/\" or \"{save_path}/\"\n",
            "    \n",
            "    save_nps_subset_z(embryos, save_path, specs, window=None, normalize='per_embryo', mode='middle', n_slices=3, pol_subdir=True)\n",
            "        Save dataset in image format, sorted by polarization state\n",
            "        embryos: subset of p_embryo... train, val, test\n",
            "        specs = (data_path, pol_path, video_time_info)\n",
            "        save_path: path to save png to... data_path + {'train', 'val', 'test'}\n",
            "        specs: tuple with data_path (str: processed np embryo data),\n",
            "                          pol_path (str: embryo polarization labels),\n",
            "                          video_time_info (df: info per embryo)\n",
            "        window: number of t steps from first polarized index to ignore\n",
            "        normalize: type of normalization to apply (per_embryo, per_timestep, #)\n",
            "        mode: min, middle, max... where to start z slices (if middle, get z slices around middle)\n",
            "        n_slices: number of z slices to get\n",
            "        pol_subdir: whether to save images to \"{save_path}/{pol}/\" or \"{save_path}/\"\n",
            "    \n",
            "    split_train_test_val(home_path, embryo_inds)\n",
            "        Splits a set of embryos into train/test/val:\n",
            "        home_path: path to shared drive folder\n",
            "        embryo_inds: list of embryos indices to use\n",
            "    \n",
            "    within_window(embryo_idx, t, window, video_time_info)\n",
            "        Returns if an embryo timestep is close to the 1st polarized time\n",
            "        embryo_idx: index of current embryo (value from 'embryo_index' col)\n",
            "        t: timestep of current\n",
            "        window: number of t steps from first polarized index to ignore\n",
            "        video_time_info: dataframe with labeling/timing information per embryo\n",
            "\n",
            "DATA\n",
            "    CLEAN_IDX = [3, 12, 13, 16, 18, 19, 23, 24, 25, 33, 39, 42, 46, 47, 76...\n",
            "    CLEAN_IDX_FULL = [3, 12, 13, 16, 18, 19, 23, 24, 25, 33, 39, 42, 46, 4...\n",
            "    FULL_IDX = [1, 3, 12, 13, 16, 18, 19, 24, 39, 40, 42, 45, 46, 47, 49, ...\n",
            "    PARTIAL_IDX = [1, 3, 12, 13, 16, 18, 19, 24, 39, 40, 42, 45, 46, 47, 4...\n",
            "\n",
            "FILE\n",
            "    /content/utils.py\n",
            "\n",
            "\n"
          ],
          "name": "stdout"
        }
      ]
    },
    {
      "cell_type": "markdown",
      "metadata": {
        "id": "UGh49iIJCP5u"
      },
      "source": [
        "# 4. Transfer Learning with Your Own Image Dataset\n",
        "\n",
        "Dataset size is a big factor in the performance of deep learning models.\n",
        "``ImageNet`` has over one million labeled images, but\n",
        "we often don't have so much labeled data in other domains.\n",
        "Training a deep learning models on small datasets may lead to severe overfitting.\n",
        "\n",
        "Transfer learning is a technique that addresses this problem.\n",
        "The idea is simple: we can start training with a pre-trained model,\n",
        "instead of starting from scratch.\n",
        "As Isaac Newton said, \"If I have seen further it is by standing on the\n",
        "shoulders of Giants\".\n"
      ]
    },
    {
      "cell_type": "code",
      "metadata": {
        "id": "VCMW-mPvwrcw",
        "colab": {
          "base_uri": "https://localhost:8080/"
        },
        "outputId": "fbdecd72-5903-4dcb-cd0e-2a048fe2d756"
      },
      "source": [
        "import os\n",
        "from google.colab import files, drive   \n",
        "import pandas as pd\n",
        "\n",
        "# mount the google drive to my Colab session\n",
        "drive.mount('/content/gdrive')\n",
        "# use the google drive in my Colab session\n",
        "print(os.listdir('/content/gdrive/Shared drives/Embryo_data'))\n",
        "\n",
        "home_path = '/content/gdrive/Shared drives/Embryo_data'"
      ],
      "execution_count": 5,
      "outputs": [
        {
          "output_type": "stream",
          "text": [
            "Mounted at /content/gdrive\n",
            "['mxnet_cnn2d_embryo_58_fine_tune_data_aug_ResNet50_v2_order_random.ipynb', 'Embryo3', 'Embryo12', 'Embryo13', 'Embryo16', 'Embryo19', 'Embryo18', 'Embryo24', 'Embryo39', 'Embryo42', 'Embryo46', 'Embryo47', 'Embryo23', 'Embryo33', 'Embryo25', 'Embryo95', 'Embryo97', 'Embryo96', 'Embryo98', 'Embryo101', 'Embryo99', 'Embryo100', 'Embryo102', 'Embryo76', 'Embryo78', 'Embryo81', 'Embryo79', 'Embryo80', 'Embryo84', 'Embryo85', 'Embryo87', 'Embryo88', 'Embryo92', 'Embryo94', 'Embryo93', 'embryo_info_CS101.xlsx', 'data', 'processed', 'models', 'pix2pix_PyTorch-GAN.ipynb', 'annotation.xlsx', 'Embryo110', 'Embryo109', 'Embryo111', 'Embryo113', 'Embryo112', 'Embryo114', 'Embryo116', 'Embryo115', 'Embryo117', 'Embryo118', 'Embryo119', 'Embryo120', 'Embryo103', 'Embryo104', 'Embryo105', 'Embryo107', 'Embryo106', 'Embryo108']\n"
          ],
          "name": "stdout"
        }
      ]
    },
    {
      "cell_type": "code",
      "metadata": {
        "id": "qNwGhNxksiab"
      },
      "source": [
        "# Set window to ignore around polarization\n",
        "window = 2\n",
        "\n",
        "# Set aggregation function: middle, avg, max, min\n",
        "agg_fn = 'avg'"
      ],
      "execution_count": 6,
      "outputs": []
    },
    {
      "cell_type": "markdown",
      "metadata": {
        "id": "mhHeN0l4CP5y"
      },
      "source": [
        "## Hyperparameters\n",
        "\n",
        "First, let's import all other necessary libraries.\n",
        "\n"
      ]
    },
    {
      "cell_type": "markdown",
      "metadata": {
        "id": "UiAE4g8aCP53"
      },
      "source": [
        "We set the hyperparameters as following:\n",
        "\n"
      ]
    },
    {
      "cell_type": "code",
      "metadata": {
        "id": "kVQCpNXYCP53",
        "colab": {
          "base_uri": "https://localhost:8080/"
        },
        "outputId": "68a8f10e-7db8-402a-d69d-a8d975db3754"
      },
      "source": [
        "classes = 2\n",
        "\n",
        "epochs = 30\n",
        "lr = 0.001\n",
        "per_device_batch_size = 16\n",
        "momentum = 0.9\n",
        "wd = 0.0001\n",
        "\n",
        "lr_factor = 0.75\n",
        "lr_steps = [10, 20, 30, np.inf]\n",
        "\n",
        "num_gpus = 1\n",
        "num_workers = 8\n",
        "ctx = [mx.gpu(i) for i in range(num_gpus)] if num_gpus > 0 else [mx.cpu()]\n",
        "batch_size = per_device_batch_size * max(num_gpus, 1)\n",
        "print(ctx)"
      ],
      "execution_count": 8,
      "outputs": [
        {
          "output_type": "stream",
          "text": [
            "[gpu(0)]\n"
          ],
          "name": "stdout"
        }
      ]
    },
    {
      "cell_type": "markdown",
      "metadata": {
        "id": "THLMmIhfCP56"
      },
      "source": [
        "Things to keep in mind:\n",
        "\n",
        "1. ``epochs = 5`` is just for this tutorial with the tiny dataset. please change it to a larger number in your experiments, for instance 40.\n",
        "2. ``per_device_batch_size`` is also set to a small number. In your experiments you can try larger number like 64.\n",
        "3. remember to tune ``num_gpus`` and ``num_workers`` according to your machine.\n",
        "4. A pre-trained model is already in a pretty good status. So we can start with a small ``lr``.\n",
        "\n",
        "## Data Augmentation\n",
        "\n",
        "In transfer learning, data augmentation can also help.\n",
        "We use the following augmentation in training:\n",
        "\n",
        "2. Randomly crop the image and resize it to 224x224\n",
        "3. Randomly flip the image horizontally\n",
        "4. Randomly jitter color and add noise\n",
        "5. Transpose the data from height*width*num_channels to num_channels*height*width, and map values from [0, 255] to [0, 1]\n",
        "6. Normalize with the mean and standard deviation from the ImageNet dataset.\n",
        "\n",
        "\n"
      ]
    },
    {
      "cell_type": "code",
      "metadata": {
        "id": "CYgiHxUECP56"
      },
      "source": [
        "transform_train = transforms.Compose([\n",
        "    transforms.Resize(600, keep_ratio=True),\n",
        "    transforms.CenterCrop(512),\n",
        "\n",
        "    transforms.RandomFlipLeftRight(), # Randomly flip the image horizontally\n",
        "    transforms.RandomFlipTopBottom(),\n",
        "    transforms.RandomLighting(0.1), # Add AlexNet-style PCA-based noise to an image\n",
        "    transforms.RandomContrast(0.1),\n",
        "    transforms.ToTensor(),\n",
        "    transforms.Normalize([0.485, 0.456, 0.406], [0.229, 0.224, 0.225])\n",
        "])\n",
        "\n",
        "transform_test = transforms.Compose([\n",
        "    transforms.Resize(600, keep_ratio=True),\n",
        "    transforms.CenterCrop(512),\n",
        "    transforms.ToTensor(),\n",
        "    transforms.Normalize([0.485, 0.456, 0.406], [0.229, 0.224, 0.225])\n",
        "])\n"
      ],
      "execution_count": 9,
      "outputs": []
    },
    {
      "cell_type": "markdown",
      "metadata": {
        "id": "_OKZ2hq1CP59"
      },
      "source": [
        "With the data augmentation functions, we can define our data loaders:\n",
        "\n"
      ]
    },
    {
      "cell_type": "code",
      "metadata": {
        "id": "v5-MROpDj8XW"
      },
      "source": [
        "class ImageFolderDataset(gluon.data.Dataset):\n",
        "    \"\"\"A dataset for loading image files stored in a folder structure.\n",
        "\n",
        "    like::\n",
        "\n",
        "        root/car/0001.jpg\n",
        "        root/car/xxxa.jpg\n",
        "        root/car/yyyb.jpg\n",
        "        root/bus/123.jpg\n",
        "        root/bus/023.jpg\n",
        "        root/bus/wwww.jpg\n",
        "\n",
        "    Parameters\n",
        "    ----------\n",
        "    root : str\n",
        "        Path to root directory.\n",
        "    flag : {0, 1}, default 1\n",
        "        If 0, always convert loaded images to greyscale (1 channel).\n",
        "        If 1, always convert loaded images to colored (3 channels).\n",
        "    transform : callable, default None\n",
        "        A function that takes data and label and transforms them::\n",
        "\n",
        "            transform = lambda data, label: (data.astype(np.float32)/255, label)\n",
        "\n",
        "    Attributes\n",
        "    ----------\n",
        "    synsets : list\n",
        "        List of class names. `synsets[i]` is the name for the integer label `i`\n",
        "    items : list of tuples\n",
        "        List of all images in (filename, label) pairs.\n",
        "    \"\"\"\n",
        "    def __init__(self, root, flag=1, transform=None):\n",
        "        self._root = os.path.expanduser(root)\n",
        "        self._flag = flag\n",
        "        self._transform = transform\n",
        "        self._exts = ['.jpg', '.jpeg', '.png']\n",
        "        self._list_images(self._root)\n",
        "\n",
        "    def _list_images(self, root):\n",
        "        self.items = []\n",
        "\n",
        "        for filename in sorted(os.listdir(root)):\n",
        "          filepath = os.path.join(root, filename)\n",
        "          self.items.append(filepath)\n",
        "\n",
        "    def __getitem__(self, idx):\n",
        "        ind = self.items[idx].find('embryo')\n",
        "        [embryo_num, embryo_t, label] = [int(num) for num in self.items[idx][ind:-4].split('_')[1:]]\n",
        "        print(embryo_num, embryo_t, label)\n",
        "        img = image.imread(self.items[idx], self._flag)\n",
        "        if self._transform is not None:\n",
        "            img = self._transform(img)\n",
        "        return img, label, embryo_num, embryo_t\n",
        "\n",
        "    def __len__(self):\n",
        "        return len(self.items)"
      ],
      "execution_count": 10,
      "outputs": []
    },
    {
      "cell_type": "code",
      "metadata": {
        "id": "226lVHP2CP5-"
      },
      "source": [
        "processed_path = f'{home_path}/processed'\n",
        "train_path = f'{processed_path}/pix2pix/train/bf_data'\n",
        "val_path = f'{processed_path}/pix2pix/val/bf_data'\n",
        "test_path = f'{processed_path}/pix2pix/test/bf_data'\n",
        "train_data = gluon.data.DataLoader(\n",
        "    ImageFolderDataset(train_path).transform_first(transform_train),\n",
        "    batch_size=batch_size, shuffle=True, num_workers=num_workers)\n",
        "\n",
        "val_data = gluon.data.DataLoader(\n",
        "    ImageFolderDataset(val_path).transform_first(transform_train),\n",
        "    batch_size=batch_size, shuffle=True, num_workers = num_workers)\n",
        "\n",
        "test_data = gluon.data.DataLoader(\n",
        "    ImageFolderDataset(test_path).transform_first(transform_test),\n",
        "    batch_size=batch_size, shuffle=False, num_workers = num_workers)"
      ],
      "execution_count": 11,
      "outputs": []
    },
    {
      "cell_type": "markdown",
      "metadata": {
        "id": "_IkfDxPxCP6B"
      },
      "source": [
        "Note that only ``train_data`` uses ``transform_train``, while\n",
        "``val_data`` and ``test_data`` use ``transform_test`` to produce deterministic\n",
        "results for evaluation.\n",
        "\n",
        "## Model and Trainer\n",
        "\n",
        "We use a pre-trained ``ResNet50_v2`` model, which has balanced accuracy and\n",
        "computation cost.\n",
        "\n"
      ]
    },
    {
      "cell_type": "code",
      "metadata": {
        "id": "J8KZlje8CP6B",
        "colab": {
          "base_uri": "https://localhost:8080/"
        },
        "outputId": "d9c3b90b-a9f5-4a9b-983e-e5802eb02e33"
      },
      "source": [
        "model_name = 'ResNet50_v2' \n",
        "finetune_net = get_model(model_name, pretrained=True)\n",
        "with finetune_net.name_scope():\n",
        "    finetune_net.output = nn.Dense(classes)\n",
        "finetune_net.output.initialize(init.Xavier(), ctx = ctx)\n",
        "finetune_net.collect_params().reset_ctx(ctx)\n",
        "finetune_net.hybridize()\n",
        "\n",
        "trainer = gluon.Trainer(finetune_net.collect_params(), 'sgd', {\n",
        "                        'learning_rate': lr, 'momentum': momentum, 'wd': wd})\n",
        "metric = mx.metric.Accuracy()\n",
        "L = gluon.loss.SoftmaxCrossEntropyLoss()\n",
        "\n",
        "# Path to save trained models to, create folder\n",
        "model_save_path = f'/content/gdrive/My Drive/cs101/models/{model_name}-batch{per_device_batch_size}-lr{lr}-mom{momentum}-wd{wd}'\n",
        "if not os.path.isdir(model_save_path):\n",
        "  os.mkdir(model_save_path)\n",
        "else:\n",
        "  print(model_save_path, 'already exists')\n"
      ],
      "execution_count": 12,
      "outputs": [
        {
          "output_type": "stream",
          "text": [
            "Downloading /root/.mxnet/models/resnet50_v2-ecdde353.zip from https://apache-mxnet.s3-accelerate.dualstack.amazonaws.com/gluon/models/resnet50_v2-ecdde353.zip...\n"
          ],
          "name": "stdout"
        },
        {
          "output_type": "stream",
          "text": [
            "92863KB [00:01, 85735.70KB/s]                           \n"
          ],
          "name": "stderr"
        }
      ]
    },
    {
      "cell_type": "markdown",
      "metadata": {
        "id": "zjIqPfnNCP6E"
      },
      "source": [
        "Here's an illustration of the pre-trained model\n",
        "and our newly defined model:\n",
        "\n",
        "|image-model|\n",
        "\n",
        "Specifically, we define the new model by::\n",
        "\n",
        "1. load the pre-trained model\n",
        "2. re-define the output layer for the new task\n",
        "3. train the network\n",
        "\n",
        "This is called \"fine-tuning\", i.e. we have a model trained on another task,\n",
        "and we would like to tune it for the dataset we have in hand.\n",
        "\n",
        "We define a evaluation function for validation and testing.\n",
        "\n"
      ]
    },
    {
      "cell_type": "code",
      "metadata": {
        "id": "fzIMoYwlCP6E"
      },
      "source": [
        "def test(net, val_data, ctx):\n",
        "    metric = mx.metric.Accuracy()\n",
        "    for i, batch in enumerate(val_data):\n",
        "        data = gluon.utils.split_and_load(batch[0], ctx_list=ctx, batch_axis=0, even_split=False)\n",
        "        label = gluon.utils.split_and_load(batch[1], ctx_list=ctx, batch_axis=0, even_split=False)\n",
        "        outputs = [net(X) for X in data]\n",
        "        metric.update(label, outputs)\n",
        "\n",
        "    return metric.get()"
      ],
      "execution_count": 13,
      "outputs": []
    },
    {
      "cell_type": "markdown",
      "metadata": {
        "id": "ZJG2Rg_NCP6G"
      },
      "source": [
        "## Training Loop\n",
        "\n",
        "Following is the main training loop. It is the same as the loop in\n",
        "`CIFAR10 <dive_deep_cifar10.html>`__\n",
        "and ImageNet.\n",
        "\n",
        "<div class=\"alert alert-info\"><h4>Note</h4><p>Once again, in order to go through the tutorial faster, we are training on a small\n",
        "    subset of the original ``MINC-2500`` dataset, and for only 5 epochs. By training on the\n",
        "    full dataset with 40 epochs, it is expected to get accuracy around 80% on test data.</p></div>\n",
        "\n"
      ]
    },
    {
      "cell_type": "code",
      "metadata": {
        "id": "kwRaiiomCP6H",
        "colab": {
          "base_uri": "https://localhost:8080/"
        },
        "outputId": "7d8158e0-5602-4eb1-a846-e3301cea5665"
      },
      "source": [
        "lr_counter = 0\n",
        "num_batch = len(train_data)\n",
        "train_acc_lst = []\n",
        "train_loss_lst = []\n",
        "val_acc_lst = []\n",
        "\n",
        "for epoch in range(epochs):\n",
        "    if epoch == lr_steps[lr_counter]:\n",
        "        trainer.set_learning_rate(trainer.learning_rate*lr_factor)\n",
        "        lr_counter += 1\n",
        "\n",
        "    tic = time.time()\n",
        "    train_loss = 0\n",
        "    metric.reset()\n",
        "\n",
        "    for i, batch in enumerate(train_data):\n",
        "        data = gluon.utils.split_and_load(batch[0], ctx_list=ctx, batch_axis=0, even_split=False)\n",
        "        label = gluon.utils.split_and_load(batch[1], ctx_list=ctx, batch_axis=0, even_split=False)\n",
        "        with ag.record():\n",
        "            outputs = [finetune_net(X) for X in data]\n",
        "            loss = [L(yhat, y) for yhat, y in zip(outputs, label)]\n",
        "        for l in loss:\n",
        "            l.backward()\n",
        "\n",
        "        trainer.step(batch_size)\n",
        "        train_loss += sum([l.mean().asscalar() for l in loss]) / len(loss)\n",
        "\n",
        "        metric.update(label, outputs)\n",
        "\n",
        "    _, train_acc = metric.get()\n",
        "    train_loss /= num_batch\n",
        "\n",
        "    _, val_acc = test(finetune_net, val_data, ctx)\n",
        "\n",
        "    train_acc_lst.append(train_acc)\n",
        "    train_loss_lst.append(train_loss)\n",
        "    val_acc_lst.append(val_acc)\n",
        "    print('[Epoch %d] Train-acc: %.3f, loss: %.3f | Val-acc: %.3f | time: %.1f' %\n",
        "             (epoch, train_acc, train_loss, val_acc, time.time() - tic))\n",
        "    \n",
        "    # Saving model parameters to file for each epoch\n",
        "    file_name = f'{model_save_path}/epoch{epoch}.params'\n",
        "    finetune_net.save_parameters(file_name)\n",
        "\n",
        "_, test_acc = test(finetune_net, test_data, ctx)\n",
        "print('[Finished] Test-acc: %.3f' % (test_acc))"
      ],
      "execution_count": 15,
      "outputs": [
        {
          "output_type": "stream",
          "text": [
            "[Epoch 0] Train-acc: 0.966, loss: 0.095 | Val-acc: 0.869 | time: 103.4\n",
            "[Epoch 1] Train-acc: 0.976, loss: 0.057 | Val-acc: 0.920 | time: 102.8\n",
            "[Epoch 2] Train-acc: 0.990, loss: 0.035 | Val-acc: 0.859 | time: 102.6\n",
            "[Epoch 3] Train-acc: 0.985, loss: 0.042 | Val-acc: 0.917 | time: 102.6\n",
            "[Epoch 4] Train-acc: 0.989, loss: 0.034 | Val-acc: 0.926 | time: 102.4\n",
            "[Epoch 5] Train-acc: 0.979, loss: 0.059 | Val-acc: 0.929 | time: 102.6\n",
            "[Epoch 6] Train-acc: 0.995, loss: 0.017 | Val-acc: 0.936 | time: 102.2\n",
            "[Epoch 7] Train-acc: 0.999, loss: 0.010 | Val-acc: 0.923 | time: 102.6\n",
            "[Epoch 8] Train-acc: 0.991, loss: 0.028 | Val-acc: 0.917 | time: 102.4\n",
            "[Epoch 9] Train-acc: 0.992, loss: 0.028 | Val-acc: 0.929 | time: 102.3\n",
            "[Epoch 10] Train-acc: 0.992, loss: 0.021 | Val-acc: 0.913 | time: 102.5\n",
            "[Epoch 11] Train-acc: 0.996, loss: 0.015 | Val-acc: 0.929 | time: 102.7\n",
            "[Epoch 12] Train-acc: 1.000, loss: 0.005 | Val-acc: 0.920 | time: 102.6\n",
            "[Epoch 13] Train-acc: 0.993, loss: 0.017 | Val-acc: 0.933 | time: 102.3\n",
            "[Epoch 14] Train-acc: 0.997, loss: 0.008 | Val-acc: 0.913 | time: 102.7\n",
            "[Epoch 15] Train-acc: 0.998, loss: 0.010 | Val-acc: 0.946 | time: 102.6\n",
            "[Epoch 16] Train-acc: 1.000, loss: 0.002 | Val-acc: 0.942 | time: 102.4\n",
            "[Epoch 17] Train-acc: 0.998, loss: 0.005 | Val-acc: 0.929 | time: 102.5\n",
            "[Epoch 18] Train-acc: 0.998, loss: 0.008 | Val-acc: 0.933 | time: 102.5\n",
            "[Epoch 19] Train-acc: 1.000, loss: 0.002 | Val-acc: 0.901 | time: 102.3\n",
            "[Epoch 20] Train-acc: 0.999, loss: 0.003 | Val-acc: 0.949 | time: 102.5\n",
            "[Epoch 21] Train-acc: 1.000, loss: 0.001 | Val-acc: 0.942 | time: 102.4\n",
            "[Epoch 22] Train-acc: 0.999, loss: 0.003 | Val-acc: 0.923 | time: 102.8\n",
            "[Epoch 23] Train-acc: 0.998, loss: 0.007 | Val-acc: 0.936 | time: 102.7\n",
            "[Epoch 24] Train-acc: 0.998, loss: 0.008 | Val-acc: 0.939 | time: 102.4\n",
            "[Epoch 25] Train-acc: 1.000, loss: 0.001 | Val-acc: 0.901 | time: 102.8\n",
            "[Epoch 26] Train-acc: 1.000, loss: 0.002 | Val-acc: 0.929 | time: 102.5\n",
            "[Epoch 27] Train-acc: 0.999, loss: 0.003 | Val-acc: 0.920 | time: 102.3\n",
            "[Epoch 28] Train-acc: 0.998, loss: 0.007 | Val-acc: 0.907 | time: 102.5\n",
            "[Epoch 29] Train-acc: 1.000, loss: 0.002 | Val-acc: 0.920 | time: 102.6\n",
            "[Finished] Test-acc: 0.851\n"
          ],
          "name": "stdout"
        }
      ]
    },
    {
      "cell_type": "code",
      "metadata": {
        "id": "trGKRHk90iPG",
        "colab": {
          "base_uri": "https://localhost:8080/",
          "height": 312
        },
        "outputId": "5b40680b-3bba-4cd2-b795-90db2056e4f6"
      },
      "source": [
        "# Plot training with validation\n",
        "plt.plot(range(epochs), train_acc_lst, label='training')\n",
        "plt.plot(range(epochs), val_acc_lst, label='validation')\n",
        "plt.legend(loc='lower right')\n",
        "plt.title('Training and Validation Accuracies by Epoch')\n",
        "plt.xlabel('Epoch')\n",
        "plt.ylabel('Accuracy')\n",
        "\n",
        "print(np.argmax(val_acc_lst))"
      ],
      "execution_count": 16,
      "outputs": [
        {
          "output_type": "stream",
          "text": [
            "20\n"
          ],
          "name": "stdout"
        },
        {
          "output_type": "display_data",
          "data": {
            "image/png": "[encoded data removed]",
            "text/plain": [
              "<Figure size 432x288 with 1 Axes>"
            ]
          },
          "metadata": {
            "tags": [],
            "needs_background": "light"
          }
        }
      ]
    },
    {
      "cell_type": "code",
      "metadata": {
        "id": "kQpi65hs0kqu",
        "colab": {
          "base_uri": "https://localhost:8080/"
        },
        "outputId": "8840ca99-13a0-4008-d44e-83301aea32c7"
      },
      "source": [
        "# Loading best model parameters from file\n",
        "best_epoch = 25\n",
        "best_model_file_name = f'{model_save_path}/epoch{best_epoch}.params'\n",
        "finetune_net.load_parameters(best_model_file_name, ctx=ctx)\n",
        "# run on test data\n",
        "_, test_acc = test(finetune_net, test_data, ctx)\n",
        "print('[Finished] Test-acc: %.3f' % (test_acc))"
      ],
      "execution_count": 19,
      "outputs": [
        {
          "output_type": "stream",
          "text": [
            "[Finished] Test-acc: 0.871\n"
          ],
          "name": "stdout"
        }
      ]
    },
    {
      "cell_type": "code",
      "metadata": {
        "id": "CPKfked1xKu_"
      },
      "source": [
        ""
      ],
      "execution_count": null,
      "outputs": []
    },
    {
      "cell_type": "markdown",
      "metadata": {
        "id": "kX-Dp9S5CP6J"
      },
      "source": [
        "## Next\n",
        "\n",
        "Now that you have learned to muster the power of transfer\n",
        "learning, to learn more about training a model on\n",
        "ImageNet, please read `this tutorial <dive_deep_imagenet.html>`__.\n",
        "\n",
        "The idea of transfer learning is the basis of\n",
        "`object detection <../examples_detection/index.html>`_ and\n",
        "`semantic segmentation <../examples_segmentation/index.html>`_,\n",
        "the next two chapters of our tutorial.\n",
        "\n",
        ".. |image-minc| image:: https://raw.githubusercontent.com/dmlc/web-data/master/gluoncv/datasets/MINC-2500.png\n",
        ".. |image-model| image:: https://zh.gluon.ai/_images/fine-tuning.svg\n",
        "\n"
      ]
    }
  ]
}