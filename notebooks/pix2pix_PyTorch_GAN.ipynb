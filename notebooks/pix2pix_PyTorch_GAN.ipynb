{
  "nbformat": 4,
  "nbformat_minor": 0,
  "metadata": {
    "colab": {
      "name": "pix2pix_PyTorch-GAN.ipynb",
      "provenance": [],
      "collapsed_sections": [],
      "toc_visible": true,
      "machine_shape": "hm",
      "include_colab_link": true
    },
    "kernelspec": {
      "name": "python3",
      "display_name": "Python 3"
    },
    "accelerator": "GPU"
  },
  "cells": [
    {
      "cell_type": "markdown",
      "metadata": {
        "id": "view-in-github",
        "colab_type": "text"
      },
      "source": [
        "<a href=\"https://colab.research.google.com/github/abao1999/Embryos/blob/main/notebooks/pix2pix_PyTorch_GAN.ipynb\" target=\"_parent\"><img src=\"https://colab.research.google.com/assets/colab-badge.svg\" alt=\"Open In Colab\"/></a>"
      ]
    },
    {
      "cell_type": "markdown",
      "metadata": {
        "id": "jomokfQvqafF"
      },
      "source": [
        "Adapted from https://github.com/eriklindernoren/PyTorch-GAN"
      ]
    },
    {
      "cell_type": "markdown",
      "metadata": {
        "id": "dPUXnAXhxrcw"
      },
      "source": [
        "###Mount drive"
      ]
    },
    {
      "cell_type": "code",
      "metadata": {
        "id": "XoTPBYPhfJ70",
        "colab": {
          "base_uri": "https://localhost:8080/"
        },
        "outputId": "49d5b7ea-7660-4dcb-f820-439e644a3b09"
      },
      "source": [
        "import os\n",
        "from google.colab import files, drive   \n",
        "\n",
        "# mount the google drive to my Colab session\n",
        "drive.mount('/content/gdrive')\n",
        "# use the google drive in my Colab session\n",
        "print(os.listdir('/content/gdrive/My Drive/'))\n",
        "\n",
        "shared_path = '/content/gdrive/Shared drives/Embryo_data'"
      ],
      "execution_count": 2,
      "outputs": [
        {
          "output_type": "stream",
          "text": [
            "Mounted at /content/gdrive\n",
            "['cs101', 'Getting started.pdf', 'Colab Notebooks', 'embryo_13_fluo_sequence.mp4', 'embryo_13_fluo_slice.mp4', 'embryo_13_bf_slice.mp4', 'embryo_13_bf_sequence.mp4', 'hi', 'embryo data.gsheet', 'classify_fluo_pretrained.ipynb', 'classify_fluo_CNN_2.ipynb', 'Copy of Pyramid Principle Exercise.gslides', 'dloss_100.npy', 'gloss_100.npy', 'generator_100.pth', 'discriminator_100.pth', 'ResNet50_v2-batch16-lr0.001-mom0.9-wd0.0001 (8)', 'ResNet50_v2-batch16-lr0.001-mom0 (2).9-wd0.0001-epoch0.params', 'ResNet50_v2-batch16-lr0.001-mom0 (2).9-wd0.0001-epoch1.params', 'ResNet50_v2-batch16-lr0.001-mom0 (1).9-wd0.0001-epoch2.params', 'ResNet50_v2-batch16-lr0.001-mom0 (1).9-wd0.0001-epoch3.params', 'ResNet50_v2-batch16-lr0.001-mom0 (1).9-wd0.0001-epoch4.params', 'ResNet50_v2-batch16-lr0.001-mom0 (1).9-wd0.0001-epoch5.params', 'ResNet50_v2-batch16-lr0.001-mom0 (1).9-wd0.0001-epoch6.params', 'ResNet50_v2-batch16-lr0.001-mom0.9-wd0.0001 (7)', 'ResNet50_v2-batch16-lr0.001-mom0.9-wd0.0001 (6)', 'ResNet50_v2-batch16-lr0.001-mom0.9-wd0.0001 (5)', 'ResNet50_v2-batch16-lr0.001-mom0.9-wd0.0001 (4)', 'ResNet50_v2-batch16-lr0.001-mom0.9-wd0.0001 (3)', 'ResNet50_v2-batch16-lr0.001-mom0.9-wd0.0001 (2)', 'ResNet50_v2-batch16-lr0.001-mom0.9-wd0.0001 (1)', 'ResNet50_v2-batch16-lr0.001-mom0.9-wd0.0001', 'ResNet50_v2-batch16-lr0.001-mom0 (1).9-wd0.0001-epoch0.params', 'ResNet50_v2-batch16-lr0.001-mom0 (1).9-wd0.0001-epoch1.params', 'ResNet50_v2-batch16-lr0.001-mom0.9-wd0.0001-epoch0.params', 'ResNet50_v2-batch16-lr0.001-mom0.9-wd0.0001-epoch1.params', 'ResNet50_v2-batch16-lr0.001-mom0.9-wd0.0001-epoch2.params', 'ResNet50_v2-batch16-lr0.001-mom0.9-wd0.0001-epoch3.params', 'ResNet50_v2-batch16-lr0.001-mom0.9-wd0.0001-epoch4.params', 'ResNet50_v2-batch16-lr0.001-mom0.9-wd0.0001-epoch5.params', 'ResNet50_v2-batch16-lr0.001-mom0.9-wd0.0001-epoch6.params', 'ResNet50_v2-batch16-lr0.001-mom0.9-wd0.0001-epoch7.params', 'ResNet50_v2-batch16-lr0.001-mom0.9-wd0.0001-epoch8.params', 'ResNet50_v2-batch16-lr0.001-mom0.9-wd0.0001-epoch9.params', 'ResNet50_v2-batch16-lr0.001-mom0.9-wd0.0001-epoch10.params', 'ResNet50_v2-batch16-lr0.001-mom0.9-wd0.0001-epoch11.params', 'ResNet50_v2-batch16-lr0.001-mom0.9-wd0.0001-epoch12.params', 'ResNet50_v2-batch16-lr0.001-mom0.9-wd0.0001-epoch13.params', 'ResNet50_v2-batch16-lr0.001-mom0.9-wd0.0001-epoch14.params', 'ResNet50_v2-batch16-lr0.001-mom0.9-wd0.0001-epoch15.params', 'ResNet50_v2-batch16-lr0.001-mom0.9-wd0.0001-epoch16.params', 'ResNet50_v2-batch16-lr0.001-mom0.9-wd0.0001-epoch17.params', 'ResNet50_v2-batch16-lr0.001-mom0.9-wd0.0001-epoch18.params', 'ResNet50_v2-batch16-lr0.001-mom0.9-wd0.0001-epoch19.params', 'ResNet50_v2-batch16-lr0.001-mom0.9-wd0.0001-epoch20.params', 'ResNet50_v2-batch16-lr0.001-mom0.9-wd0.0001-epoch21.params', 'ResNet50_v2-batch16-lr0.001-mom0.9-wd0.0001-epoch22.params', 'ResNet50_v2-batch16-lr0.001-mom0.9-wd0.0001-epoch23.params', 'ResNet50_v2-batch16-lr0.001-mom0.9-wd0.0001-epoch24.params', 'ResNet50_v2-batch16-lr0.001-mom0.9-wd0.0001-epoch25.params', 'ResNet50_v2-batch16-lr0.001-mom0.9-wd0.0001-epoch26.params', 'ResNet50_v2-batch16-lr0.001-mom0.9-wd0.0001-epoch27.params', 'ResNet50_v2-batch16-lr0.001-mom0.9-wd0.0001-epoch28.params', 'ResNet50_v2-batch16-lr0.001-mom0.9-wd0.0001-epoch29.params']\n"
          ],
          "name": "stdout"
        }
      ]
    },
    {
      "cell_type": "markdown",
      "metadata": {
        "id": "VOGeGOGsNBUj"
      },
      "source": [
        "### Dataset"
      ]
    },
    {
      "cell_type": "code",
      "metadata": {
        "id": "6JOQNRBSMZx2"
      },
      "source": [
        "import glob\n",
        "import random\n",
        "import os\n",
        "import numpy as np\n",
        "\n",
        "from torch.utils.data import Dataset\n",
        "from PIL import Image\n",
        "import torchvision.transforms as transforms\n",
        "\n",
        "class ImageDataset(Dataset):\n",
        "    def __init__(self, root, transforms_=None, mode=\"train\"):\n",
        "        self.transform = transforms.Compose(transforms_)\n",
        "        self.files = sorted(glob.glob(os.path.join(root, mode, 'fluo_data') + \"/*.*\"))\n",
        "\n",
        "    def __getitem__(self, index):\n",
        "        fn_fluo = self.files[index % len(self.files)]\n",
        "        fn_bf = fn_fluo.replace('fluo_data', 'bf_data')\n",
        "\n",
        "        img_fluo = Image.open(fn_fluo)\n",
        "        img_bf = Image.open(fn_bf)\n",
        "        img_fluo = self.transform(img_fluo)\n",
        "        img_bf = self.transform(img_bf)\n",
        "\n",
        "        ind = fn_fluo.find('embryo')\n",
        "        [embryo_num, embryo_t, label] = [int(num) for num in fn_fluo[ind:-4].split('_')[1:]]\n",
        "\n",
        "        return {\"bf\": img_bf, \"fluo\": img_fluo, \"embryo_num\": embryo_num, \"embryo_t\": embryo_t, \"label\": label}\n",
        "\n",
        "    def __len__(self):\n",
        "        return len(self.files)"
      ],
      "execution_count": 3,
      "outputs": []
    },
    {
      "cell_type": "markdown",
      "metadata": {
        "id": "-c645lKqNL7v"
      },
      "source": [
        "## Model"
      ]
    },
    {
      "cell_type": "code",
      "metadata": {
        "id": "3YoE3VjHaBp9"
      },
      "source": [
        "import torch.nn as nn\n",
        "import torch.nn.functional as F\n",
        "import torch\n",
        "import torchvision\n",
        "\n",
        "def weights_init_normal(m):\n",
        "    classname = m.__class__.__name__\n",
        "    if classname.find(\"Conv\") != -1:\n",
        "        torch.nn.init.normal_(m.weight.data, 0.0, 0.02)\n",
        "    elif classname.find(\"BatchNorm2d\") != -1:\n",
        "        torch.nn.init.normal_(m.weight.data, 1.0, 0.02)\n",
        "        torch.nn.init.constant_(m.bias.data, 0.0)"
      ],
      "execution_count": 4,
      "outputs": []
    },
    {
      "cell_type": "markdown",
      "metadata": {
        "id": "8N4CJ8XjyN4o"
      },
      "source": [
        "### UNet"
      ]
    },
    {
      "cell_type": "code",
      "metadata": {
        "id": "HvU8ht58yRN_"
      },
      "source": [
        "class UNetDown(nn.Module):\n",
        "    def __init__(self, in_size, out_size, normalize=True, dropout=0.0):\n",
        "        super(UNetDown, self).__init__()\n",
        "        layers = [nn.Conv2d(in_size, out_size, 4, 2, 1, bias=False)]\n",
        "        if normalize:\n",
        "            layers.append(nn.InstanceNorm2d(out_size))\n",
        "        layers.append(nn.LeakyReLU(0.2))\n",
        "        if dropout:\n",
        "            layers.append(nn.Dropout(dropout))\n",
        "        self.model = nn.Sequential(*layers)\n",
        "\n",
        "    def forward(self, x):\n",
        "        return self.model(x)\n",
        "\n",
        "\n",
        "class UNetUp(nn.Module):\n",
        "    def __init__(self, in_size, out_size, dropout=0.0):\n",
        "        super(UNetUp, self).__init__()\n",
        "        layers = [\n",
        "            nn.ConvTranspose2d(in_size, out_size, 4, 2, 1, bias=False),\n",
        "            nn.InstanceNorm2d(out_size),\n",
        "            nn.ReLU(inplace=True),\n",
        "        ]\n",
        "        if dropout:\n",
        "            layers.append(nn.Dropout(dropout))\n",
        "\n",
        "        self.model = nn.Sequential(*layers)\n",
        "\n",
        "    def forward(self, x, skip_input):\n",
        "        x = self.model(x)\n",
        "        x = torch.cat((x, skip_input), 1)\n",
        "\n",
        "        return x"
      ],
      "execution_count": 5,
      "outputs": []
    },
    {
      "cell_type": "markdown",
      "metadata": {
        "id": "he3scenGyXl_"
      },
      "source": [
        "### Generator"
      ]
    },
    {
      "cell_type": "code",
      "metadata": {
        "id": "C12PYQVbyaTL"
      },
      "source": [
        "class GeneratorUNet(nn.Module):\n",
        "    def __init__(self, in_channels=3, out_channels=3):\n",
        "        super(GeneratorUNet, self).__init__()\n",
        "\n",
        "        self.down1 = UNetDown(in_channels, 64, normalize=False)\n",
        "        self.down2 = UNetDown(64, 128)\n",
        "        self.down3 = UNetDown(128, 256)\n",
        "        self.down4 = UNetDown(256, 512, dropout=0.5)\n",
        "        self.down5 = UNetDown(512, 512, dropout=0.5)\n",
        "        self.down6 = UNetDown(512, 512, dropout=0.5)\n",
        "        self.down7 = UNetDown(512, 512, dropout=0.5)\n",
        "        self.down8 = UNetDown(512, 512, normalize=False, dropout=0.5)\n",
        "\n",
        "        self.up1 = UNetUp(512, 512, dropout=0.5)\n",
        "        self.up2 = UNetUp(1024, 512, dropout=0.5)\n",
        "        self.up3 = UNetUp(1024, 512, dropout=0.5)\n",
        "        self.up4 = UNetUp(1024, 512, dropout=0.5)\n",
        "        self.up5 = UNetUp(1024, 256)\n",
        "        self.up6 = UNetUp(512, 128)\n",
        "        self.up7 = UNetUp(256, 64)\n",
        "\n",
        "        self.final = nn.Sequential(\n",
        "            nn.Upsample(scale_factor=2),\n",
        "            nn.ZeroPad2d((1, 0, 1, 0)),\n",
        "            nn.Conv2d(128, out_channels, 4, padding=1),\n",
        "            nn.Tanh(),\n",
        "        )\n",
        "\n",
        "    def forward(self, x):\n",
        "        # U-Net generator with skip connections from encoder to decoder\n",
        "        d1 = self.down1(x)\n",
        "        d2 = self.down2(d1)\n",
        "        d3 = self.down3(d2)\n",
        "        d4 = self.down4(d3)\n",
        "        d5 = self.down5(d4)\n",
        "        d6 = self.down6(d5)\n",
        "        d7 = self.down7(d6)\n",
        "        d8 = self.down8(d7)\n",
        "        u1 = self.up1(d8, d7)\n",
        "        u2 = self.up2(u1, d6)\n",
        "        u3 = self.up3(u2, d5)\n",
        "        u4 = self.up4(u3, d4)\n",
        "        u5 = self.up5(u4, d3)\n",
        "        u6 = self.up6(u5, d2)\n",
        "        u7 = self.up7(u6, d1)\n",
        "\n",
        "        return self.final(u7)"
      ],
      "execution_count": 6,
      "outputs": []
    },
    {
      "cell_type": "markdown",
      "metadata": {
        "id": "TMnGNWIzyfZ8"
      },
      "source": [
        "### Discriminator"
      ]
    },
    {
      "cell_type": "code",
      "metadata": {
        "id": "n-u_3IaRyh0Q"
      },
      "source": [
        "class Discriminator(nn.Module):\n",
        "    def __init__(self, in_channels=3):\n",
        "        super(Discriminator, self).__init__()\n",
        "\n",
        "        def discriminator_block(in_filters, out_filters, normalization=True):\n",
        "            \"\"\"Returns downsampling layers of each discriminator block\"\"\"\n",
        "            layers = [nn.Conv2d(in_filters, out_filters, 4, stride=2, padding=1)]\n",
        "            if normalization:\n",
        "                layers.append(nn.InstanceNorm2d(out_filters))\n",
        "            layers.append(nn.LeakyReLU(0.2, inplace=True))\n",
        "            return layers\n",
        "\n",
        "        self.model = nn.Sequential(\n",
        "            *discriminator_block(in_channels * 2, 64, normalization=False),\n",
        "            *discriminator_block(64, 128),\n",
        "            *discriminator_block(128, 256),\n",
        "            *discriminator_block(256, 512),\n",
        "            nn.ZeroPad2d((1, 0, 1, 0)),\n",
        "            nn.Conv2d(512, 1, 4, padding=1, bias=False)\n",
        "        )\n",
        "\n",
        "    def forward(self, img_A, img_B):\n",
        "        # Concatenate image and condition image by channels to produce input\n",
        "        img_input = torch.cat((img_A, img_B), 1)\n",
        "        return self.model(img_input)"
      ],
      "execution_count": 7,
      "outputs": []
    },
    {
      "cell_type": "markdown",
      "metadata": {
        "id": "JZueGJrtyFsH"
      },
      "source": [
        "## pix2pix"
      ]
    },
    {
      "cell_type": "code",
      "metadata": {
        "id": "-iITIH4P1hFE"
      },
      "source": [
        "import os\n",
        "import numpy as np\n",
        "from matplotlib import pyplot as plt\n",
        "import math\n",
        "import itertools\n",
        "import time\n",
        "import datetime\n",
        "import sys\n",
        "\n",
        "import torchvision.transforms as transforms\n",
        "from torchvision.utils import save_image\n",
        "\n",
        "from torch.utils.data import DataLoader\n",
        "from torchvision import datasets\n",
        "from torch.autograd import Variable\n",
        "\n",
        "import torch.nn as nn\n",
        "import torch.nn.functional as F\n",
        "import torch\n",
        "\n",
        "torch.manual_seed(42)\n",
        "np.random.seed(42)"
      ],
      "execution_count": 9,
      "outputs": []
    },
    {
      "cell_type": "code",
      "metadata": {
        "id": "E3uXFqlszwVk",
        "outputId": "f399ccbd-52e8-4c88-99cd-6a5f4bbb7cd5",
        "colab": {
          "base_uri": "https://localhost:8080/"
        }
      },
      "source": [
        "def NormalizeData(data):\n",
        "    return (data - np.min(data)) / (np.max(data) - np.min(data))\n",
        "\n",
        "class Args():\n",
        "  def __init__(self, epoch=0, n_epochs=100, dataset_name='data', batch_size=1,\n",
        "          lr=0.0002, b1=0.5, b2=0.999, decay_epoch=100, n_cpu=8,\n",
        "          img_height=512, img_width=512, channels=1,\n",
        "          sample_interval=500, checkpoint_interval=10\n",
        "          ):\n",
        "      self.epoch = epoch # epoch to start training from\n",
        "      self.n_epochs = n_epochs # number of epochs of training\n",
        "      self.dataset_name = dataset_name # name of the dataset\n",
        "      self.batch_size = batch_size # size of the batches\n",
        "      self.lr = lr # adam: learning rate\n",
        "      self.b1 = b1 # adam: decay of first order momentum of gradient\n",
        "      self.b2 = b2 # adam: decay of second order momentum of gradient\n",
        "      self.decay_epoch = decay_epoch # epoch from which to start lr decay\n",
        "      self.n_cpu = n_cpu # number of cpu threads to use during batch generation\n",
        "      self.img_height = img_height # size of image height\n",
        "      self.img_width = img_width # size of image width\n",
        "      self.channels = channels # number of image channels\n",
        "      self.sample_interval = sample_interval # interval between sampling of images from generators\n",
        "      self.checkpoint_interval = checkpoint_interval # interval between model checkpoints\n",
        "\n",
        "opt = Args(dataset_name=\"pix2pix-normal-loss\")\n",
        "\n",
        "os.makedirs(f\"{shared_path}/images/{opt.dataset_name}\", exist_ok=True)\n",
        "os.makedirs(f\"{shared_path}/models/{opt.dataset_name}\", exist_ok=True)\n",
        "\n",
        "cuda = True if torch.cuda.is_available() else False\n",
        "print(cuda)"
      ],
      "execution_count": 19,
      "outputs": [
        {
          "output_type": "stream",
          "text": [
            "True\n"
          ],
          "name": "stdout"
        }
      ]
    },
    {
      "cell_type": "markdown",
      "metadata": {
        "id": "1PJTZ8JczzRR"
      },
      "source": [
        "### Define loss"
      ]
    },
    {
      "cell_type": "code",
      "metadata": {
        "id": "PhJ7qrhug_jd"
      },
      "source": [
        "# Loss functions\n",
        "criterion_GAN = torch.nn.MSELoss()\n",
        "criterion_pixelwise = torch.nn.L1Loss()\n",
        "criterion_polarity = torch.nn.L1Loss()\n",
        "\n",
        "# Loss weight of L1 pixel-wise loss between translated image and real image\n",
        "lambda_pixel = 1000\n",
        "lambda_polarity = 1000\n",
        "\n",
        "# Calculate output of image discriminator (PatchGAN)\n",
        "patch = (1, opt.img_height // 2 ** 4, opt.img_width // 2 ** 4)"
      ],
      "execution_count": 20,
      "outputs": []
    },
    {
      "cell_type": "markdown",
      "metadata": {
        "id": "cDNXhtSJ3N6h"
      },
      "source": [
        "#### Generator loss"
      ]
    },
    {
      "cell_type": "code",
      "metadata": {
        "id": "f56LiJ3POPp1",
        "outputId": "cca23236-780f-4da0-f7ef-4e31ff9de443",
        "colab": {
          "base_uri": "https://localhost:8080/",
          "height": 355
        }
      },
      "source": [
        "classes = 2\n",
        "model_name = 'ResNet50_v2'\n",
        "num_gpus = 1\n",
        "ctx = [mx.gpu(i) for i in range(num_gpus)] if num_gpus > 0 else [mx.cpu()]\n",
        "print(ctx)\n",
        "\n",
        "# Fluo\n",
        "finetune_net_fluo = get_model(model_name, pretrained=True)\n",
        "with finetune_net_fluo.name_scope():\n",
        "    finetune_net_fluo.output = mx.gluon.nn.Dense(classes)\n",
        "\n",
        "finetune_net_fluo.output.initialize(init.Xavier(), ctx=ctx)\n",
        "finetune_net_fluo.collect_params().reset_ctx(ctx)\n",
        "finetune_net_fluo.hybridize()\n",
        "\n",
        "model_fp = os.path.join(shared_path, 'models', 'best', 'best-fluo.params')\n",
        "finetune_net_fluo.load_parameters(model_fp, ctx=ctx)\n",
        "\n",
        "# Bf\n",
        "finetune_net_bf = get_model(model_name, pretrained=True)\n",
        "with finetune_net_bf.name_scope():\n",
        "    finetune_net_bf.output = mx.gluon.nn.Dense(classes)\n",
        "\n",
        "finetune_net_bf.output.initialize(init.Xavier(), ctx=ctx)\n",
        "finetune_net_bf.collect_params().reset_ctx(ctx)\n",
        "finetune_net_bf.hybridize()\n",
        "\n",
        "model_fp_bf = os.path.join(shared_path, 'models', 'best', 'best-bf.params')\n",
        "finetune_net_bf.load_parameters(model_fp_bf, ctx=ctx)"
      ],
      "execution_count": 12,
      "outputs": [
        {
          "output_type": "error",
          "ename": "NameError",
          "evalue": "ignored",
          "traceback": [
            "\u001b[0;31m---------------------------------------------------------------------------\u001b[0m",
            "\u001b[0;31mNameError\u001b[0m                                 Traceback (most recent call last)",
            "\u001b[0;32m<ipython-input-12-451767c188eb>\u001b[0m in \u001b[0;36m<module>\u001b[0;34m()\u001b[0m\n\u001b[1;32m      2\u001b[0m \u001b[0mmodel_name\u001b[0m \u001b[0;34m=\u001b[0m \u001b[0;34m'ResNet50_v2'\u001b[0m\u001b[0;34m\u001b[0m\u001b[0;34m\u001b[0m\u001b[0m\n\u001b[1;32m      3\u001b[0m \u001b[0mnum_gpus\u001b[0m \u001b[0;34m=\u001b[0m \u001b[0;36m1\u001b[0m\u001b[0;34m\u001b[0m\u001b[0;34m\u001b[0m\u001b[0m\n\u001b[0;32m----> 4\u001b[0;31m \u001b[0mctx\u001b[0m \u001b[0;34m=\u001b[0m \u001b[0;34m[\u001b[0m\u001b[0mmx\u001b[0m\u001b[0;34m.\u001b[0m\u001b[0mgpu\u001b[0m\u001b[0;34m(\u001b[0m\u001b[0mi\u001b[0m\u001b[0;34m)\u001b[0m \u001b[0;32mfor\u001b[0m \u001b[0mi\u001b[0m \u001b[0;32min\u001b[0m \u001b[0mrange\u001b[0m\u001b[0;34m(\u001b[0m\u001b[0mnum_gpus\u001b[0m\u001b[0;34m)\u001b[0m\u001b[0;34m]\u001b[0m \u001b[0;32mif\u001b[0m \u001b[0mnum_gpus\u001b[0m \u001b[0;34m>\u001b[0m \u001b[0;36m0\u001b[0m \u001b[0;32melse\u001b[0m \u001b[0;34m[\u001b[0m\u001b[0mmx\u001b[0m\u001b[0;34m.\u001b[0m\u001b[0mcpu\u001b[0m\u001b[0;34m(\u001b[0m\u001b[0;34m)\u001b[0m\u001b[0;34m]\u001b[0m\u001b[0;34m\u001b[0m\u001b[0;34m\u001b[0m\u001b[0m\n\u001b[0m\u001b[1;32m      5\u001b[0m \u001b[0mprint\u001b[0m\u001b[0;34m(\u001b[0m\u001b[0mctx\u001b[0m\u001b[0;34m)\u001b[0m\u001b[0;34m\u001b[0m\u001b[0;34m\u001b[0m\u001b[0m\n\u001b[1;32m      6\u001b[0m \u001b[0;34m\u001b[0m\u001b[0m\n",
            "\u001b[0;32m<ipython-input-12-451767c188eb>\u001b[0m in \u001b[0;36m<listcomp>\u001b[0;34m(.0)\u001b[0m\n\u001b[1;32m      2\u001b[0m \u001b[0mmodel_name\u001b[0m \u001b[0;34m=\u001b[0m \u001b[0;34m'ResNet50_v2'\u001b[0m\u001b[0;34m\u001b[0m\u001b[0;34m\u001b[0m\u001b[0m\n\u001b[1;32m      3\u001b[0m \u001b[0mnum_gpus\u001b[0m \u001b[0;34m=\u001b[0m \u001b[0;36m1\u001b[0m\u001b[0;34m\u001b[0m\u001b[0;34m\u001b[0m\u001b[0m\n\u001b[0;32m----> 4\u001b[0;31m \u001b[0mctx\u001b[0m \u001b[0;34m=\u001b[0m \u001b[0;34m[\u001b[0m\u001b[0mmx\u001b[0m\u001b[0;34m.\u001b[0m\u001b[0mgpu\u001b[0m\u001b[0;34m(\u001b[0m\u001b[0mi\u001b[0m\u001b[0;34m)\u001b[0m \u001b[0;32mfor\u001b[0m \u001b[0mi\u001b[0m \u001b[0;32min\u001b[0m \u001b[0mrange\u001b[0m\u001b[0;34m(\u001b[0m\u001b[0mnum_gpus\u001b[0m\u001b[0;34m)\u001b[0m\u001b[0;34m]\u001b[0m \u001b[0;32mif\u001b[0m \u001b[0mnum_gpus\u001b[0m \u001b[0;34m>\u001b[0m \u001b[0;36m0\u001b[0m \u001b[0;32melse\u001b[0m \u001b[0;34m[\u001b[0m\u001b[0mmx\u001b[0m\u001b[0;34m.\u001b[0m\u001b[0mcpu\u001b[0m\u001b[0;34m(\u001b[0m\u001b[0;34m)\u001b[0m\u001b[0;34m]\u001b[0m\u001b[0;34m\u001b[0m\u001b[0;34m\u001b[0m\u001b[0m\n\u001b[0m\u001b[1;32m      5\u001b[0m \u001b[0mprint\u001b[0m\u001b[0;34m(\u001b[0m\u001b[0mctx\u001b[0m\u001b[0;34m)\u001b[0m\u001b[0;34m\u001b[0m\u001b[0;34m\u001b[0m\u001b[0m\n\u001b[1;32m      6\u001b[0m \u001b[0;34m\u001b[0m\u001b[0m\n",
            "\u001b[0;31mNameError\u001b[0m: name 'mx' is not defined"
          ]
        }
      ]
    },
    {
      "cell_type": "code",
      "metadata": {
        "id": "W6uHxOJRQTNZ"
      },
      "source": [
        "dummy_input = torch.from_numpy(np.zeros((1,3,512,512))).float().cuda()"
      ],
      "execution_count": 19,
      "outputs": []
    },
    {
      "cell_type": "code",
      "metadata": {
        "id": "NkbWLGRG2JUG"
      },
      "source": [
        "# valid: all 1s\n",
        "def calculate_gen_loss(pred_fake, fake_fluo, real_fluo, valid):\n",
        "    # How well did the generator trick discriminator\n",
        "    loss_GAN = criterion_GAN(pred_fake, valid)\n",
        "\n",
        "    # Pixel-wise loss\n",
        "    loss_pixel = criterion_pixelwise(fake_fluo, real_fluo)\n",
        "\n",
        "    # print(loss_GAN, loss_pixel)\n",
        "\n",
        "    # # Compare predicted label on fake image to ground truth label\n",
        "    # fake_fluo_mx = mx.nd.array(fake_fluo.cpu().numpy(), ctx=ctx[0])\n",
        "    # pred_label_fake = finetune_net_fluo(fake_fluo_mx)\n",
        "    # real_bf_mx = mx.nd.array(real_bf.cpu().numpy(), ctx=ctx[0])\n",
        "    # pred_label_real_bf = finetune_net_bf(real_bf)\n",
        "\n",
        "    # loss_polarity = criterion_polarity(pred_label_fake, label) + criterion_polarity(pred_label_fake, pred_label_real_bf)\n",
        "\n",
        "    # Total loss\n",
        "    loss_G = loss_GAN + lambda_pixel * loss_pixel\n",
        "    # loss_G = loss_GAN + lambda_pixel * loss_pixel + lambda_polarity * loss_polarity\n",
        "    return loss_G, loss_pixel, loss_GAN"
      ],
      "execution_count": 30,
      "outputs": []
    },
    {
      "cell_type": "markdown",
      "metadata": {
        "id": "l48b4BD-3QV3"
      },
      "source": [
        "#### Discriminator loss"
      ]
    },
    {
      "cell_type": "code",
      "metadata": {
        "id": "tB_K7apk3R5s"
      },
      "source": [
        "# valid: all 1s\n",
        "# fake: all 0s\n",
        "def calculate_disc_loss(pred_real, valid, pred_fake, fake):\n",
        "    # Real loss\n",
        "    loss_real = criterion_GAN(pred_real, valid)\n",
        "\n",
        "    # Fake loss\n",
        "    loss_fake = criterion_GAN(pred_fake, fake)\n",
        "\n",
        "    # Total loss\n",
        "    loss_D = 0.5 * (loss_real + loss_fake)\n",
        "    return loss_D"
      ],
      "execution_count": 22,
      "outputs": []
    },
    {
      "cell_type": "markdown",
      "metadata": {
        "id": "VTEg-Ce8z9mC"
      },
      "source": [
        "### Initialize models"
      ]
    },
    {
      "cell_type": "code",
      "metadata": {
        "id": "DyT3ykxJ0CqC"
      },
      "source": [
        "# Initialize generator and discriminator\n",
        "generator = GeneratorUNet(in_channels=1, out_channels=1)\n",
        "discriminator = Discriminator(in_channels=1)\n",
        "\n",
        "if cuda:\n",
        "    generator = generator.cuda()\n",
        "    discriminator = discriminator.cuda()\n",
        "    criterion_GAN.cuda()\n",
        "    criterion_pixelwise.cuda()\n",
        "\n",
        "if opt.epoch != 0:\n",
        "    # Load pretrained models\n",
        "    generator.load_state_dict(torch.load(f\"{shared_path}/models/{opt.dataset_name}/generator_{opt.epoch}.pth\"))\n",
        "    discriminator.load_state_dict(torch.load(f\"{shared_path}/models/{opt.dataset_name}/discriminator_{opt.epoch}.pth\"))\n",
        "else:\n",
        "    # Initialize weights\n",
        "    generator.apply(weights_init_normal)\n",
        "    discriminator.apply(weights_init_normal)\n",
        "\n",
        "# Optimizers\n",
        "optimizer_G = torch.optim.Adam(generator.parameters(), lr=opt.lr, betas=(opt.b1, opt.b2))\n",
        "optimizer_D = torch.optim.Adam(discriminator.parameters(), lr=opt.lr, betas=(opt.b1, opt.b2))"
      ],
      "execution_count": 23,
      "outputs": []
    },
    {
      "cell_type": "markdown",
      "metadata": {
        "id": "Fa6DPjDx0Jx0"
      },
      "source": [
        "### Configure data loaders"
      ]
    },
    {
      "cell_type": "code",
      "metadata": {
        "id": "L7kdaAXd0Msf"
      },
      "source": [
        "transforms_ = [\n",
        "    transforms.Resize((opt.img_height, opt.img_width), Image.BICUBIC),\n",
        "    transforms.ToTensor()\n",
        "]\n",
        "\n",
        "dataloader = DataLoader(\n",
        "    ImageDataset(f\"{shared_path}/processed/pix2pix\", transforms_=transforms_),\n",
        "    batch_size=opt.batch_size,\n",
        "    shuffle=True,\n",
        "    num_workers=0,\n",
        ")\n",
        "\n",
        "val_dataloader = DataLoader(\n",
        "    ImageDataset(f\"{shared_path}/processed/pix2pix\", transforms_=transforms_, mode=\"val\"),\n",
        "    batch_size=10,\n",
        "    shuffle=True,\n",
        "    num_workers=0,\n",
        ")"
      ],
      "execution_count": 24,
      "outputs": []
    },
    {
      "cell_type": "code",
      "metadata": {
        "id": "K8Tm2g-C61WR"
      },
      "source": [
        "# Tensor type\n",
        "Tensor = torch.cuda.FloatTensor if cuda else torch.FloatTensor\n",
        "\n",
        "def sample_images(batches_done):\n",
        "    \"\"\"Saves a generated sample from the validation set\"\"\"\n",
        "    imgs = next(iter(val_dataloader))\n",
        "    real_A = Variable(imgs[\"bf\"].type(Tensor))\n",
        "    real_B = Variable(imgs[\"fluo\"].type(Tensor))\n",
        "    fake_B = generator(real_A)\n",
        "    img_sample = torch.cat((real_A.data, fake_B.data, real_B.data), -2)\n",
        "    save_image(img_sample, f\"{shared_path}/images/{opt.dataset_name}/{batches_done}.png\", nrow=10, normalize=True)"
      ],
      "execution_count": 25,
      "outputs": []
    },
    {
      "cell_type": "markdown",
      "metadata": {
        "id": "OeF1WhNp0xe6"
      },
      "source": [
        "### Training"
      ]
    },
    {
      "cell_type": "code",
      "metadata": {
        "id": "RY-6N3W70zbf",
        "outputId": "90c5c1b0-1f76-4b1e-dbda-381ced270af5",
        "colab": {
          "base_uri": "https://localhost:8080/"
        }
      },
      "source": [
        "prev_time = time.time()\n",
        "\n",
        "G_loss = []\n",
        "D_loss = []\n",
        "\n",
        "for epoch in range(opt.epoch, opt.n_epochs):\n",
        "    for i, batch in enumerate(dataloader):\n",
        "\n",
        "        # Model inputs\n",
        "        real_A = Variable(batch[\"bf\"].type(Tensor))\n",
        "        real_B = Variable(batch[\"fluo\"].type(Tensor))\n",
        "\n",
        "        # Adversarial ground truths\n",
        "        valid = Variable(Tensor(np.ones((real_A.size(0), *patch))), requires_grad=False)\n",
        "        fake = Variable(Tensor(np.zeros((real_A.size(0), *patch))), requires_grad=False)\n",
        "\n",
        "        # ------------------\n",
        "        #  Train Generators\n",
        "        # ------------------\n",
        "\n",
        "        optimizer_G.zero_grad()\n",
        "\n",
        "        # GAN loss\n",
        "        fake_B = generator(real_A)\n",
        "        pred_fake = discriminator(fake_B, real_A)\n",
        "        loss_G, loss_pixel, loss_GAN = calculate_gen_loss(pred_fake, fake_B, real_B, valid)\n",
        "\n",
        "        loss_G.backward()\n",
        "\n",
        "        optimizer_G.step()\n",
        "\n",
        "        # ---------------------\n",
        "        #  Train Discriminator\n",
        "        # ---------------------\n",
        "\n",
        "        optimizer_D.zero_grad()\n",
        "\n",
        "        pred_real = discriminator(real_B, real_A)\n",
        "        pred_fake = discriminator(fake_B.detach(), real_A)\n",
        "        loss_D = calculate_disc_loss(pred_real, valid, pred_fake, fake)\n",
        "\n",
        "        loss_D.backward()\n",
        "        optimizer_D.step()\n",
        "\n",
        "        # --------------\n",
        "        #  Log Progress\n",
        "        # --------------\n",
        "\n",
        "        # Determine approximate time left\n",
        "        batches_done = epoch * len(dataloader) + i\n",
        "        batches_left = opt.n_epochs * len(dataloader) - batches_done\n",
        "        time_left = datetime.timedelta(seconds=batches_left * (time.time() - prev_time))\n",
        "        prev_time = time.time()\n",
        "\n",
        "        # Print log\n",
        "        sys.stdout.write(\n",
        "            \"\\r[Epoch %d/%d] [Batch %d/%d] [D loss: %f] [G loss: %f, pixel: %f, adv: %f] ETA: %s\"\n",
        "            % (\n",
        "                epoch,\n",
        "                opt.n_epochs,\n",
        "                i,\n",
        "                len(dataloader),\n",
        "                loss_D.item(),\n",
        "                loss_G.item(),\n",
        "                loss_pixel.item(),\n",
        "                loss_GAN.item(),\n",
        "                time_left,\n",
        "            )\n",
        "        )\n",
        "        G_loss.append(loss_G.item())\n",
        "        D_loss.append(loss_D.item())\n",
        "\n",
        "        # If at sample interval save image\n",
        "        if batches_done % opt.sample_interval == 0:\n",
        "            sample_images(batches_done)\n",
        "\n",
        "    if opt.checkpoint_interval != -1 and epoch % opt.checkpoint_interval == 0:\n",
        "        # Save model checkpoints\n",
        "        torch.save(generator.state_dict(), f\"{shared_path}/models/{opt.dataset_name}/generator_{epoch}.pth\")\n",
        "        torch.save(discriminator.state_dict(), f\"{shared_path}/models/{opt.dataset_name}/discriminator_{epoch}.pth\")\n",
        "\n",
        "torch.save(generator.state_dict(), f\"{shared_path}/models/{opt.dataset_name}/generator_{epoch}.pth\")\n",
        "torch.save(discriminator.state_dict(), f\"{shared_path}/models/{opt.dataset_name}/discriminator_{epoch}.pth\")\n",
        "\n",
        "D_loss = np.array(D_loss)\n",
        "G_loss = np.array(G_loss)\n",
        "np.save(f\"{shared_path}/models/{opt.dataset_name}/dloss_{opt.n_epochs}.npy\", D_loss)\n",
        "np.save(f\"{shared_path}/models/{opt.dataset_name}/gloss_{opt.n_epochs}.npy\", G_loss)  "
      ],
      "execution_count": 31,
      "outputs": [
        {
          "output_type": "stream",
          "text": [
            "[Epoch 61/100] [Batch 976/1900] [D loss: 0.000168] [G loss: 22.878229, pixel: 0.021889, adv: 0.988760] ETA: 3:14:24.664222Buffered data was truncated after reaching the output size limit."
          ],
          "name": "stdout"
        }
      ]
    },
    {
      "cell_type": "markdown",
      "metadata": {
        "id": "q-EUvC5p1LDI"
      },
      "source": [
        "### Plot loss"
      ]
    },
    {
      "cell_type": "code",
      "metadata": {
        "id": "NLhPU5WtM3kv",
        "colab": {
          "base_uri": "https://localhost:8080/",
          "height": 282
        },
        "outputId": "b52715d0-9f2c-4ec8-f256-14afde748c34"
      },
      "source": [
        "plt.figure()\n",
        "plt.plot(D_loss[0:-1:918])\n",
        "plt.plot(G_loss[0:-1:918])"
      ],
      "execution_count": null,
      "outputs": [
        {
          "output_type": "execute_result",
          "data": {
            "text/plain": [
              "[<matplotlib.lines.Line2D at 0x7f28768c5048>]"
            ]
          },
          "metadata": {
            "tags": []
          },
          "execution_count": 8
        },
        {
          "output_type": "display_data",
          "data": {
            "image/png": "[encoded data removed]",
            "text/plain": [
              "<Figure size 432x288 with 1 Axes>"
            ]
          },
          "metadata": {
            "tags": [],
            "needs_background": "light"
          }
        }
      ]
    }
  ]
}