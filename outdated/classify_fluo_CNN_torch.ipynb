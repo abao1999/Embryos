{
  "nbformat": 4,
  "nbformat_minor": 0,
  "metadata": {
    "accelerator": "GPU",
    "colab": {
      "name": "classify_fluo_CNN_torch.ipynb",
      "provenance": [],
      "collapsed_sections": []
    },
    "kernelspec": {
      "display_name": "Python 3",
      "language": "python",
      "name": "python3"
    },
    "language_info": {
      "codemirror_mode": {
        "name": "ipython",
        "version": 3
      },
      "file_extension": ".py",
      "mimetype": "text/x-python",
      "name": "python",
      "nbconvert_exporter": "python",
      "pygments_lexer": "ipython3",
      "version": "3.7.7"
    }
  },
  "cells": [
    {
      "cell_type": "markdown",
      "metadata": {
        "id": "_Aq3XceQyuik"
      },
      "source": [
        "# CNN for Fluo Classification"
      ]
    },
    {
      "cell_type": "markdown",
      "metadata": {
        "id": "9C7UbnLHT9a-"
      },
      "source": [
        "This tutorial was very helpful, and some code here is taken from it: https://colab.research.google.com/drive/1B5KQvPySqYEa6XicRHdOwgv8fN1BrCgQ#scrollTo=LI6JtYwTt2HM"
      ]
    },
    {
      "cell_type": "markdown",
      "metadata": {
        "id": "vChd6dfWyuil"
      },
      "source": [
        "### Install Dependencies"
      ]
    },
    {
      "cell_type": "code",
      "metadata": {
        "id": "H29TGLErCP5r"
      },
      "source": [
        "%matplotlib inline"
      ],
      "execution_count": 1,
      "outputs": []
    },
    {
      "cell_type": "code",
      "metadata": {
        "id": "xVkEhqIhCeLH"
      },
      "source": [
        "# !pip install mxnet-cu101\n",
        "# !pip install gluoncv"
      ],
      "execution_count": 2,
      "outputs": []
    },
    {
      "cell_type": "markdown",
      "metadata": {
        "id": "9TexoEExhGRy"
      },
      "source": [
        "Install Conda"
      ]
    },
    {
      "cell_type": "code",
      "metadata": {
        "id": "v03ubARIfUz6",
        "outputId": "657f348a-076d-455f-a9df-58b11059b30f",
        "colab": {
          "base_uri": "https://localhost:8080/"
        }
      },
      "source": [
        "!which python\n",
        "!python --version\n",
        "!echo $PYTHONPATH"
      ],
      "execution_count": 3,
      "outputs": [
        {
          "output_type": "stream",
          "text": [
            "/usr/local/bin/python\n",
            "Python 3.6.9\n",
            "/env/python\n"
          ],
          "name": "stdout"
        }
      ]
    },
    {
      "cell_type": "code",
      "metadata": {
        "id": "BTrQ-NBGgT-l"
      },
      "source": [
        "# # unset PYTHONPATH because it may interfere with Miniconda\n",
        "# %env PYTHONPATH="
      ],
      "execution_count": 4,
      "outputs": []
    },
    {
      "cell_type": "code",
      "metadata": {
        "id": "VfmThZmRgSBT"
      },
      "source": [
        "# %%bash\n",
        "# MINICONDA_INSTALLER_SCRIPT=Miniconda3-4.5.4-Linux-x86_64.sh\n",
        "# MINICONDA_PREFIX=/usr/local\n",
        "# wget https://repo.continuum.io/miniconda/$MINICONDA_INSTALLER_SCRIPT\n",
        "# chmod +x $MINICONDA_INSTALLER_SCRIPT\n",
        "# ./$MINICONDA_INSTALLER_SCRIPT -b -f -p $MINICONDA_PREFIX"
      ],
      "execution_count": 5,
      "outputs": []
    },
    {
      "cell_type": "code",
      "metadata": {
        "id": "G4vGCiaSgqK5"
      },
      "source": [
        "# !which conda # should return /usr/local/bin/conda\n",
        "# !conda --version # should return 4.5.4\n",
        "\n",
        "# # verify the Python executable isn't impacted\n",
        "# !which python # still returns /usr/local/bin/python\n",
        "\n",
        "# # Anaconda has slightly different version of Python\n",
        "# !python --version # now returns Python 3.6.5 :: Anaconda, Inc."
      ],
      "execution_count": 6,
      "outputs": []
    },
    {
      "cell_type": "code",
      "metadata": {
        "id": "lZpT42IvhRpt"
      },
      "source": [
        "# # update conda without updating Python to 3.7 or 3.8\n",
        "\n",
        "# %%bash\n",
        "# conda install --channel defaults conda python=3.6 --yes\n",
        "# conda update --channel defaults --all --yes"
      ],
      "execution_count": 7,
      "outputs": []
    },
    {
      "cell_type": "code",
      "metadata": {
        "id": "ZtN-JfnHhgiY"
      },
      "source": [
        "# !conda --version # now returns 4.9.1\n",
        "# !python --version # now returns Python 3.6.12 :: Anaconda, Inc."
      ],
      "execution_count": 8,
      "outputs": []
    },
    {
      "cell_type": "code",
      "metadata": {
        "id": "SLCxtb1VhuEc"
      },
      "source": [
        "# # Append to sys.path... add directory where Conda will isntall packages to list of directories Python searches through\n",
        "# import sys\n",
        "# # print(sys.path)\n",
        "# # !ls /usr/local/lib/python3.6/dist-packages\n",
        "\n",
        "# # All packages installed with Conda will go into this directory, which we add to path below:\n",
        "# conda_pack_dir = \"/usr/local/lib/python3.6/site-packages\"\n",
        "# if conda_pack_dir not in sys.path:\n",
        "#     _ = (sys.path.append(cond_pack_dir))\n",
        "# print(sys.path)"
      ],
      "execution_count": 9,
      "outputs": []
    },
    {
      "cell_type": "markdown",
      "metadata": {
        "id": "bsF2mJFWj8l1"
      },
      "source": [
        "Install Pytorch (Not actually necessary because colab comes wth Torch)"
      ]
    },
    {
      "cell_type": "code",
      "metadata": {
        "id": "wWxMNamgjCyH"
      },
      "source": [
        "# !conda install pytorch torchvision torchaudio cudatoolkit=10.2 -c pytorch --yes"
      ],
      "execution_count": 10,
      "outputs": []
    },
    {
      "cell_type": "code",
      "metadata": {
        "id": "zG53T9hI2nlC",
        "outputId": "f00ad98d-c3df-4d62-9307-72e4519fe5ee",
        "colab": {
          "base_uri": "https://localhost:8080/"
        }
      },
      "source": [
        "import torch\n",
        "import torch.nn as nn\n",
        "import torch.nn.functional as F\n",
        "import torchvision\n",
        "import torchvision.transforms as transforms\n",
        "from torch.utils.data import DataLoader\n",
        "\n",
        "print(\"Pytorch version: \", torch.__version__)"
      ],
      "execution_count": 11,
      "outputs": [
        {
          "output_type": "stream",
          "text": [
            "Pytorch version:  1.6.0+cu101\n"
          ],
          "name": "stdout"
        }
      ]
    },
    {
      "cell_type": "code",
      "metadata": {
        "id": "aO-06Rlqk8W9"
      },
      "source": [
        "import pandas as pd\n",
        "import numpy as np\n",
        "import os, time, shutil\n",
        "import matplotlib.pyplot as plt\n",
        "from PIL import Image"
      ],
      "execution_count": 12,
      "outputs": []
    },
    {
      "cell_type": "markdown",
      "metadata": {
        "id": "2PWecmH8yui0"
      },
      "source": [
        "### Mount Google Drive"
      ]
    },
    {
      "cell_type": "code",
      "metadata": {
        "id": "VCMW-mPvwrcw",
        "outputId": "88cfa4da-8225-4fc5-ef8c-09065ae7b6e0",
        "colab": {
          "base_uri": "https://localhost:8080/"
        }
      },
      "source": [
        "import os\n",
        "from google.colab import files, drive   \n",
        "\n",
        "# mount the google drive to my Colab session\n",
        "drive.mount('/content/gdrive')\n",
        "# use the google drive in my Colab session\n",
        "home_path = '/content/gdrive/My Drive/cs101'\n",
        "print(os.listdir(home_path))"
      ],
      "execution_count": 13,
      "outputs": [
        {
          "output_type": "stream",
          "text": [
            "Drive already mounted at /content/gdrive; to attempt to forcibly remount, call drive.mount(\"/content/gdrive\", force_remount=True).\n",
            "['video_fluo_data', 'video_bf_data', 'processed', 'video_data_time_info_CS101.xlsx', 'ResNet50_v2-finetune-data_aug-order-random-dataaug.params', 'models', 'CS 101 Weekly Notes.gslides']\n"
          ],
          "name": "stdout"
        }
      ]
    },
    {
      "cell_type": "markdown",
      "metadata": {
        "id": "DVfTd_Uhyui4"
      },
      "source": [
        "### Get Data"
      ]
    },
    {
      "cell_type": "code",
      "metadata": {
        "id": "jarQcT4Myge3",
        "outputId": "30d0caa9-78bb-4908-9401-032210a4a548",
        "colab": {
          "base_uri": "https://localhost:8080/"
        }
      },
      "source": [
        "# Fixing the random seed for reproducibility\n",
        "torch.manual_seed(42)\n",
        "np.random.seed(42)\n",
        "\n",
        "# Available high quality data\n",
        "embryo_inds = [1, 3, 12, 13, 16, 18, 19, 24, 39, 40, 42, 45, 46, 47, 49, 50, 52, 53]\n",
        "\n",
        "# Load info about videos\n",
        "video_time_info = pd.read_excel(f'{home_path}/video_data_time_info_CS101.xlsx', index_col=0, header=0, na_values=['NaN','NAN'], usecols=['usable_index', 'first_pol_time', 't_num'])  \n",
        "video_time_info.dropna(inplace=True, subset=['first_pol_time'])\n",
        "print(video_time_info.loc[embryo_inds])\n",
        "\n",
        "# Directory of the processed *.npy files\n",
        "processed_path = f'{home_path}/processed'\n",
        "polar_processed_path = f'{processed_path}/polarization'\n",
        "\n",
        "p = np.random.permutation(len(embryo_inds))\n",
        "p_embryo = [embryo_inds[i] for i in p]\n",
        "t_num = list(video_time_info.loc[embryo_inds, 't_num'])\n",
        "t_num_random = list(video_time_info.loc[p_embryo, 't_num'])\n",
        "\n",
        "instance_cum_random = np.cumsum(t_num_random)\n",
        "test_split_point = instance_cum_random[-1]*0.83\n",
        "temp = abs(instance_cum_random-test_split_point)\n",
        "test_idx = np.argmin(temp)\n",
        "\n",
        "val_split_point = instance_cum_random[-1]*0.7\n",
        "temp = abs(instance_cum_random-val_split_point)\n",
        "val_idx = np.argmin(temp)\n",
        "\n",
        "\n",
        "train_embryos = p_embryo[:val_idx]\n",
        "val_embryos = p_embryo[val_idx:test_idx]\n",
        "test_embryos = p_embryo[test_idx:]\n",
        "print(train_embryos)\n",
        "print(val_embryos)\n",
        "print(test_embryos)\n",
        "\n",
        "z_agg_mode = \"Min Z\"\n",
        "data_path = f'{processed_path}/fluo_data/min'\n",
        "pol_path = f'{processed_path}/polarization'\n",
        "train_path = os.path.join(data_path, 'train')\n",
        "val_path = os.path.join(data_path, 'val')\n",
        "test_path = os.path.join(data_path, 'test')"
      ],
      "execution_count": 14,
      "outputs": [
        {
          "output_type": "stream",
          "text": [
            "              first_pol_time  t_num\n",
            "usable_index                       \n",
            "1                       17.0   21.0\n",
            "3                       12.0   21.0\n",
            "12                      11.0  143.0\n",
            "13                      12.0  143.0\n",
            "16                      30.0  143.0\n",
            "18                      27.0  143.0\n",
            "19                      32.0  143.0\n",
            "24                      20.0   21.0\n",
            "39                      12.0   21.0\n",
            "40                       8.0   21.0\n",
            "42                      16.0   21.0\n",
            "45                      19.0   21.0\n",
            "46                      19.0   21.0\n",
            "47                      17.0   21.0\n",
            "49                      21.0   21.0\n",
            "50                      21.0   21.0\n",
            "52                      13.0   21.0\n",
            "53                      20.0   21.0\n",
            "[1, 3, 39, 18, 13, 47, 52, 50, 45, 12, 40, 53]\n",
            "[16, 46, 24]\n",
            "[42, 49, 19]\n"
          ],
          "name": "stdout"
        }
      ]
    },
    {
      "cell_type": "markdown",
      "metadata": {
        "id": "LAJrlvKDyui8"
      },
      "source": [
        "### Save NP Data as PNG for Training"
      ]
    },
    {
      "cell_type": "code",
      "metadata": {
        "id": "4DeDWzqZ1xKt",
        "outputId": "3dbbb528-7bdd-48ef-d511-9272b9a5f85e",
        "colab": {
          "base_uri": "https://localhost:8080/"
        }
      },
      "source": [
        "# Actually create the images\n",
        "\n",
        "def within_window(embryo_idx, t, window):\n",
        "    '''\n",
        "    embryo_idx: index of current embryo (value from 'usable_index' col)\n",
        "    t: timestep of current\n",
        "    window: number of t steps from first polarized index to ignore\n",
        "    '''\n",
        "    first_pol_idx = video_time_info.loc[embryo_idx, 'first_pol_time'] - 1\n",
        "    return window and abs(first_pol_idx - t) <= window\n",
        "\n",
        "def get_max_pixel(embryos):\n",
        "    '''\n",
        "    embryos: subset of p_embryo... train, val, test\n",
        "    '''\n",
        "    max_per_embryo = []\n",
        "    for i in range(len(embryos)):\n",
        "        embryo_idx = embryos[i]\n",
        "        embryo_path = f'{data_path}/embryo_{embryo_idx}.npy'\n",
        "        try:\n",
        "            embryo = np.load(embryo_path)\n",
        "        except FileNotFoundError:\n",
        "            continue\n",
        "        max_per_embryo.append(np.max(embryo))\n",
        "    return max(max_per_embryo)\n",
        "\n",
        "def save_nps_as_png(embryos, save_path, window=None, normalize='per_embryo'):\n",
        "    '''\n",
        "    embryos: subset of p_embryo... train, val, test\n",
        "    save_path: path to save png to... data_path + {'train', 'val', 'test'}\n",
        "    window: number of t steps from first polarized index to ignore\n",
        "    normalize: type of normalization to apply (per_embryo, per_timestep, #)\n",
        "    '''\n",
        "    for i in range(len(embryos)):\n",
        "        embryo_idx = embryos[i]\n",
        "        embryo_path = f'{data_path}/embryo_{embryo_idx}.npy'\n",
        "        embryo_pol_path = f'{pol_path}/embryo_{embryo_idx}.npy'\n",
        "        try:\n",
        "            embryo = np.load(embryo_path)\n",
        "        except FileNotFoundError:\n",
        "            continue\n",
        "        embryo_pol = np.squeeze(np.load(embryo_pol_path)).astype(int)\n",
        "        # normalize the data to 0 - 1 by\n",
        "        if normalize == 'per_embryo': # max val over the full embryo\n",
        "            embryo = embryo.astype(np.float64) / np.max(embryo)\n",
        "        elif normalize == 'per_timestep': # max val over each timestep\n",
        "            embryo = embryo.astype(np.float64) / np.max(embryo, axis=(0,1))\n",
        "        elif type(normalize) is not str: # a fixed numerical factor\n",
        "            embryo = embryo.astype(np.float64) / normalize\n",
        "        embryo = 255 * embryo # Now scale by 255\n",
        "        embryo = embryo.astype(np.uint8)\n",
        "        if len(embryo.shape) == 4:\n",
        "            embryo = embryo[0]\n",
        "        print(embryo_idx, np.shape(embryo)[2])\n",
        "        for t in range(np.shape(embryo)[2]):\n",
        "            if within_window(embryo_idx, t, window):\n",
        "                print(f'skipping embryo {embryo_idx} step {t}')\n",
        "                continue\n",
        "            pol = embryo_pol[t]\n",
        "            img = Image.fromarray(embryo[:,:,t], 'L')\n",
        "            img_path = f'{save_path}/{pol}/embryo_{embryo_idx}_{t}.png'\n",
        "            img.save(img_path)\n",
        "\n",
        "# save_nps_as_png(train_embryos, train_path, window=None, normalize='per_embryo')\n",
        "# save_nps_as_png(test_embryos, test_path, window=None, normalize='per_embryo')\n",
        "# save_nps_as_png(val_embryos, val_path, window=None, normalize='per_embryo')\n",
        "\n",
        "# save_nps_as_png(train_embryos, train_path, window=None, normalize='per_timestep')\n",
        "# save_nps_as_png(test_embryos, test_path, window=None, normalize='per_timestep')\n",
        "# save_nps_as_png(val_embryos, val_path, window=None, normalize='per_timestep')\n",
        "\n",
        "max_train_pixel = get_max_pixel(train_embryos)\n",
        "save_nps_as_png(train_embryos, train_path, window=None, normalize=max_train_pixel)\n",
        "save_nps_as_png(test_embryos, test_path, window=None, normalize=max_train_pixel)\n",
        "save_nps_as_png(val_embryos, val_path, window=None, normalize=max_train_pixel)"
      ],
      "execution_count": 15,
      "outputs": [
        {
          "output_type": "stream",
          "text": [
            "1 21\n",
            "3 21\n",
            "39 21\n",
            "18 143\n",
            "13 143\n",
            "47 21\n",
            "52 21\n",
            "50 21\n",
            "45 21\n",
            "12 143\n",
            "40 21\n",
            "53 21\n",
            "42 21\n",
            "49 21\n",
            "19 143\n",
            "16 143\n",
            "46 21\n",
            "24 21\n"
          ],
          "name": "stdout"
        }
      ]
    },
    {
      "cell_type": "markdown",
      "metadata": {
        "id": "mhHeN0l4CP5y"
      },
      "source": [
        "### Set Hyperparameters"
      ]
    },
    {
      "cell_type": "code",
      "metadata": {
        "id": "kVQCpNXYCP53",
        "outputId": "f8bb6881-7916-433c-ab7b-5f08e4a7318a",
        "colab": {
          "base_uri": "https://localhost:8080/"
        }
      },
      "source": [
        "classes = 2\n",
        "\n",
        "epochs = 15\n",
        "lr = 0.001\n",
        "per_device_batch_size = 20\n",
        "momentum = 0.9\n",
        "wd = 0.0001\n",
        "\n",
        "lr_factor = 0.75\n",
        "lr_steps = [10, 20, 30, np.inf]\n",
        "\n",
        "num_workers = 1\n",
        "num_gpus = 1\n",
        "gpus = [i for i in range(num_gpus)]\n",
        "\n",
        "device = torch.device(gpus[0]) if num_gpus > 0 else [torch.device('cpu')]\n",
        "\n",
        "batch_size = per_device_batch_size * max(num_gpus, 1)\n",
        "print(device)"
      ],
      "execution_count": 16,
      "outputs": [
        {
          "output_type": "stream",
          "text": [
            "cuda:0\n"
          ],
          "name": "stdout"
        }
      ]
    },
    {
      "cell_type": "markdown",
      "metadata": {
        "id": "THLMmIhfCP56"
      },
      "source": [
        "Things to keep in mind:\n",
        "\n",
        "1. ``epochs = 5`` is just for this tutorial with the tiny dataset. please change it to a larger number in your experiments, for instance 40.\n",
        "2. ``per_device_batch_size`` is also set to a small number. In your experiments you can try larger number like 64.\n",
        "3. remember to tune ``num_gpus`` and ``num_workers`` according to your machine.\n",
        "4. A pre-trained model is already in a pretty good status. So we can start with a small ``lr``.\n",
        "\n",
        "### Data Augmentation\n",
        "\n",
        "In transfer learning, data augmentation can also help.\n",
        "We use the following augmentation in training:\n",
        "\n",
        "2. Randomly crop the image and resize it to 224x224\n",
        "3. Randomly flip the image horizontally\n",
        "4. Randomly jitter color and add noise\n",
        "5. Transpose the data from height*width*num_channels to num_channels*height*width, and map values from [0, 255] to [0, 1]\n",
        "6. Normalize with the mean and standard deviation from the ImageNet dataset.\n",
        "\n",
        "\n"
      ]
    },
    {
      "cell_type": "code",
      "metadata": {
        "id": "CYgiHxUECP56"
      },
      "source": [
        "## Legacy mxnet transforms\n",
        "# transform_train = transforms.Compose([\n",
        "#     transforms.Resize(600, keep_ratio=True),\n",
        "#     transforms.CenterCrop(512),\n",
        "\n",
        "#     transforms.RandomFlipLeftRight(), # Randomly flip the image horizontally\n",
        "#     transforms.RandomFlipTopBottom(),\n",
        "#     transforms.RandomLighting(0.1), # Add AlexNet-style PCA-based noise to an image\n",
        "#     transforms.RandomContrast(0.1),\n",
        "#     transforms.ToTensor(),\n",
        "#     transforms.Normalize([0.485, 0.456, 0.406], [0.229, 0.224, 0.225])\n",
        "# ])\n",
        "\n",
        "# transform_test = transforms.Compose([\n",
        "#     transforms.Resize(600, keep_ratio=True),\n",
        "#     transforms.CenterCrop(512),\n",
        "#     transforms.ToTensor(),\n",
        "#     transforms.Normalize([0.485, 0.456, 0.406], [0.229, 0.224, 0.225])\n",
        "# ])\n",
        "\n",
        "# an example Torch transform:\n",
        "\n",
        "# transform = transforms.Compose([\n",
        "#     transforms.Resize([224,224]), # Resizing the image as the VGG only take 224 x 244 as input size\n",
        "#     transforms.RandomHorizontalFlip(), # Flip the data horizontally\n",
        "#     #TODO if it is needed, add the random crop\n",
        "#     transforms.ToTensor(),\n",
        "#     transforms.Normalize(mean=(0.5,0.5,0.5), std=(0.5,0.5,0.5))\n",
        "# ])\n",
        "\n",
        "transform = transforms.Compose([\n",
        "    transforms.ToTensor(),\n",
        "    transforms.Normalize(mean=(0.5, 0.5, 0.5), std=(0.5, 0.5, 0.5))\n",
        "])"
      ],
      "execution_count": 17,
      "outputs": []
    },
    {
      "cell_type": "markdown",
      "metadata": {
        "id": "6mRtApbiyujH"
      },
      "source": [
        "### Data Loaders"
      ]
    },
    {
      "cell_type": "markdown",
      "metadata": {
        "id": "hwujcM-Qw8-B"
      },
      "source": [
        "First we define a subset of the ataset so it is faster to train"
      ]
    },
    {
      "cell_type": "code",
      "metadata": {
        "id": "8_Ob1yQmxCIM"
      },
      "source": [
        "from torch.utils.data.sampler import SubsetRandomSampler\n",
        "\n",
        "n_training_samples = 20 # Max: 50 000 - n_val_samples\n",
        "n_val_samples = 5\n",
        "n_test_samples = 5\n",
        "\n",
        "train_sampler = SubsetRandomSampler(np.arange(n_training_samples, dtype=np.int64))\n",
        "val_sampler = SubsetRandomSampler(np.arange(n_training_samples, n_training_samples + n_val_samples, dtype=np.int64))\n",
        "test_sampler = SubsetRandomSampler(np.arange(n_test_samples, dtype=np.int64))\n",
        "# (In the last case, indexes do not need to account for training ones because the train=False parameter in datasets.CIFAR will select from the test set)"
      ],
      "execution_count": 18,
      "outputs": []
    },
    {
      "cell_type": "markdown",
      "metadata": {
        "id": "_OKZ2hq1CP59"
      },
      "source": [
        "With the data augmentation functions, we can define our data loaders:\n",
        "\n"
      ]
    },
    {
      "cell_type": "code",
      "metadata": {
        "id": "226lVHP2CP5-",
        "outputId": "b1eaf87d-f38a-483e-f3f8-6bd6c316c130",
        "colab": {
          "base_uri": "https://localhost:8080/"
        }
      },
      "source": [
        "# filelist = [f for f in os.listdir(train_path) if os.path.isfile(os.path.join(train_path, f))]\n",
        "# print(filelist)\n",
        "\n",
        "# TODO: Shuffle file list\n",
        "\n",
        "# def check_png(filename):\n",
        "#   if filename.lower().endswith('.png')\n",
        "#       return True\n",
        "#   return False\n",
        "\n",
        "def check_image(path):\n",
        "    try:\n",
        "        im = Image.open(path)\n",
        "        return True\n",
        "    except:\n",
        "        return False\n",
        "\n",
        "train_data = torchvision.datasets.ImageFolder(root=train_path, transform=transform, target_transform=None, is_valid_file=check_image)\n",
        "val_data = torchvision.datasets.ImageFolder(root=val_path, transform=transform, target_transform=None, is_valid_file=check_image)\n",
        "test_data = torchvision.datasets.ImageFolder(root=test_path, transform=transform, target_transform=None, is_valid_file=check_image)\n",
        "\n",
        "print(\"Train data: \", train_data)\n",
        "print(\"Validation data: \", val_data)\n",
        "print(\"Test data: \", test_data)\n",
        "\n",
        "# Define data loaders\n",
        "# train_loader = torch.utils.data.DataLoader(train_data, batch_size=batch_size, shuffle=True, sampler=None, pin_memory=False, drop_last=False)\n",
        "train_loader = torch.utils.data.DataLoader(train_data, batch_size=batch_size, shuffle=True, sampler=None, num_workers=num_workers)\n",
        "val_loader = torch.utils.data.DataLoader(val_data, batch_size=batch_size, shuffle=True, sampler=None, num_workers=num_workers)\n",
        "test_loader = torch.utils.data.DataLoader(test_data, batch_size=batch_size, shuffle=True, sampler=None, num_workers=num_workers, drop_last=True)\n",
        "\n",
        "classes = ('unpolarized', 'polarized')"
      ],
      "execution_count": 19,
      "outputs": [
        {
          "output_type": "stream",
          "text": [
            "Train data:  Dataset ImageFolder\n",
            "    Number of datapoints: 618\n",
            "    Root location: /content/gdrive/My Drive/cs101/processed/fluo_data/min/train\n",
            "    StandardTransform\n",
            "Transform: Compose(\n",
            "               ToTensor()\n",
            "               Normalize(mean=(0.5, 0.5, 0.5), std=(0.5, 0.5, 0.5))\n",
            "           )\n",
            "Validation data:  Dataset ImageFolder\n",
            "    Number of datapoints: 185\n",
            "    Root location: /content/gdrive/My Drive/cs101/processed/fluo_data/min/val\n",
            "    StandardTransform\n",
            "Transform: Compose(\n",
            "               ToTensor()\n",
            "               Normalize(mean=(0.5, 0.5, 0.5), std=(0.5, 0.5, 0.5))\n",
            "           )\n",
            "Test data:  Dataset ImageFolder\n",
            "    Number of datapoints: 185\n",
            "    Root location: /content/gdrive/My Drive/cs101/processed/fluo_data/min/test\n",
            "    StandardTransform\n",
            "Transform: Compose(\n",
            "               ToTensor()\n",
            "               Normalize(mean=(0.5, 0.5, 0.5), std=(0.5, 0.5, 0.5))\n",
            "           )\n"
          ],
          "name": "stdout"
        }
      ]
    },
    {
      "cell_type": "markdown",
      "metadata": {
        "id": "Z5ihNL_357yq"
      },
      "source": [
        "Visualize some training images"
      ]
    },
    {
      "cell_type": "code",
      "metadata": {
        "id": "tCCEp0yzySSD",
        "outputId": "e5d80b0e-1961-4b88-d6b4-ffc7dd264a70",
        "colab": {
          "base_uri": "https://localhost:8080/",
          "height": 543
        }
      },
      "source": [
        "# get some random training images\n",
        "dataiter = iter(train_loader)\n",
        "# next(dataiter)\n",
        "\n",
        "images, labels = dataiter.next()\n",
        "\n",
        "# show images\n",
        "\n",
        "# functions to show an image\n",
        "def imshow(img):\n",
        "    \"\"\"\n",
        "    :param img: (PyTorch Tensor)\n",
        "    \"\"\"\n",
        "    # unnormalize\n",
        "    img = img / 2 + 0.5     \n",
        "    # Convert tensor to numpy array\n",
        "    npimg = img.numpy()\n",
        "    plt.figure(figsize = (20,8))\n",
        "    # Color channel first -> color channel last\n",
        "    plt.imshow(np.transpose(npimg, (1, 2, 0)))\n",
        "\n",
        "  \n",
        "imshow(torchvision.utils.make_grid(images))\n",
        "# print labels\n",
        "print(' '.join('{:>10}'.format(classes[labels[j]]) for j in range(batch_size)))"
      ],
      "execution_count": 20,
      "outputs": [
        {
          "output_type": "stream",
          "text": [
            " polarized  polarized  polarized  polarized  polarized  polarized  polarized  polarized  polarized unpolarized  polarized  polarized  polarized  polarized  polarized  polarized  polarized  polarized  polarized  polarized\n"
          ],
          "name": "stdout"
        },
        {
          "output_type": "display_data",
          "data": {
            "image/png": "[encoded data removed]",
            "text/plain": [
              "<Figure size 1440x576 with 1 Axes>"
            ]
          },
          "metadata": {
            "tags": [],
            "needs_background": "light"
          }
        }
      ]
    },
    {
      "cell_type": "code",
      "metadata": {
        "id": "63nMwayBKRWZ",
        "outputId": "33354a20-b5aa-4be2-af1d-625b2a206539",
        "colab": {
          "base_uri": "https://localhost:8080/"
        }
      },
      "source": [
        "images[0].shape"
      ],
      "execution_count": 21,
      "outputs": [
        {
          "output_type": "execute_result",
          "data": {
            "text/plain": [
              "torch.Size([3, 512, 512])"
            ]
          },
          "metadata": {
            "tags": []
          },
          "execution_count": 21
        }
      ]
    },
    {
      "cell_type": "markdown",
      "metadata": {
        "id": "_IkfDxPxCP6B"
      },
      "source": [
        "\n",
        "Note that only ``train_data`` uses ``transform_train``, while\n",
        "``val_data`` and ``test_data`` use ``transform_test`` to produce deterministic\n",
        "results for evaluation."
      ]
    },
    {
      "cell_type": "markdown",
      "metadata": {
        "id": "gxuE5F-eyujJ"
      },
      "source": [
        "### Define Model\n",
        "\n",
        "Simple CNN for now"
      ]
    },
    {
      "cell_type": "code",
      "metadata": {
        "id": "VLB3UfHJ3VUU"
      },
      "source": [
        "class SimpleConvolutionalNetwork(nn.Module):\n",
        "    def __init__(self):\n",
        "        super(SimpleConvolutionalNetwork, self).__init__()\n",
        "        \n",
        "        self.conv1 = nn.Conv2d(3, 20, kernel_size=3, stride=1, padding=1)\n",
        "        self.pool1 = nn.MaxPool2d(kernel_size=2, stride=2, padding=0)\n",
        "        self.conv2 = nn.Conv2d(20, 50, kernel_size=3, stride=1, padding=1)\n",
        "        self.pool2 = nn.MaxPool2d(kernel_size=2, stride=2, padding=0)\n",
        "        \n",
        "        # cf comments in forward() to have step by step comments on shape progression\n",
        "        self.fc1 = nn.Linear(50 * 128 * 128, 64)\n",
        "        self.fc2 = nn.Linear(64, 2)\n",
        "\n",
        "    def forward(self, x):\n",
        "        \"\"\"\n",
        "        Forward pass,\n",
        "        x shape is (batch_size, 3, 512, 512)\n",
        "        (color channel first)\n",
        "        in the comments, we omit the batch_size in the shape\n",
        "        \"\"\"\n",
        "        # print(x.shape)\n",
        "\n",
        "        # shape : 3x512x512 -> 20x512x512\n",
        "        x = F.relu(self.conv1(x))\n",
        "        # print(x.shape)\n",
        "\n",
        "        # 20x512x512 -> 20x256x256\n",
        "        x = self.pool1(x)\n",
        "        # print(x.shape)\n",
        "\n",
        "        # 20x256x256 -> 50x256x256\n",
        "        x = F.relu(self.conv2(x))\n",
        "        # print(x.shape)\n",
        "\n",
        "        # 50x256x256 -> 50x128x128\n",
        "        x = self.pool2(x)\n",
        "        # print(x.shape)\n",
        "\n",
        "        # 50x128x128 -> 819200\n",
        "        x = x.view(-1, 50 * 128 * 128)\n",
        "        # print(x.shape)\n",
        "\n",
        "        # 819200 -> 64\n",
        "        x = F.relu(self.fc1(x))\n",
        "        # print(x.shape)\n",
        "\n",
        "        # 64 -> 2\n",
        "        # The softmax non-linearity is applied later (cf createLossAndOptimizer() fn)\n",
        "        x = self.fc2(x)\n",
        "        # print(x.shape)\n",
        "\n",
        "        return x"
      ],
      "execution_count": 22,
      "outputs": []
    },
    {
      "cell_type": "code",
      "metadata": {
        "id": "KzerQKjV3dKD"
      },
      "source": [
        "class LinearClassifier(nn.Module):\n",
        "    \"\"\"\n",
        "    Linear Classifier\n",
        "    \"\"\"\n",
        "    def __init__(self):\n",
        "        super(LinearClassifier, self).__init__()\n",
        "        self.linear = nn.Linear(32 * 32 * 3, 10)\n",
        "\n",
        "    def forward(self, x):\n",
        "        # Flatten input 3x32x32 -> 3072\n",
        "        x = x.view(x.size(0), -1)\n",
        "        return self.linear(x)"
      ],
      "execution_count": 23,
      "outputs": []
    },
    {
      "cell_type": "markdown",
      "metadata": {
        "id": "DaQn1kxIyujM"
      },
      "source": [
        "### Initialize Optimizer and Some Helpers"
      ]
    },
    {
      "cell_type": "code",
      "metadata": {
        "id": "Pw5oJ6PX3r8w"
      },
      "source": [
        "import torch.optim as optim\n",
        "\n",
        "def createLossAndOptimizer(net, learning_rate=0.001):\n",
        "    # it combines softmax with negative log likelihood loss\n",
        "    criterion = nn.CrossEntropyLoss()  \n",
        "    #optimizer = optim.SGD(net.parameters(), lr=learning_rate, momentum=0.9)\n",
        "    optimizer = optim.Adam(net.parameters(), lr=learning_rate)\n",
        "    return criterion, optimizer"
      ],
      "execution_count": 24,
      "outputs": []
    },
    {
      "cell_type": "code",
      "metadata": {
        "id": "8gVssLY630jD"
      },
      "source": [
        "# duplicate from before, but maybe it's useful to be able to change the batch size dynamically during training...? mini-batches?\n",
        "\n",
        "def get_train_loader(batch_size):\n",
        "    return torch.utils.data.DataLoader(train_data, batch_size=batch_size, shuffle=True, sampler=None,\n",
        "                                              num_workers=num_workers)\n",
        "\n",
        "# Use larger batch size for validation to speed up computation\n",
        "val_loader = torch.utils.data.DataLoader(val_data, batch_size=batch_size, shuffle=True, sampler=None,\n",
        "                                          num_workers=num_workers)"
      ],
      "execution_count": 25,
      "outputs": []
    },
    {
      "cell_type": "markdown",
      "metadata": {
        "id": "ZJG2Rg_NCP6G"
      },
      "source": [
        "### Training Loop\n",
        "\n",
        "Following is the main training loop. It is the same as the loop in\n",
        "`CIFAR10 <dive_deep_cifar10.html>`__\n",
        "and ImageNet."
      ]
    },
    {
      "cell_type": "code",
      "metadata": {
        "id": "O7mf0H-N4CmG"
      },
      "source": [
        "def train(net, batch_size, n_epochs, learning_rate):\n",
        "    \"\"\"\n",
        "    Train a neural network and print statistics of the training\n",
        "    \n",
        "    :param net: (PyTorch Neural Network)\n",
        "    :param batch_size: (int)\n",
        "    :param n_epochs: (int)  Number of iterations on the training set\n",
        "    :param learning_rate: (float) learning rate used by the optimizer\n",
        "    \"\"\"\n",
        "    print(\"===== HYPERPARAMETERS =====\")\n",
        "    print(\"batch_size=\", batch_size)\n",
        "    print(\"n_epochs=\", n_epochs)\n",
        "    print(\"learning_rate=\", learning_rate)\n",
        "    print(\"=\" * 30)\n",
        "    \n",
        "    train_loader = get_train_loader(batch_size)\n",
        "    n_minibatches = len(train_loader)\n",
        "    print(\"number of minibaches: \", n_minibatches)\n",
        "\n",
        "    criterion, optimizer = createLossAndOptimizer(net, learning_rate)\n",
        "    # Init variables used for plotting the loss\n",
        "    train_history = []\n",
        "    val_history = []\n",
        "    # train_history_acc = []\n",
        "    # val_history_acc = []\n",
        "\n",
        "    training_start_time = time.time()\n",
        "    best_error = np.inf\n",
        "    best_model_path = \"best_model.pth\"\n",
        "\n",
        "    # mutli-gpu\n",
        "    if gpus is not None and len(gpus) > 1:\n",
        "        print('multi-gpu ', gpus)\n",
        "        net = torch.nn.DataParallel(net, device_ids=gpus)  # model becomes `torch.nn.DataParallel` w/ model.module being the orignal `torch.nn.Module`\n",
        "        net = net.to(device)\n",
        "\n",
        "    # Move model to gpu if possible\n",
        "    else:\n",
        "        net = net.to(device)\n",
        "\n",
        "    for epoch in range(n_epochs):  # loop over the dataset multiple times\n",
        "\n",
        "        running_loss = 0.0\n",
        "        print_every = n_minibatches // 10\n",
        "        start_time = time.time()\n",
        "        total_train_loss = 0\n",
        "        \n",
        "        for i, (inputs, labels) in enumerate(train_loader):\n",
        "\n",
        "            # Move tensors to correct device\n",
        "            inputs, labels = inputs.to(device), labels.to(device)\n",
        "\n",
        "            # zero the parameter gradients\n",
        "            optimizer.zero_grad()\n",
        "\n",
        "            # forward + backward + optimize\n",
        "            outputs = net(inputs)\n",
        "            loss = criterion(outputs, labels)\n",
        "            loss.backward()\n",
        "            optimizer.step()\n",
        "\n",
        "            # print statistics\n",
        "            running_loss += loss.item()\n",
        "            total_train_loss += loss.item()\n",
        "\n",
        "            # print every 10th of epoch\n",
        "            if (i + 1) % (print_every + 1) == 0:    \n",
        "                print(\"Epoch {}, {:d}% \\t train_loss: {:.2f} took: {:.2f}s\".format(\n",
        "                      epoch + 1, int(100 * (i + 1) / n_minibatches), running_loss / print_every,\n",
        "                      time.time() - start_time))\n",
        "                running_loss = 0.0\n",
        "                start_time = time.time()\n",
        "\n",
        "        train_history.append(total_train_loss / len(train_loader))\n",
        "\n",
        "        total_val_loss = 0\n",
        "        # Do a pass on the validation set\n",
        "        # We don't need to compute gradient,\n",
        "        # we save memory and computation using torch.no_grad()\n",
        "        with torch.no_grad():\n",
        "          for inputs, labels in val_loader:\n",
        "              # Move tensors to correct device\n",
        "              inputs, labels = inputs.to(device), labels.to(device)\n",
        "              # Forward pass\n",
        "              predictions = net(inputs)\n",
        "              val_loss = criterion(predictions, labels)\n",
        "              total_val_loss += val_loss.item()\n",
        "            \n",
        "        val_history.append(total_val_loss / len(val_loader))\n",
        "        # Save model that performs best on validation set\n",
        "        if total_val_loss < best_error:\n",
        "            best_error = total_val_loss\n",
        "            torch.save(net.state_dict(), best_model_path)\n",
        "\n",
        "        print(\"Validation loss = {:.2f}\".format(total_val_loss / len(val_loader)))\n",
        "\n",
        "    print(\"Training Finished, took {:.2f}s\".format(time.time() - training_start_time))\n",
        "    \n",
        "    # Load best model\n",
        "    net.load_state_dict(torch.load(best_model_path))\n",
        "    \n",
        "    return train_history, val_history"
      ],
      "execution_count": 26,
      "outputs": []
    },
    {
      "cell_type": "code",
      "metadata": {
        "id": "S8XS0ijo4ROm",
        "outputId": "b69c3aa5-acf2-4cbc-df10-e8555dc552db",
        "colab": {
          "base_uri": "https://localhost:8080/"
        }
      },
      "source": [
        "net = SimpleConvolutionalNetwork()\n",
        "\n",
        "train_history, val_history = train(net, batch_size=batch_size, n_epochs=10, learning_rate=0.001)"
      ],
      "execution_count": 27,
      "outputs": [
        {
          "output_type": "stream",
          "text": [
            "===== HYPERPARAMETERS =====\n",
            "batch_size= 20\n",
            "n_epochs= 10\n",
            "learning_rate= 0.001\n",
            "==============================\n",
            "number of minibaches:  31\n",
            "Epoch 1, 12% \t train_loss: 40.65 took: 0.92s\n",
            "Epoch 1, 25% \t train_loss: 5.29 took: 0.68s\n",
            "Epoch 1, 38% \t train_loss: 3.85 took: 0.70s\n",
            "Epoch 1, 51% \t train_loss: 1.22 took: 0.69s\n",
            "Epoch 1, 64% \t train_loss: 0.80 took: 0.70s\n",
            "Epoch 1, 77% \t train_loss: 0.91 took: 0.72s\n",
            "Epoch 1, 90% \t train_loss: 0.84 took: 0.69s\n",
            "Validation loss = 0.65\n",
            "Epoch 2, 12% \t train_loss: 0.82 took: 0.95s\n",
            "Epoch 2, 25% \t train_loss: 0.88 took: 0.68s\n",
            "Epoch 2, 38% \t train_loss: 0.80 took: 0.70s\n",
            "Epoch 2, 51% \t train_loss: 0.80 took: 0.71s\n",
            "Epoch 2, 64% \t train_loss: 0.72 took: 0.70s\n",
            "Epoch 2, 77% \t train_loss: 0.73 took: 0.71s\n",
            "Epoch 2, 90% \t train_loss: 0.71 took: 0.68s\n",
            "Validation loss = 0.60\n",
            "Epoch 3, 12% \t train_loss: 0.73 took: 0.89s\n",
            "Epoch 3, 25% \t train_loss: 0.66 took: 0.68s\n",
            "Epoch 3, 38% \t train_loss: 0.64 took: 0.70s\n",
            "Epoch 3, 51% \t train_loss: 0.92 took: 0.68s\n",
            "Epoch 3, 64% \t train_loss: 0.74 took: 0.71s\n",
            "Epoch 3, 77% \t train_loss: 0.75 took: 0.71s\n",
            "Epoch 3, 90% \t train_loss: 0.73 took: 0.69s\n",
            "Validation loss = 0.60\n",
            "Epoch 4, 12% \t train_loss: 0.72 took: 0.82s\n",
            "Epoch 4, 25% \t train_loss: 0.58 took: 0.68s\n",
            "Epoch 4, 38% \t train_loss: 0.62 took: 0.68s\n",
            "Epoch 4, 51% \t train_loss: 0.64 took: 0.68s\n",
            "Epoch 4, 64% \t train_loss: 0.69 took: 0.69s\n",
            "Epoch 4, 77% \t train_loss: 0.89 took: 0.70s\n",
            "Epoch 4, 90% \t train_loss: 0.69 took: 0.69s\n",
            "Validation loss = 0.60\n",
            "Epoch 5, 12% \t train_loss: 0.76 took: 0.85s\n",
            "Epoch 5, 25% \t train_loss: 0.73 took: 0.69s\n",
            "Epoch 5, 38% \t train_loss: 0.61 took: 0.69s\n",
            "Epoch 5, 51% \t train_loss: 0.83 took: 0.68s\n",
            "Epoch 5, 64% \t train_loss: 0.75 took: 0.69s\n",
            "Epoch 5, 77% \t train_loss: 0.87 took: 0.71s\n",
            "Epoch 5, 90% \t train_loss: 0.58 took: 0.71s\n",
            "Validation loss = 0.52\n",
            "Epoch 6, 12% \t train_loss: 0.76 took: 0.89s\n",
            "Epoch 6, 25% \t train_loss: 0.58 took: 0.71s\n",
            "Epoch 6, 38% \t train_loss: 0.62 took: 0.72s\n",
            "Epoch 6, 51% \t train_loss: 0.72 took: 0.71s\n",
            "Epoch 6, 64% \t train_loss: 0.56 took: 0.72s\n",
            "Epoch 6, 77% \t train_loss: 0.63 took: 0.71s\n",
            "Epoch 6, 90% \t train_loss: 0.48 took: 0.73s\n",
            "Validation loss = 0.42\n",
            "Epoch 7, 12% \t train_loss: 0.64 took: 0.88s\n",
            "Epoch 7, 25% \t train_loss: 0.67 took: 0.69s\n",
            "Epoch 7, 38% \t train_loss: 0.60 took: 0.73s\n",
            "Epoch 7, 51% \t train_loss: 0.51 took: 0.70s\n",
            "Epoch 7, 64% \t train_loss: 0.49 took: 0.71s\n",
            "Epoch 7, 77% \t train_loss: 0.58 took: 0.72s\n",
            "Epoch 7, 90% \t train_loss: 0.52 took: 0.74s\n",
            "Validation loss = 0.31\n",
            "Epoch 8, 12% \t train_loss: 0.49 took: 0.93s\n",
            "Epoch 8, 25% \t train_loss: 0.47 took: 0.71s\n",
            "Epoch 8, 38% \t train_loss: 0.65 took: 0.71s\n",
            "Epoch 8, 51% \t train_loss: 0.57 took: 0.70s\n",
            "Epoch 8, 64% \t train_loss: 0.44 took: 0.68s\n",
            "Epoch 8, 77% \t train_loss: 0.58 took: 0.73s\n",
            "Epoch 8, 90% \t train_loss: 0.49 took: 0.70s\n",
            "Validation loss = 0.30\n",
            "Epoch 9, 12% \t train_loss: 0.51 took: 0.95s\n",
            "Epoch 9, 25% \t train_loss: 0.45 took: 0.73s\n",
            "Epoch 9, 38% \t train_loss: 0.52 took: 0.71s\n",
            "Epoch 9, 51% \t train_loss: 0.58 took: 0.69s\n",
            "Epoch 9, 64% \t train_loss: 0.28 took: 0.71s\n",
            "Epoch 9, 77% \t train_loss: 0.47 took: 0.73s\n",
            "Epoch 9, 90% \t train_loss: 0.59 took: 0.71s\n",
            "Validation loss = 0.25\n",
            "Epoch 10, 12% \t train_loss: 0.34 took: 0.94s\n",
            "Epoch 10, 25% \t train_loss: 0.65 took: 0.70s\n",
            "Epoch 10, 38% \t train_loss: 0.58 took: 0.71s\n",
            "Epoch 10, 51% \t train_loss: 0.46 took: 0.70s\n",
            "Epoch 10, 64% \t train_loss: 0.41 took: 0.75s\n",
            "Epoch 10, 77% \t train_loss: 0.64 took: 0.76s\n",
            "Epoch 10, 90% \t train_loss: 0.56 took: 0.69s\n",
            "Validation loss = 0.32\n",
            "Training Finished, took 81.35s\n"
          ],
          "name": "stdout"
        }
      ]
    },
    {
      "cell_type": "markdown",
      "metadata": {
        "id": "BdvNUTnVT1LF"
      },
      "source": [
        "Evaluate the accuracy"
      ]
    },
    {
      "cell_type": "code",
      "metadata": {
        "id": "T5ZhFZOETNHJ",
        "outputId": "7c0a72c5-c9f3-4872-a7dd-7b591df86d3e",
        "colab": {
          "base_uri": "https://localhost:8080/",
          "height": 625
        }
      },
      "source": [
        "def dataset_accuracy(net, data_loader, name=\"\", print_first_k_mistakes=0):\n",
        "    net = net.to(device)\n",
        "    correct = 0\n",
        "    total = 0\n",
        "    to_print = []\n",
        "    for images_loader, labels_loader in data_loader:\n",
        "        images, labels = images_loader.to(device), labels_loader.to(device)\n",
        "        outputs = net(images)\n",
        "        _, predicted = torch.max(outputs, 1)\n",
        "        total += labels.size(0)\n",
        "        correct += (predicted == labels).sum()\n",
        "        if print_first_k_mistakes > 0:\n",
        "            for idx, match in enumerate(zip(predicted, labels)):\n",
        "                if match[0] != match[1]:\n",
        "                    error = \"Actually unpolarized:\"\n",
        "                    if match[1] == 1:\n",
        "                        error = \"Actually polarized:\"\n",
        "                    to_print.append((error, images_loader[idx]))\n",
        "                    print_first_k_mistakes -= 1\n",
        "    accuracy = 100 * float(correct) / total\n",
        "    print('Accuracy of the network on the {} {} images: {:.2f} %'.format(total, name, accuracy))\n",
        "\n",
        "    if len(to_print) > 0:\n",
        "        print('\\n'.join('{:>10}'.format(label[0]) for label in to_print))\n",
        "        imshow(torchvision.utils.make_grid([img[1] for img in to_print]))\n",
        "\n",
        "def train_set_accuracy(net):\n",
        "    dataset_accuracy(net, train_loader, \"train\")\n",
        "\n",
        "def val_set_accuracy(net):\n",
        "    dataset_accuracy(net, val_loader, \"validation\")  \n",
        "    \n",
        "def test_set_accuracy(net):\n",
        "    dataset_accuracy(net, test_loader, \"test\", 10)\n",
        "\n",
        "def compute_accuracy(net):\n",
        "    train_set_accuracy(net)\n",
        "    val_set_accuracy(net)\n",
        "    test_set_accuracy(net)\n",
        "    \n",
        "print(\"Computing accuracy...\")\n",
        "compute_accuracy(net)"
      ],
      "execution_count": 28,
      "outputs": [
        {
          "output_type": "stream",
          "text": [
            "Computing accuracy...\n",
            "Accuracy of the network on the 618 train images: 88.35 %\n",
            "Accuracy of the network on the 185 validation images: 96.22 %\n",
            "Accuracy of the network on the 180 test images: 66.67 %\n",
            "Actually unpolarized:\n",
            "Actually unpolarized:\n",
            "Actually unpolarized:\n",
            "Actually unpolarized:\n",
            "Actually unpolarized:\n",
            "Actually unpolarized:\n",
            "Actually unpolarized:\n",
            "Actually unpolarized:\n",
            "Actually unpolarized:\n",
            "Actually unpolarized:\n",
            "Actually unpolarized:\n",
            "Actually unpolarized:\n",
            "Actually unpolarized:\n",
            "Actually unpolarized:\n"
          ],
          "name": "stdout"
        },
        {
          "output_type": "display_data",
          "data": {
            "image/png": "[encoded data removed]",
            "text/plain": [
              "<Figure size 1440x576 with 1 Axes>"
            ]
          },
          "metadata": {
            "tags": [],
            "needs_background": "light"
          }
        }
      ]
    },
    {
      "cell_type": "markdown",
      "metadata": {
        "id": "R4tY-o1fyujS"
      },
      "source": [
        "### Plot results (these need to be refactored)\n"
      ]
    },
    {
      "cell_type": "code",
      "metadata": {
        "id": "rw4EdxjbI9zt"
      },
      "source": [
        "def plot_losses(train_history, val_history):\n",
        "    x = np.arange(1, len(train_history) + 1)\n",
        "\n",
        "    plt.figure(figsize=(8, 6), dpi=100)\n",
        "    plt.plot(x, train_history, '-r', label=\"Training loss\", linewidth=2)\n",
        "    plt.plot(x, val_history, '-b', label=\"Validation loss\", linewidth=2)\n",
        "    plt.xlabel('Epoch')\n",
        "    plt.ylabel('Loss')\n",
        "    plt.legend(loc='upper right')\n",
        "    plt.title(\"Training and Validation Loss History\" + \"(\" + z_agg_mode + \")\")\n",
        "    plt.show()\n",
        "\n",
        "def plot_confusion_matrix(cm, classes,\n",
        "                          normalize=False,\n",
        "                          title='Confusion matrix',\n",
        "                          cmap=plt.cm.Blues):\n",
        "    \"\"\"\n",
        "    This function prints and plots the confusion matrix.\n",
        "    Normalization can be applied by setting `normalize=True`.\n",
        "    from http://scikit-learn.org/stable/auto_examples/model_selection/plot_confusion_matrix.html\n",
        "    :param cm: (numpy matrix) confusion matrix\n",
        "    :param classes: [str]\n",
        "    :param normalize: (bool)\n",
        "    :param title: (str)\n",
        "    :param cmap: (matplotlib color map)\n",
        "    \"\"\"\n",
        "    if normalize:\n",
        "        cm = cm.astype('float') / cm.sum(axis=1)[:, np.newaxis]\n",
        "        \n",
        "    plt.figure(figsize=(8, 8), dpi=100)   \n",
        "    plt.imshow(cm, interpolation='nearest', cmap=cmap)\n",
        "    plt.title(title)\n",
        "    plt.colorbar()\n",
        "    tick_marks = np.arange(len(classes))\n",
        "    plt.xticks(tick_marks, classes, rotation=45)\n",
        "    plt.yticks(tick_marks, classes)\n",
        "\n",
        "    fmt = '.2f' if normalize else 'd'\n",
        "    thresh = cm.max() / 2.\n",
        "    for i, j in itertools.product(range(cm.shape[0]), range(cm.shape[1])):\n",
        "        plt.text(j, i, format(cm[i, j], fmt),\n",
        "                 horizontalalignment=\"center\",\n",
        "                 color=\"white\" if cm[i, j] > thresh else \"black\")\n",
        "\n",
        "    plt.tight_layout()\n",
        "    plt.ylabel('True label')\n",
        "    plt.xlabel('Predicted label')"
      ],
      "execution_count": 29,
      "outputs": []
    },
    {
      "cell_type": "code",
      "metadata": {
        "id": "HCQdZHEayujT"
      },
      "source": [
        "# plt.figure()\n",
        "# plt.plot(np.arange(0,epochs,1),train_acc_lst,'r')\n",
        "# plt.ylabel('Training Accuracy')\n",
        "# plt.xlabel('Epoch')\n",
        "# plt.title('CNN Classify Fluo Polarization')\n",
        "# plt.show()"
      ],
      "execution_count": 30,
      "outputs": []
    },
    {
      "cell_type": "code",
      "metadata": {
        "id": "ebW8cv5kyujU",
        "outputId": "ceba910f-7a8e-4d3c-c768-5140014688fa",
        "colab": {
          "base_uri": "https://localhost:8080/",
          "height": 554
        }
      },
      "source": [
        "# plt.figure()\n",
        "# plt.plot(np.arange(0,epochs,1),train_loss_lst,'r')\n",
        "# plt.ylabel('Training Loss')\n",
        "# plt.xlabel('Epoch')\n",
        "# plt.title('CNN Classify Fluo Polarization')\n",
        "# plt.show()\n",
        "\n",
        "plot_losses(train_history, val_history)"
      ],
      "execution_count": 31,
      "outputs": [
        {
          "output_type": "display_data",
          "data": {
            "image/png": "[encoded data removed]",
            "text/plain": [
              "<Figure size 800x600 with 1 Axes>"
            ]
          },
          "metadata": {
            "tags": [],
            "needs_background": "light"
          }
        }
      ]
    },
    {
      "cell_type": "code",
      "metadata": {
        "id": "_xWHwM3AyujV"
      },
      "source": [
        "# plt.figure()\n",
        "# plt.plot(np.arange(0,epochs,1),val_acc_lst,'r')\n",
        "# plt.ylabel('Validation Accuracy')\n",
        "# plt.xlabel('Epoch')\n",
        "# plt.title('CNN Classify Fluo Polarization')\n",
        "# plt.show()"
      ],
      "execution_count": 32,
      "outputs": []
    },
    {
      "cell_type": "code",
      "metadata": {
        "id": "7oxvgfhcHGX1",
        "outputId": "c2880706-6ce1-4d5a-b69d-57837d56bd05",
        "colab": {
          "base_uri": "https://localhost:8080/"
        }
      },
      "source": [
        "import itertools\n",
        "\n",
        "test_batch_size = batch_size\n",
        "\n",
        "def accuracy_per_class(net):\n",
        "    net = net.to(device)\n",
        "    n_classes = 2\n",
        "    # (real, predicted)\n",
        "    confusion_matrix = np.zeros((n_classes, n_classes), dtype=np.int64)\n",
        "\n",
        "    for images, labels in test_loader:\n",
        "        images, labels = images, labels = images.to(device), labels.to(device)\n",
        "        outputs = net(images)\n",
        "        _, predicted = torch.max(outputs.data, 1)\n",
        "        for i in range(test_batch_size):\n",
        "            confusion_matrix[labels[i], predicted[i]] += 1\n",
        "            label = labels[i]\n",
        "\n",
        "    print(\"{:<10} {:^10}\".format(\"Class\", \"Accuracy (%)\"))\n",
        "    for i in range(n_classes):\n",
        "        class_total = confusion_matrix[i, :].sum()\n",
        "        class_correct = confusion_matrix[i, i]\n",
        "        percentage_correct = 100.0 * float(class_correct) / class_total\n",
        "        \n",
        "        print('{:<10} {:^10.2f}'.format(classes[i], percentage_correct))\n",
        "    return confusion_matrix\n",
        "\n",
        "confusion_matrix = accuracy_per_class(net)"
      ],
      "execution_count": 33,
      "outputs": [
        {
          "output_type": "stream",
          "text": [
            "Class      Accuracy (%)\n",
            "unpolarized    3.17   \n",
            "polarized    100.00  \n"
          ],
          "name": "stdout"
        }
      ]
    },
    {
      "cell_type": "code",
      "metadata": {
        "id": "k-E3l96gYXal",
        "outputId": "fdea4a5b-d465-4b6f-a777-25be8696346e",
        "colab": {
          "base_uri": "https://localhost:8080/",
          "height": 1000
        }
      },
      "source": [
        "# Plot normalized confusion matrix\n",
        "plot_confusion_matrix(confusion_matrix, classes, normalize=True,\n",
        "                      title='Normalized confusion matrix')\n",
        "\n",
        "# Plot non-normalized confusion matrix\n",
        "plot_confusion_matrix(confusion_matrix, classes,\n",
        "                      title='Confusion matrix, without normalization')"
      ],
      "execution_count": 34,
      "outputs": [
        {
          "output_type": "display_data",
          "data": {
            "image/png": "[encoded data removed]",
            "text/plain": [
              "<Figure size 800x800 with 2 Axes>"
            ]
          },
          "metadata": {
            "tags": [],
            "needs_background": "light"
          }
        },
        {
          "output_type": "display_data",
          "data": {
            "image/png": "[encoded data removed]",
            "text/plain": [
              "<Figure size 800x800 with 2 Axes>"
            ]
          },
          "metadata": {
            "tags": [],
            "needs_background": "light"
          }
        }
      ]
    },
    {
      "cell_type": "code",
      "metadata": {
        "id": "TzvwZigS5YdK"
      },
      "source": [
        ""
      ],
      "execution_count": 34,
      "outputs": []
    }
  ]
}