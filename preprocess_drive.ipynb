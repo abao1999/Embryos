{
 "cells": [
  {
   "cell_type": "markdown",
   "metadata": {
    "id": "VJ4oJsJQbdci"
   },
   "source": [
    "# Preprocessing Shared Drive Data"
   ]
  },
  {
   "cell_type": "markdown",
   "metadata": {
    "id": "Cu_GigTlbdcj"
   },
   "source": [
    "This is a colab notebook for converting the Google Drive nested folder format into a multi-dimensional array per embryo."
   ]
  },
  {
   "cell_type": "code",
   "execution_count": 33,
   "metadata": {
    "id": "7tYKSh3j8_JC"
   },
   "outputs": [],
   "source": [
    "# Set the indices to process or None to process everything\n",
    "START = None\n",
    "STOP = None\n",
    "# START = 10\n",
    "# STOP = 20"
   ]
  },
  {
   "cell_type": "code",
   "execution_count": 18,
   "metadata": {
    "id": "y79IMsembhRh"
   },
   "outputs": [],
   "source": [
    "# https://github.com/googlecolab/colabtools/issues/1494\n",
    "!sed -i -e 's/enforce_single_parent:true/enforce_single_parent:true,metadata_cache_reset_counter:4/' /usr/local/lib/python3.6/dist-packages/google/colab/drive.py\n",
    "from google.colab import drive\n",
    "import importlib\n",
    "_ = importlib.reload(drive)"
   ]
  },
  {
   "cell_type": "code",
   "execution_count": 19,
   "metadata": {
    "id": "Wd2DDSgyTVQh"
   },
   "outputs": [],
   "source": [
    "import os\n",
    "import sys\n",
    "import time\n",
    "import pandas as pd\n",
    "import numpy as np\n",
    "from matplotlib import image"
   ]
  },
  {
   "cell_type": "code",
   "execution_count": 20,
   "metadata": {
    "colab": {
     "base_uri": "https://localhost:8080/"
    },
    "id": "e-uKMBiFTXWk",
    "outputId": "7413a99e-c8b6-4f15-c3c9-5ed9f938499c"
   },
   "outputs": [
    {
     "name": "stdout",
     "output_type": "stream",
     "text": [
      "Drive already mounted at /content/gdrive; to attempt to forcibly remount, call drive.mount(\"/content/gdrive\", force_remount=True).\n"
     ]
    }
   ],
   "source": [
    "drive.mount('/content/gdrive')"
   ]
  },
  {
   "cell_type": "code",
   "execution_count": 26,
   "metadata": {
    "id": "Md9DWZSPTZ4-"
   },
   "outputs": [],
   "source": [
    "shared_path = '/content/gdrive/Shared drives/Embryo_data'\n",
    "\n",
    "embryo_data = pd.read_excel(f'{shared_path}/embryo_info_CS101.xlsx')\n",
    "\n",
    "data_labels = ['data/fluo_data', 'data/bf_data']\n",
    "processed_labels = ['processed/fluo_data', 'processed/bf_data']\n",
    "polarized_label = 'processed/polarization'\n"
   ]
  },
  {
   "cell_type": "code",
   "execution_count": 27,
   "metadata": {
    "id": "wohvAbc74RD0"
   },
   "outputs": [],
   "source": [
    "# Copied from utils\n",
    "\n",
    "def get_z_slice(z, img):\n",
    "    assert len(img.shape) == 4\n",
    "    return img[z, :, :, :]\n",
    "\n",
    "def get_img_at_t(t, img):\n",
    "    assert len(img.shape) == 4\n",
    "    return img[:, :, :, t]\n",
    "\n",
    "def normalize(img):\n",
    "    \"\"\" Normalizes pixel values across all images in img\n",
    "    to range 0-1.\n",
    "    \"\"\"\n",
    "    assert len(img.shape) == 4\n",
    "\n",
    "    temp = img - np.min(img)\n",
    "    if np.max(temp) != 0:\n",
    "        b = temp / np.max(temp)\n",
    "    else:\n",
    "        b = temp\n",
    "    return b\n",
    "\n",
    "def middle_z(img):\n",
    "    assert len(img.shape) == 4\n",
    "\n",
    "    zdim, xdim, ydim, tdim = img.shape\n",
    "    result = np.empty(shape=(1, xdim, ydim, tdim))\n",
    "    result[0] = get_z_slice(int(img.shape[0] / 2), img)\n",
    "    return result\n",
    "\n",
    "def max_across_z(img, normalize=False):\n",
    "    \"\"\" Returns a new image where each pixel\n",
    "    intensity is the maximum for that pixel across\n",
    "    all images in the z-stack. \n",
    "    \"\"\"\n",
    "\n",
    "    if normalize:\n",
    "        img = normalize(img)\n",
    "\n",
    "    zdim, xdim, ydim, tdim = img.shape\n",
    "    result = np.empty(shape=(1, xdim, ydim, tdim))\n",
    "\n",
    "    result[0] = np.amax(img, axis=0)\n",
    "    return result\n",
    "\n",
    "def min_across_z(img, normalize=False):\n",
    "    \"\"\" Returns a new image where each pixel\n",
    "    intensity is the minimum for that pixel across\n",
    "    all images in the z-stack. \n",
    "    \"\"\"\n",
    "\n",
    "    if normalize:\n",
    "        img = normalize(img)\n",
    "\n",
    "    zdim, xdim, ydim, tdim = img.shape\n",
    "    result = np.empty(shape=(1, xdim, ydim, tdim))\n",
    "\n",
    "    result[0] = np.amin(img, axis=0)\n",
    "    return result\n",
    "\n",
    "def avg_across_z(img, normalize=False):\n",
    "    \"\"\" Returns a new image where each pixel\n",
    "    intensity is the average for that pixel across \n",
    "    all images in the z-stack. \n",
    "    \"\"\"\n",
    "\n",
    "    if normalize:\n",
    "        img = normalize(img)\n",
    "\n",
    "    zdim, xdim, ydim, tdim = img.shape\n",
    "    result = np.empty(shape=(1, xdim, ydim, tdim))\n",
    "\n",
    "    result[0] = np.mean(img, axis=0)\n",
    "    return result"
   ]
  },
  {
   "cell_type": "code",
   "execution_count": 28,
   "metadata": {
    "id": "MT12R7RUXUDK"
   },
   "outputs": [],
   "source": [
    "def get_c_dir(embryo_idx, t, c):\n",
    "    return f'{shared_path}/Embryo{embryo_idx}/t{t}/c{c}'\n",
    "\n",
    "def get_png_path(embryo_idx, t, c, z):\n",
    "    return f'{get_c_dir(embryo_idx, t, c)}/c{c}z{z}t{t}.png'\n",
    "\n",
    "def process_embryo(embryo_idx, t_num, c_fluo, c_bf):\n",
    "    print(f'starting {embryo_idx} data')\n",
    "    embryo_dir = f'{shared_path}/Embryo{embryo_idx}'\n",
    "\n",
    "    # axes per video will be (z, t, x, y) -> (z, x, y, t)\n",
    "    for i, c in enumerate([c_fluo, c_bf]):\n",
    "        output_path = f'{shared_path}/{data_labels[i]}/embryo{embryo_idx}.npy'\n",
    "        if os.path.exists(output_path):\n",
    "            continue\n",
    "        video = []\n",
    "        max_z = len(os.listdir(get_c_dir(embryo_idx, 1, c)))\n",
    "        for z in range(1, max_z+1):\n",
    "            z_data = []\n",
    "            for t in range(1, t_num+1):\n",
    "                filename = get_png_path(embryo_idx, t, c, z)\n",
    "                img_arr = image.imread(filename)\n",
    "                z_data.append(img_arr)\n",
    "            video.append(np.array(z_data))\n",
    "        video = np.array(video)\n",
    "        old_shape = video.shape\n",
    "        video = np.moveaxis(video, 1, -1)\n",
    "        # print(f'old shape = {old_shape}, new shape = {video.shape}')\n",
    "        np.save(output_path, video)\n",
    "\n",
    "    print(f'finished {embryo_idx} data')    "
   ]
  },
  {
   "cell_type": "code",
   "execution_count": 29,
   "metadata": {
    "id": "9whlKq2E4Yh9"
   },
   "outputs": [],
   "source": [
    "def postprocess_embryo(embryo_idx, t_num, first_pol_idx):\n",
    "    print(f'starting {embryo_idx} processed')\n",
    "    for dir, func in [('middle', middle_z), ('max', max_across_z), ('min', min_across_z), ('avg', avg_across_z)]:\n",
    "        for i in range(2):\n",
    "            input_path = f'{shared_path}/{data_labels[i]}/embryo{embryo_idx}.npy'\n",
    "            output_path = f'{shared_path}/{processed_labels[i]}/{dir}/embryo{embryo_idx}.npy'\n",
    "            if os.path.exists(output_path):\n",
    "                continue\n",
    "            np.save(output_path, func(np.load(input_path)))\n",
    "    np.save(f'{shared_path}/{polarized_label}/embryo{embryo_idx}.npy', [0]*(first_pol_idx-1) + [1]*(t_num-first_pol_idx+1))\n",
    "    print(f'finished {embryo_idx} processed')    "
   ]
  },
  {
   "cell_type": "code",
   "execution_count": 32,
   "metadata": {
    "colab": {
     "base_uri": "https://localhost:8080/",
     "height": 545
    },
    "id": "1Dx7rCObbdc5",
    "outputId": "990fbdfe-6394-41fb-eef0-90e050a4923c"
   },
   "outputs": [
    {
     "name": "stdout",
     "output_type": "stream",
     "text": [
      "starting 39 data\n",
      "finished 39 data\n",
      "starting 39 processed\n",
      "finished 39 processed\n",
      "starting 40 data\n",
      "finished 40 data\n",
      "starting 40 processed\n",
      "finished 40 processed\n",
      "starting 42 data\n",
      "finished 42 data\n",
      "starting 42 processed\n"
     ]
    },
    {
     "ename": "KeyboardInterrupt",
     "evalue": "ignored",
     "output_type": "error",
     "traceback": [
      "\u001b[0;31m---------------------------------------------------------------------------\u001b[0m",
      "\u001b[0;31mKeyboardInterrupt\u001b[0m                         Traceback (most recent call last)",
      "\u001b[0;32m<ipython-input-32-6cfc66731049>\u001b[0m in \u001b[0;36m<module>\u001b[0;34m()\u001b[0m\n\u001b[1;32m      6\u001b[0m         \u001b[0membryo_idx\u001b[0m\u001b[0;34m,\u001b[0m \u001b[0mt_num\u001b[0m\u001b[0;34m,\u001b[0m \u001b[0mc_fluo\u001b[0m\u001b[0;34m,\u001b[0m \u001b[0mc_bf\u001b[0m\u001b[0;34m,\u001b[0m \u001b[0mfirst_pol_idx\u001b[0m \u001b[0;34m=\u001b[0m \u001b[0membryo_data\u001b[0m\u001b[0;34m[\u001b[0m\u001b[0;34m[\u001b[0m\u001b[0;34m\"embryo_index\"\u001b[0m\u001b[0;34m,\u001b[0m \u001b[0;34m\"t_num\"\u001b[0m\u001b[0;34m,\u001b[0m \u001b[0;34m\"fluo_channel\"\u001b[0m\u001b[0;34m,\u001b[0m \u001b[0;34m\"DIC_channel\"\u001b[0m\u001b[0;34m,\u001b[0m \u001b[0;34m\"first_anno_pol_time\"\u001b[0m\u001b[0;34m]\u001b[0m\u001b[0;34m]\u001b[0m\u001b[0;34m.\u001b[0m\u001b[0mvalues\u001b[0m\u001b[0;34m[\u001b[0m\u001b[0mpd_idx\u001b[0m\u001b[0;34m]\u001b[0m\u001b[0;34m\u001b[0m\u001b[0;34m\u001b[0m\u001b[0m\n\u001b[1;32m      7\u001b[0m         \u001b[0mprocess_embryo\u001b[0m\u001b[0;34m(\u001b[0m\u001b[0membryo_idx\u001b[0m\u001b[0;34m,\u001b[0m \u001b[0mt_num\u001b[0m\u001b[0;34m,\u001b[0m \u001b[0mc_fluo\u001b[0m\u001b[0;34m,\u001b[0m \u001b[0mc_bf\u001b[0m\u001b[0;34m)\u001b[0m\u001b[0;34m\u001b[0m\u001b[0;34m\u001b[0m\u001b[0m\n\u001b[0;32m----> 8\u001b[0;31m         \u001b[0mpostprocess_embryo\u001b[0m\u001b[0;34m(\u001b[0m\u001b[0membryo_idx\u001b[0m\u001b[0;34m,\u001b[0m \u001b[0mt_num\u001b[0m\u001b[0;34m,\u001b[0m \u001b[0mfirst_pol_idx\u001b[0m\u001b[0;34m)\u001b[0m\u001b[0;34m\u001b[0m\u001b[0;34m\u001b[0m\u001b[0m\n\u001b[0m\u001b[1;32m      9\u001b[0m \u001b[0mprint\u001b[0m\u001b[0;34m(\u001b[0m\u001b[0;34mf'there are {len(args)} total embryos'\u001b[0m\u001b[0;34m)\u001b[0m\u001b[0;34m\u001b[0m\u001b[0;34m\u001b[0m\u001b[0m\n",
      "\u001b[0;32m<ipython-input-29-3b0e378a56c5>\u001b[0m in \u001b[0;36mpostprocess_embryo\u001b[0;34m(embryo_idx, t_num, first_pol_idx)\u001b[0m\n\u001b[1;32m      7\u001b[0m             \u001b[0;32mif\u001b[0m \u001b[0mos\u001b[0m\u001b[0;34m.\u001b[0m\u001b[0mpath\u001b[0m\u001b[0;34m.\u001b[0m\u001b[0mexists\u001b[0m\u001b[0;34m(\u001b[0m\u001b[0moutput_path\u001b[0m\u001b[0;34m)\u001b[0m\u001b[0;34m:\u001b[0m\u001b[0;34m\u001b[0m\u001b[0;34m\u001b[0m\u001b[0m\n\u001b[1;32m      8\u001b[0m                 \u001b[0;32mcontinue\u001b[0m\u001b[0;34m\u001b[0m\u001b[0;34m\u001b[0m\u001b[0m\n\u001b[0;32m----> 9\u001b[0;31m             \u001b[0mnp\u001b[0m\u001b[0;34m.\u001b[0m\u001b[0msave\u001b[0m\u001b[0;34m(\u001b[0m\u001b[0moutput_path\u001b[0m\u001b[0;34m,\u001b[0m \u001b[0mfunc\u001b[0m\u001b[0;34m(\u001b[0m\u001b[0mnp\u001b[0m\u001b[0;34m.\u001b[0m\u001b[0mload\u001b[0m\u001b[0;34m(\u001b[0m\u001b[0minput_path\u001b[0m\u001b[0;34m)\u001b[0m\u001b[0;34m)\u001b[0m\u001b[0;34m)\u001b[0m\u001b[0;34m\u001b[0m\u001b[0;34m\u001b[0m\u001b[0m\n\u001b[0m\u001b[1;32m     10\u001b[0m     \u001b[0mnp\u001b[0m\u001b[0;34m.\u001b[0m\u001b[0msave\u001b[0m\u001b[0;34m(\u001b[0m\u001b[0;34mf'{shared_path}/{polarized_label}/embryo{embryo_idx}.npy'\u001b[0m\u001b[0;34m,\u001b[0m \u001b[0;34m[\u001b[0m\u001b[0;36m0\u001b[0m\u001b[0;34m]\u001b[0m\u001b[0;34m*\u001b[0m\u001b[0;34m(\u001b[0m\u001b[0mfirst_pol_idx\u001b[0m\u001b[0;34m-\u001b[0m\u001b[0;36m1\u001b[0m\u001b[0;34m)\u001b[0m \u001b[0;34m+\u001b[0m \u001b[0;34m[\u001b[0m\u001b[0;36m1\u001b[0m\u001b[0;34m]\u001b[0m\u001b[0;34m*\u001b[0m\u001b[0;34m(\u001b[0m\u001b[0mt_num\u001b[0m\u001b[0;34m-\u001b[0m\u001b[0mfirst_pol_idx\u001b[0m\u001b[0;34m+\u001b[0m\u001b[0;36m1\u001b[0m\u001b[0;34m)\u001b[0m\u001b[0;34m)\u001b[0m\u001b[0;34m\u001b[0m\u001b[0;34m\u001b[0m\u001b[0m\n\u001b[1;32m     11\u001b[0m     \u001b[0mprint\u001b[0m\u001b[0;34m(\u001b[0m\u001b[0;34mf'finished {embryo_idx} processed'\u001b[0m\u001b[0;34m)\u001b[0m\u001b[0;34m\u001b[0m\u001b[0;34m\u001b[0m\u001b[0m\n",
      "\u001b[0;32m/usr/local/lib/python3.6/dist-packages/numpy/lib/npyio.py\u001b[0m in \u001b[0;36mload\u001b[0;34m(file, mmap_mode, allow_pickle, fix_imports, encoding)\u001b[0m\n\u001b[1;32m    451\u001b[0m             \u001b[0;32melse\u001b[0m\u001b[0;34m:\u001b[0m\u001b[0;34m\u001b[0m\u001b[0;34m\u001b[0m\u001b[0m\n\u001b[1;32m    452\u001b[0m                 return format.read_array(fid, allow_pickle=allow_pickle,\n\u001b[0;32m--> 453\u001b[0;31m                                          pickle_kwargs=pickle_kwargs)\n\u001b[0m\u001b[1;32m    454\u001b[0m         \u001b[0;32melse\u001b[0m\u001b[0;34m:\u001b[0m\u001b[0;34m\u001b[0m\u001b[0;34m\u001b[0m\u001b[0m\n\u001b[1;32m    455\u001b[0m             \u001b[0;31m# Try a pickle\u001b[0m\u001b[0;34m\u001b[0m\u001b[0;34m\u001b[0m\u001b[0;34m\u001b[0m\u001b[0m\n",
      "\u001b[0;32m/usr/local/lib/python3.6/dist-packages/numpy/lib/format.py\u001b[0m in \u001b[0;36mread_array\u001b[0;34m(fp, allow_pickle, pickle_kwargs)\u001b[0m\n\u001b[1;32m    753\u001b[0m         \u001b[0;32mif\u001b[0m \u001b[0misfileobj\u001b[0m\u001b[0;34m(\u001b[0m\u001b[0mfp\u001b[0m\u001b[0;34m)\u001b[0m\u001b[0;34m:\u001b[0m\u001b[0;34m\u001b[0m\u001b[0;34m\u001b[0m\u001b[0m\n\u001b[1;32m    754\u001b[0m             \u001b[0;31m# We can use the fast fromfile() function.\u001b[0m\u001b[0;34m\u001b[0m\u001b[0;34m\u001b[0m\u001b[0;34m\u001b[0m\u001b[0m\n\u001b[0;32m--> 755\u001b[0;31m             \u001b[0marray\u001b[0m \u001b[0;34m=\u001b[0m \u001b[0mnumpy\u001b[0m\u001b[0;34m.\u001b[0m\u001b[0mfromfile\u001b[0m\u001b[0;34m(\u001b[0m\u001b[0mfp\u001b[0m\u001b[0;34m,\u001b[0m \u001b[0mdtype\u001b[0m\u001b[0;34m=\u001b[0m\u001b[0mdtype\u001b[0m\u001b[0;34m,\u001b[0m \u001b[0mcount\u001b[0m\u001b[0;34m=\u001b[0m\u001b[0mcount\u001b[0m\u001b[0;34m)\u001b[0m\u001b[0;34m\u001b[0m\u001b[0;34m\u001b[0m\u001b[0m\n\u001b[0m\u001b[1;32m    756\u001b[0m         \u001b[0;32melse\u001b[0m\u001b[0;34m:\u001b[0m\u001b[0;34m\u001b[0m\u001b[0;34m\u001b[0m\u001b[0m\n\u001b[1;32m    757\u001b[0m             \u001b[0;31m# This is not a real file. We have to read it the\u001b[0m\u001b[0;34m\u001b[0m\u001b[0;34m\u001b[0m\u001b[0;34m\u001b[0m\u001b[0m\n",
      "\u001b[0;31mKeyboardInterrupt\u001b[0m: "
     ]
    }
   ],
   "source": [
    "if not START:\n",
    "    START = 0\n",
    "    STOP = len(embryo_data)\n",
    "for pd_idx in range(START, STOP):\n",
    "    if all(embryo_data[['if_full_injected', 'fluo_quality_of_z_max_sum', 'fluo_quality_of_raw_png', 'if_healthy']].values[pd_idx]):\n",
    "        embryo_idx, t_num, c_fluo, c_bf, first_pol_idx = embryo_data[[\"embryo_index\", \"t_num\", \"fluo_channel\", \"DIC_channel\", \"first_anno_pol_time\"]].values[pd_idx]\n",
    "        process_embryo(embryo_idx, t_num, c_fluo, c_bf)\n",
    "        postprocess_embryo(embryo_idx, t_num, first_pol_idx)\n",
    "print(f'there are {len(args)} total embryos')"
   ]
  },
  {
   "cell_type": "code",
   "execution_count": null,
   "metadata": {
    "id": "d5rZBZIY7dvN"
   },
   "outputs": [],
   "source": []
  }
 ],
 "metadata": {
  "colab": {
   "collapsed_sections": [],
   "name": "preprocess_drive.ipynb",
   "provenance": []
  },
  "kernelspec": {
   "display_name": "Python 3",
   "language": "python",
   "name": "python3"
  },
  "language_info": {
   "codemirror_mode": {
    "name": "ipython",
    "version": 3
   },
   "file_extension": ".py",
   "mimetype": "text/x-python",
   "name": "python",
   "nbconvert_exporter": "python",
   "pygments_lexer": "ipython3",
   "version": "3.7.7"
  }
 },
 "nbformat": 4,
 "nbformat_minor": 1
}
