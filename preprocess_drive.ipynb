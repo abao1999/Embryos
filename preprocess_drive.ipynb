{
 "cells": [
  {
   "cell_type": "markdown",
   "metadata": {},
   "source": [
    "# Preprocessing Shared Drive Data"
   ]
  },
  {
   "cell_type": "markdown",
   "metadata": {},
   "source": [
    "This is a colab notebook for converting the Google Drive nested folder format into a multi-dimensional array per embryo."
   ]
  },
  {
   "cell_type": "code",
   "execution_count": null,
   "metadata": {
    "id": "Wd2DDSgyTVQh"
   },
   "outputs": [],
   "source": [
    "import os\n",
    "import pandas as pd\n",
    "import numpy as np\n",
    "from google.colab import files, drive\n",
    "from matplotlib import image"
   ]
  },
  {
   "cell_type": "code",
   "execution_count": null,
   "metadata": {
    "colab": {
     "base_uri": "https://localhost:8080/",
     "height": 34
    },
    "id": "e-uKMBiFTXWk",
    "outputId": "66e2bd3c-aa1a-464d-d477-75259d4bffc7"
   },
   "outputs": [],
   "source": [
    "drive.mount('/content/gdrive')"
   ]
  },
  {
   "cell_type": "code",
   "execution_count": null,
   "metadata": {
    "id": "Md9DWZSPTZ4-"
   },
   "outputs": [],
   "source": [
    "shared_path = '/content/gdrive/Shared drives/Embryo_data'\n",
    "embryo_data = pd.read_excel(f'{shared_path}/embryo_info_CS101.xlsx')\n",
    "\n",
    "output_labels = ['raw/fluo_data', 'raw/bf_data']"
   ]
  },
  {
   "cell_type": "code",
   "execution_count": null,
   "metadata": {
    "colab": {
     "base_uri": "https://localhost:8080/",
     "height": 600
    },
    "id": "MT12R7RUXUDK",
    "outputId": "8c727516-5362-43cb-9f18-bdc611976632"
   },
   "outputs": [],
   "source": [
    "def get_c_dir(embryo_idx, t, c):\n",
    "    return f'{shared_path}/Embryo{embryo_idx}/t{t}/c{c}'\n",
    "\n",
    "def get_png_path(embryo_idx, t, c, z):\n",
    "    return f'{get_c_dir(embryo_idx, t, c)}/c{c}z{z}t{t}.png'\n",
    "\n",
    "for pd_idx in range(len(embryo_data)):\n",
    "    print(f'{pd_idx}/{len(embryo_data)}')\n",
    "    if all(embryo_data[['if_full_injected', 'fluo_quality_of_z_max_sum', 'fluo_quality_of_raw_png', 'if_healthy']].values[pd_idx]):\n",
    "        embryo_idx, t_num, c_fluo, c_bf = embryo_data[[\"embryo_index\", \"t_num\", \"fluo_channel\", \"DIC_channel\"]].values[pd_idx]\n",
    "        embryo_dir = f'{shared_path}/Embryo{embryo_idx}'\n",
    "\n",
    "        # axes per video will be (z, t, x, y) -> (z, x, y, t)\n",
    "        for i, c in enumerate([c_fluo, c_bf]):\n",
    "            video = []\n",
    "            max_z = len(os.listdir(get_c_dir(embryo_idx, 1, c)))\n",
    "            for z in range(1, max_z+1):\n",
    "                z_data = []\n",
    "                for t in range(1, t_num+1):\n",
    "                    filename = get_png_path(embryo_idx, t, c, z)\n",
    "                    img_arr = image.imread(filename)\n",
    "                    z_data.append(img_arr)\n",
    "                video.append(np.array(z_data))\n",
    "            old_shape = video.shape\n",
    "            video = np.moveaxis(video, 1, -1)\n",
    "            print(f'old shape = {old_shape}, new shape = {video.shape}')\n",
    "            np.save(f'{shared_path}/{output_labels[i]}/embryo{embryo_idx}', video)\n",
    "    # input()"
   ]
  }
 ],
 "metadata": {
  "colab": {
   "collapsed_sections": [],
   "name": "Untitled0.ipynb",
   "provenance": []
  },
  "kernelspec": {
   "display_name": "Python 3",
   "language": "python",
   "name": "python3"
  },
  "language_info": {
   "codemirror_mode": {
    "name": "ipython",
    "version": 3
   },
   "file_extension": ".py",
   "mimetype": "text/x-python",
   "name": "python",
   "nbconvert_exporter": "python",
   "pygments_lexer": "ipython3",
   "version": "3.7.7"
  }
 },
 "nbformat": 4,
 "nbformat_minor": 1
}
