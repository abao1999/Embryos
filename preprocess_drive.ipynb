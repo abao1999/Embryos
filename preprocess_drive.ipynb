{
  "nbformat": 4,
  "nbformat_minor": 0,
  "metadata": {
    "colab": {
      "name": "preprocess_drive.ipynb",
      "provenance": [],
      "collapsed_sections": []
    },
    "kernelspec": {
      "display_name": "Python 3",
      "language": "python",
      "name": "python3"
    },
    "language_info": {
      "codemirror_mode": {
        "name": "ipython",
        "version": 3
      },
      "file_extension": ".py",
      "mimetype": "text/x-python",
      "name": "python",
      "nbconvert_exporter": "python",
      "pygments_lexer": "ipython3",
      "version": "3.7.7"
    }
  },
  "cells": [
    {
      "cell_type": "markdown",
      "metadata": {
        "id": "VJ4oJsJQbdci"
      },
      "source": [
        "# Preprocessing Shared Drive Data"
      ]
    },
    {
      "cell_type": "markdown",
      "metadata": {
        "id": "Cu_GigTlbdcj"
      },
      "source": [
        "This is a colab notebook for converting the Google Drive nested folder format into a multi-dimensional array per embryo."
      ]
    },
    {
      "cell_type": "code",
      "metadata": {
        "id": "7tYKSh3j8_JC"
      },
      "source": [
        "# Set the indices to process or None to process everything\n",
        "START = None\n",
        "STOP = None\n",
        "# START = 10\n",
        "# STOP = 20"
      ],
      "execution_count": null,
      "outputs": []
    },
    {
      "cell_type": "code",
      "metadata": {
        "id": "y79IMsembhRh"
      },
      "source": [
        "# https://github.com/googlecolab/colabtools/issues/1494\n",
        "!sed -i -e 's/enforce_single_parent:true/enforce_single_parent:true,metadata_cache_reset_counter:4/' /usr/local/lib/python3.6/dist-packages/google/colab/drive.py\n",
        "from google.colab import drive\n",
        "import importlib\n",
        "_ = importlib.reload(drive)"
      ],
      "execution_count": null,
      "outputs": []
    },
    {
      "cell_type": "code",
      "metadata": {
        "id": "Wd2DDSgyTVQh"
      },
      "source": [
        "import os\n",
        "import sys\n",
        "import time\n",
        "import pandas as pd\n",
        "import numpy as np\n",
        "from matplotlib import image"
      ],
      "execution_count": null,
      "outputs": []
    },
    {
      "cell_type": "code",
      "metadata": {
        "colab": {
          "base_uri": "https://localhost:8080/"
        },
        "id": "e-uKMBiFTXWk",
        "outputId": "de733b2b-6ef1-4412-8d3d-f3d4132d8918"
      },
      "source": [
        "drive.mount('/content/gdrive')"
      ],
      "execution_count": null,
      "outputs": [
        {
          "output_type": "stream",
          "text": [
            "Drive already mounted at /content/gdrive; to attempt to forcibly remount, call drive.mount(\"/content/gdrive\", force_remount=True).\n"
          ],
          "name": "stdout"
        }
      ]
    },
    {
      "cell_type": "code",
      "metadata": {
        "id": "Md9DWZSPTZ4-"
      },
      "source": [
        "shared_path = '/content/gdrive/Shared drives/Embryo_data'\n",
        "\n",
        "embryo_data = pd.read_excel(f'{shared_path}/annotation.xlsx')  # /embryo_info_CS101.xlsx')\n",
        "\n",
        "data_labels = ['data/fluo_data', 'data/bf_data']\n",
        "processed_labels = ['processed/fluo_data', 'processed/bf_data']\n",
        "polarized_label = 'processed/polarization'\n"
      ],
      "execution_count": null,
      "outputs": []
    },
    {
      "cell_type": "code",
      "metadata": {
        "id": "wohvAbc74RD0"
      },
      "source": [
        "# Copied from utils\n",
        "\n",
        "def get_z_slice(z, img):\n",
        "    assert len(img.shape) == 4\n",
        "    return img[z, :, :, :]\n",
        "\n",
        "def get_img_at_t(t, img):\n",
        "    assert len(img.shape) == 4\n",
        "    return img[:, :, :, t]\n",
        "\n",
        "def normalize(img):\n",
        "    \"\"\" Normalizes pixel values across all images in img\n",
        "    to range 0-1.\n",
        "    \"\"\"\n",
        "    assert len(img.shape) == 4\n",
        "\n",
        "    temp = img - np.min(img)\n",
        "    if np.max(temp) != 0:\n",
        "        b = temp / np.max(temp)\n",
        "    else:\n",
        "        b = temp\n",
        "    return b\n",
        "\n",
        "def middle_z(img):\n",
        "    assert len(img.shape) == 4\n",
        "\n",
        "    zdim, xdim, ydim, tdim = img.shape\n",
        "    result = np.empty(shape=(1, xdim, ydim, tdim))\n",
        "    result[0] = get_z_slice(int(img.shape[0] / 2), img)\n",
        "    return result\n",
        "\n",
        "def max_across_z(img, normalize=False):\n",
        "    \"\"\" Returns a new image where each pixel\n",
        "    intensity is the maximum for that pixel across\n",
        "    all images in the z-stack. \n",
        "    \"\"\"\n",
        "\n",
        "    if normalize:\n",
        "        img = normalize(img)\n",
        "\n",
        "    zdim, xdim, ydim, tdim = img.shape\n",
        "    result = np.empty(shape=(1, xdim, ydim, tdim))\n",
        "\n",
        "    result[0] = np.amax(img, axis=0)\n",
        "    return result\n",
        "\n",
        "def min_across_z(img, normalize=False):\n",
        "    \"\"\" Returns a new image where each pixel\n",
        "    intensity is the minimum for that pixel across\n",
        "    all images in the z-stack. \n",
        "    \"\"\"\n",
        "\n",
        "    if normalize:\n",
        "        img = normalize(img)\n",
        "\n",
        "    zdim, xdim, ydim, tdim = img.shape\n",
        "    result = np.empty(shape=(1, xdim, ydim, tdim))\n",
        "\n",
        "    result[0] = np.amin(img, axis=0)\n",
        "    return result\n",
        "\n",
        "def avg_across_z(img, normalize=False):\n",
        "    \"\"\" Returns a new image where each pixel\n",
        "    intensity is the average for that pixel across \n",
        "    all images in the z-stack. \n",
        "    \"\"\"\n",
        "\n",
        "    if normalize:\n",
        "        img = normalize(img)\n",
        "\n",
        "    zdim, xdim, ydim, tdim = img.shape\n",
        "    result = np.empty(shape=(1, xdim, ydim, tdim))\n",
        "\n",
        "    result[0] = np.mean(img, axis=0)\n",
        "    return result"
      ],
      "execution_count": null,
      "outputs": []
    },
    {
      "cell_type": "code",
      "metadata": {
        "id": "MT12R7RUXUDK"
      },
      "source": [
        "def get_c_dir(embryo_idx, t, c):\n",
        "    return f'{shared_path}/Embryo{embryo_idx}/t{t}/c{c}'\n",
        "\n",
        "def get_png_path(embryo_idx, t, c, z):\n",
        "    return f'{get_c_dir(embryo_idx, t, c)}/c{c}z{z}t{t}.png'\n",
        "\n",
        "def process_embryo(embryo_idx, t_num, c_fluo, c_bf):\n",
        "    print(f'starting {embryo_idx} data')\n",
        "    embryo_dir = f'{shared_path}/Embryo{embryo_idx}'\n",
        "\n",
        "    # axes per video will be (z, t, x, y) -> (z, x, y, t)\n",
        "    for i, c in enumerate([c_fluo, c_bf]):\n",
        "        output_path = f'{shared_path}/{data_labels[i]}/embryo{embryo_idx}.npy'\n",
        "        if os.path.exists(output_path):\n",
        "            continue\n",
        "        video = []\n",
        "        max_z = len(os.listdir(get_c_dir(embryo_idx, 1, c)))\n",
        "        for z in range(1, max_z+1):\n",
        "            z_data = []\n",
        "            for t in range(1, t_num+1):\n",
        "                filename = get_png_path(embryo_idx, t, c, z)\n",
        "                img_arr = image.imread(filename)\n",
        "                z_data.append(img_arr)\n",
        "            video.append(np.array(z_data))\n",
        "        video = np.array(video)\n",
        "        old_shape = video.shape\n",
        "        video = np.moveaxis(video, 1, -1)\n",
        "        # print(f'old shape = {old_shape}, new shape = {video.shape}')\n",
        "        np.save(output_path, video)\n",
        "\n",
        "    print(f'finished {embryo_idx} data')    "
      ],
      "execution_count": null,
      "outputs": []
    },
    {
      "cell_type": "code",
      "metadata": {
        "id": "9whlKq2E4Yh9"
      },
      "source": [
        "def postprocess_embryo(embryo_idx, t_num, first_pol_idx):\n",
        "    print(f'starting {embryo_idx} processed')\n",
        "    for dir, func in [('middle', middle_z), ('max', max_across_z), ('min', min_across_z), ('avg', avg_across_z)]:\n",
        "        for i in range(2):\n",
        "            input_path = f'{shared_path}/{data_labels[i]}/embryo{embryo_idx}.npy'\n",
        "            output_path = f'{shared_path}/{processed_labels[i]}/{dir}/embryo{embryo_idx}.npy'\n",
        "            if os.path.exists(output_path):\n",
        "                continue\n",
        "            np.save(output_path, func(np.load(input_path)))\n",
        "    np.save(f'{shared_path}/{polarized_label}/embryo{embryo_idx}.npy', [0]*(first_pol_idx-1) + [1]*(t_num-first_pol_idx+1))\n",
        "    print(f'finished {embryo_idx} processed')    "
      ],
      "execution_count": null,
      "outputs": []
    },
    {
      "cell_type": "code",
      "metadata": {
        "colab": {
          "base_uri": "https://localhost:8080/"
        },
        "id": "1Dx7rCObbdc5",
        "outputId": "fdf10822-d649-43cb-f094-f8194806165d"
      },
      "source": [
        "if not START:\n",
        "    START = 0\n",
        "    STOP = len(embryo_data)\n",
        "for pd_idx in range(START, STOP):\n",
        "    # if all(embryo_data[['if_full_injected', 'fluo_quality_of_z_max_sum', 'fluo_quality_of_raw_png', 'if_healthy']].values[pd_idx]):\n",
        "    # embryo_idx, t_num, c_fluo, c_bf, first_pol_idx = embryo_data[[\"embryo_index\", \"t_num\", \"fluo_channel\", \"DIC_channel\", \"first_anno_pol_time\"]].values[pd_idx]\n",
        "    embryo_idx, t_num, c_fluo, c_bf, first_pol_idx = embryo_data[[\"embryo_index\", \"t_num\", \"fluo_channel\", \"DIC_channel\", \"first_pol_time\"]].values[pd_idx]\n",
        "    try:\n",
        "        process_embryo(embryo_idx, t_num, c_fluo, c_bf)\n",
        "        postprocess_embryo(embryo_idx, t_num, first_pol_idx)\n",
        "    except Exception as e:\n",
        "        print(f'ERROR {embryo_idx} data: {e}')\n",
        "print(f'there are {len(args)} total embryos')"
      ],
      "execution_count": null,
      "outputs": [
        {
          "output_type": "stream",
          "text": [
            "starting 3 data\n",
            "finished 3 data\n",
            "starting 3 processed\n",
            "finished 3 processed\n",
            "starting 12 data\n",
            "finished 12 data\n",
            "starting 12 processed\n",
            "finished 12 processed\n",
            "starting 13 data\n",
            "finished 13 data\n",
            "starting 13 processed\n",
            "finished 13 processed\n",
            "starting 16 data\n",
            "finished 16 data\n",
            "starting 16 processed\n",
            "finished 16 processed\n",
            "starting 18 data\n",
            "finished 18 data\n",
            "starting 18 processed\n",
            "finished 18 processed\n",
            "starting 19 data\n",
            "finished 19 data\n",
            "starting 19 processed\n",
            "finished 19 processed\n",
            "starting 23 data\n",
            "finished 23 data\n",
            "starting 23 processed\n",
            "finished 23 processed\n",
            "starting 24 data\n",
            "finished 24 data\n",
            "starting 24 processed\n",
            "finished 24 processed\n",
            "starting 25 data\n",
            "finished 25 data\n",
            "starting 25 processed\n",
            "finished 25 processed\n",
            "starting 33 data\n",
            "finished 33 data\n",
            "starting 33 processed\n",
            "finished 33 processed\n",
            "starting 39 data\n",
            "finished 39 data\n",
            "starting 39 processed\n",
            "finished 39 processed\n",
            "starting 42 data\n",
            "finished 42 data\n",
            "starting 42 processed\n",
            "finished 42 processed\n",
            "starting 46 data\n",
            "finished 46 data\n",
            "starting 46 processed\n",
            "finished 46 processed\n",
            "starting 47 data\n",
            "finished 47 data\n",
            "starting 47 processed\n",
            "finished 47 processed\n",
            "starting 53 data\n",
            "ERROR 53 data: [Errno 2] No such file or directory: '/content/gdrive/Shared drives/Embryo_data/Embryo53/t1/c1'\n",
            "starting 76 data\n",
            "finished 76 data\n",
            "starting 76 processed\n",
            "finished 76 processed\n",
            "starting 77 data\n",
            "ERROR 77 data: [Errno 2] No such file or directory: '/content/gdrive/Shared drives/Embryo_data/Embryo77/t1/c1'\n",
            "starting 78 data\n",
            "finished 78 data\n",
            "starting 78 processed\n",
            "finished 78 processed\n",
            "starting 79 data\n",
            "finished 79 data\n",
            "starting 79 processed\n",
            "finished 79 processed\n",
            "starting 80 data\n",
            "finished 80 data\n",
            "starting 80 processed\n",
            "finished 80 processed\n",
            "starting 81 data\n",
            "finished 81 data\n",
            "starting 81 processed\n",
            "finished 81 processed\n",
            "starting 85 data\n",
            "finished 85 data\n",
            "starting 85 processed\n",
            "finished 85 processed\n",
            "starting 87 data\n",
            "finished 87 data\n",
            "starting 87 processed\n",
            "finished 87 processed\n",
            "starting 88 data\n",
            "finished 88 data\n",
            "starting 88 processed\n",
            "finished 88 processed\n",
            "starting 92 data\n",
            "finished 92 data\n",
            "starting 92 processed\n",
            "finished 92 processed\n",
            "starting 93 data\n",
            "finished 93 data\n",
            "starting 93 processed\n",
            "finished 93 processed\n",
            "starting 94 data\n",
            "finished 94 data\n",
            "starting 94 processed\n",
            "finished 94 processed\n",
            "starting 95 data\n",
            "finished 95 data\n",
            "starting 95 processed\n",
            "finished 95 processed\n",
            "starting 96 data\n",
            "finished 96 data\n",
            "starting 96 processed\n",
            "finished 96 processed\n",
            "starting 97 data\n",
            "finished 97 data\n",
            "starting 97 processed\n",
            "finished 97 processed\n",
            "starting 98 data\n",
            "ERROR 98 data: [Errno 2] No such file or directory: '/content/gdrive/Shared drives/Embryo_data/Embryo98/t64/c1/c1z15t64.png'\n",
            "starting 99 data\n",
            "finished 99 data\n",
            "starting 99 processed\n",
            "finished 99 processed\n",
            "starting 100 data\n",
            "finished 100 data\n",
            "starting 100 processed\n",
            "finished 100 processed\n",
            "starting 101 data\n",
            "finished 101 data\n",
            "starting 101 processed\n",
            "finished 101 processed\n",
            "starting 102 data\n",
            "finished 102 data\n",
            "starting 102 processed\n",
            "finished 102 processed\n",
            "starting 103 data\n",
            "ERROR 103 data: [Errno 2] No such file or directory: '/content/gdrive/Shared drives/Embryo_data/Embryo103/t91/c3/c3z1t91.png'\n",
            "starting 104 data\n",
            "ERROR 104 data: source: axis 1 is out of bounds for array of dimension 1\n",
            "starting 105 data\n",
            "ERROR 105 data: source: axis 1 is out of bounds for array of dimension 1\n",
            "starting 106 data\n",
            "ERROR 106 data: source: axis 1 is out of bounds for array of dimension 1\n",
            "starting 107 data\n",
            "ERROR 107 data: source: axis 1 is out of bounds for array of dimension 1\n",
            "starting 108 data\n",
            "ERROR 108 data: source: axis 1 is out of bounds for array of dimension 1\n",
            "starting 109 data\n",
            "finished 109 data\n",
            "starting 109 processed\n",
            "finished 109 processed\n",
            "starting 110 data\n",
            "finished 110 data\n",
            "starting 110 processed\n",
            "finished 110 processed\n",
            "starting 111 data\n",
            "finished 111 data\n",
            "starting 111 processed\n",
            "finished 111 processed\n",
            "starting 112 data\n"
          ],
          "name": "stdout"
        }
      ]
    },
    {
      "cell_type": "code",
      "metadata": {
        "id": "d5rZBZIY7dvN"
      },
      "source": [
        ""
      ],
      "execution_count": null,
      "outputs": []
    }
  ]
}