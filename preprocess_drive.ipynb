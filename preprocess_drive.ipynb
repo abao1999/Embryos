{
 "cells": [
  {
   "cell_type": "markdown",
   "metadata": {},
   "source": [
    "# Preprocessing Shared Drive Data"
   ]
  },
  {
   "cell_type": "markdown",
   "metadata": {},
   "source": [
    "This is a colab notebook for converting the Google Drive nested folder format into a multi-dimensional array per embryo."
   ]
  },
  {
   "cell_type": "code",
   "execution_count": 1,
   "metadata": {
    "id": "Wd2DDSgyTVQh"
   },
   "outputs": [],
   "source": [
    "import os\n",
    "import pandas as pd\n",
    "import numpy as np\n",
    "from google.colab import files, drive\n",
    "from matplotlib import image"
   ]
  },
  {
   "cell_type": "code",
   "execution_count": 2,
   "metadata": {
    "colab": {
     "base_uri": "https://localhost:8080/",
     "height": 34
    },
    "id": "e-uKMBiFTXWk",
    "outputId": "66e2bd3c-aa1a-464d-d477-75259d4bffc7"
   },
   "outputs": [],
   "source": [
    "drive.mount('/content/gdrive')"
   ]
  },
  {
   "cell_type": "code",
   "execution_count": 8,
   "metadata": {
    "id": "Md9DWZSPTZ4-"
   },
   "outputs": [],
   "source": [
    "shared_path = '/content/gdrive/Shared drives/Embryo_data'\n",
    "\n",
    "# ## For Running Locally...\n",
    "# shared_path = 'data/Embryo_data'\n",
    "\n",
    "embryo_data = pd.read_excel(f'{shared_path}/embryo_info_CS101.xlsx')\n",
    "\n",
    "output_labels = ['raw/fluo_data', 'raw/bf_data']\n",
    "\n",
    "# ## For Running Locally...\n",
    "# for ol in output_labels:\n",
    "#     ol_dir = f'{shared_path}/{ol}'\n",
    "#     if not os.path.exists(ol_dir):\n",
    "#         os.makedirs(ol_dir)"
   ]
  },
  {
   "cell_type": "code",
   "execution_count": 9,
   "metadata": {
    "colab": {
     "base_uri": "https://localhost:8080/",
     "height": 600
    },
    "id": "MT12R7RUXUDK",
    "outputId": "8c727516-5362-43cb-9f18-bdc611976632"
   },
   "outputs": [
    {
     "name": "stdout",
     "output_type": "stream",
     "text": [
      "0/43\n",
      "old shape = (22, 21, 512, 512), new shape = (22, 512, 512, 21)\n",
      "old shape = (22, 21, 512, 512), new shape = (22, 512, 512, 21)\n",
      "1/43\n"
     ]
    },
    {
     "ename": "FileNotFoundError",
     "evalue": "[Errno 2] No such file or directory: 'data/Embryo_data/Embryo3/t1/c1'",
     "output_type": "error",
     "traceback": [
      "\u001b[0;31m---------------------------------------------------------------------------\u001b[0m",
      "\u001b[0;31mFileNotFoundError\u001b[0m                         Traceback (most recent call last)",
      "\u001b[0;32m<ipython-input-9-186750bdba40>\u001b[0m in \u001b[0;36m<module>\u001b[0;34m\u001b[0m\n\u001b[1;32m     14\u001b[0m         \u001b[0;32mfor\u001b[0m \u001b[0mi\u001b[0m\u001b[0;34m,\u001b[0m \u001b[0mc\u001b[0m \u001b[0;32min\u001b[0m \u001b[0menumerate\u001b[0m\u001b[0;34m(\u001b[0m\u001b[0;34m[\u001b[0m\u001b[0mc_fluo\u001b[0m\u001b[0;34m,\u001b[0m \u001b[0mc_bf\u001b[0m\u001b[0;34m]\u001b[0m\u001b[0;34m)\u001b[0m\u001b[0;34m:\u001b[0m\u001b[0;34m\u001b[0m\u001b[0;34m\u001b[0m\u001b[0m\n\u001b[1;32m     15\u001b[0m             \u001b[0mvideo\u001b[0m \u001b[0;34m=\u001b[0m \u001b[0;34m[\u001b[0m\u001b[0;34m]\u001b[0m\u001b[0;34m\u001b[0m\u001b[0;34m\u001b[0m\u001b[0m\n\u001b[0;32m---> 16\u001b[0;31m             \u001b[0mmax_z\u001b[0m \u001b[0;34m=\u001b[0m \u001b[0mlen\u001b[0m\u001b[0;34m(\u001b[0m\u001b[0mos\u001b[0m\u001b[0;34m.\u001b[0m\u001b[0mlistdir\u001b[0m\u001b[0;34m(\u001b[0m\u001b[0mget_c_dir\u001b[0m\u001b[0;34m(\u001b[0m\u001b[0membryo_idx\u001b[0m\u001b[0;34m,\u001b[0m \u001b[0;36m1\u001b[0m\u001b[0;34m,\u001b[0m \u001b[0mc\u001b[0m\u001b[0;34m)\u001b[0m\u001b[0;34m)\u001b[0m\u001b[0;34m)\u001b[0m\u001b[0;34m\u001b[0m\u001b[0;34m\u001b[0m\u001b[0m\n\u001b[0m\u001b[1;32m     17\u001b[0m             \u001b[0;32mfor\u001b[0m \u001b[0mz\u001b[0m \u001b[0;32min\u001b[0m \u001b[0mrange\u001b[0m\u001b[0;34m(\u001b[0m\u001b[0;36m1\u001b[0m\u001b[0;34m,\u001b[0m \u001b[0mmax_z\u001b[0m\u001b[0;34m+\u001b[0m\u001b[0;36m1\u001b[0m\u001b[0;34m)\u001b[0m\u001b[0;34m:\u001b[0m\u001b[0;34m\u001b[0m\u001b[0;34m\u001b[0m\u001b[0m\n\u001b[1;32m     18\u001b[0m                 \u001b[0mz_data\u001b[0m \u001b[0;34m=\u001b[0m \u001b[0;34m[\u001b[0m\u001b[0;34m]\u001b[0m\u001b[0;34m\u001b[0m\u001b[0;34m\u001b[0m\u001b[0m\n",
      "\u001b[0;31mFileNotFoundError\u001b[0m: [Errno 2] No such file or directory: 'data/Embryo_data/Embryo3/t1/c1'"
     ]
    }
   ],
   "source": [
    "def get_c_dir(embryo_idx, t, c):\n",
    "    return f'{shared_path}/Embryo{embryo_idx}/t{t}/c{c}'\n",
    "\n",
    "def get_png_path(embryo_idx, t, c, z):\n",
    "    return f'{get_c_dir(embryo_idx, t, c)}/c{c}z{z}t{t}.png'\n",
    "\n",
    "for pd_idx in range(len(embryo_data)):\n",
    "    print(f'{pd_idx}/{len(embryo_data)}')\n",
    "    if all(embryo_data[['if_full_injected', 'fluo_quality_of_z_max_sum', 'fluo_quality_of_raw_png', 'if_healthy']].values[pd_idx]):\n",
    "        embryo_idx, t_num, c_fluo, c_bf = embryo_data[[\"embryo_index\", \"t_num\", \"fluo_channel\", \"DIC_channel\"]].values[pd_idx]\n",
    "        embryo_dir = f'{shared_path}/Embryo{embryo_idx}'\n",
    "\n",
    "        # axes per video will be (z, t, x, y) -> (z, x, y, t)\n",
    "        for i, c in enumerate([c_fluo, c_bf]):\n",
    "            video = []\n",
    "            max_z = len(os.listdir(get_c_dir(embryo_idx, 1, c)))\n",
    "            for z in range(1, max_z+1):\n",
    "                z_data = []\n",
    "                for t in range(1, t_num+1):\n",
    "                    filename = get_png_path(embryo_idx, t, c, z)\n",
    "                    img_arr = image.imread(filename)\n",
    "                    z_data.append(img_arr)\n",
    "                video.append(np.array(z_data))\n",
    "            video = np.array(video)\n",
    "            old_shape = video.shape\n",
    "            video = np.moveaxis(video, 1, -1)\n",
    "            print(f'old shape = {old_shape}, new shape = {video.shape}')\n",
    "            np.save(f'{shared_path}/{output_labels[i]}/embryo{embryo_idx}', video)\n",
    "    # input()"
   ]
  },
  {
   "cell_type": "code",
   "execution_count": null,
   "metadata": {},
   "outputs": [],
   "source": []
  }
 ],
 "metadata": {
  "colab": {
   "collapsed_sections": [],
   "name": "Untitled0.ipynb",
   "provenance": []
  },
  "kernelspec": {
   "display_name": "Python 3",
   "language": "python",
   "name": "python3"
  },
  "language_info": {
   "codemirror_mode": {
    "name": "ipython",
    "version": 3
   },
   "file_extension": ".py",
   "mimetype": "text/x-python",
   "name": "python",
   "nbconvert_exporter": "python",
   "pygments_lexer": "ipython3",
   "version": "3.7.4"
  }
 },
 "nbformat": 4,
 "nbformat_minor": 1
}
